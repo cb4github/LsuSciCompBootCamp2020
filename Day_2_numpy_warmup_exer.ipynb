{
  "nbformat": 4,
  "nbformat_minor": 0,
  "metadata": {
    "colab": {
      "name": "Copy of numpy_warmup_exer.ipynb",
      "provenance": [],
      "collapsed_sections": [],
      "include_colab_link": true
    },
    "kernelspec": {
      "display_name": "Python 3",
      "language": "python",
      "name": "python3"
    },
    "language_info": {
      "codemirror_mode": {
        "name": "ipython",
        "version": 3
      },
      "file_extension": ".py",
      "mimetype": "text/x-python",
      "name": "python",
      "nbconvert_exporter": "python",
      "pygments_lexer": "ipython3",
      "version": "3.6.4"
    }
  },
  "cells": [
    {
      "cell_type": "markdown",
      "metadata": {
        "id": "view-in-github",
        "colab_type": "text"
      },
      "source": [
        "<a href=\"https://colab.research.google.com/github/cb4github/LsuSciCompBootCamp2020/blob/master/Day_2_numpy_warmup_exer.ipynb\" target=\"_parent\"><img src=\"https://colab.research.google.com/assets/colab-badge.svg\" alt=\"Open In Colab\"/></a>"
      ]
    },
    {
      "cell_type": "code",
      "metadata": {
        "colab_type": "code",
        "id": "8UqjNabksdrD",
        "colab": {}
      },
      "source": [
        "from __future__ import print_function\n",
        "import numpy as np"
      ],
      "execution_count": 0,
      "outputs": []
    },
    {
      "cell_type": "markdown",
      "metadata": {
        "colab_type": "text",
        "id": "moft_pMusdrL"
      },
      "source": [
        "# Warm-up Exercise for Numpy"
      ]
    },
    {
      "cell_type": "markdown",
      "metadata": {
        "colab_type": "text",
        "id": "PWibTAqRsdrN"
      },
      "source": [
        "#### Create a 1D array of numbers from 0 to 9\n",
        "\n",
        "- Desired output:\n",
        "\n",
        "> `[0 1 2 3 4 5 6 7 8 9]`"
      ]
    },
    {
      "cell_type": "code",
      "metadata": {
        "colab_type": "code",
        "id": "ARM2TemzsdrO",
        "outputId": "badea71b-f9c2-4cb8-ebfd-2c50f5c95af5",
        "colab": {
          "base_uri": "https://localhost:8080/",
          "height": 34
        }
      },
      "source": [
        "arr = np.arange(10)\n",
        "print(arr)"
      ],
      "execution_count": 2,
      "outputs": [
        {
          "output_type": "stream",
          "text": [
            "[0 1 2 3 4 5 6 7 8 9]\n"
          ],
          "name": "stdout"
        }
      ]
    },
    {
      "cell_type": "markdown",
      "metadata": {
        "colab_type": "text",
        "id": "N8gynHpPsdrT"
      },
      "source": [
        "#### Convert the above 1D array to a 2D array with 2 rows\n",
        "\n",
        "- Desired output:\n",
        "\n",
        "```\n",
        "> [[0 1 2 3 4]\n",
        "   [5 6 7 8 9]]\n",
        " ```"
      ]
    },
    {
      "cell_type": "code",
      "metadata": {
        "colab_type": "code",
        "id": "v6gEGTz6sdrU",
        "outputId": "ca930b59-d2af-4fb7-a2c5-1b5213889f70",
        "colab": {
          "base_uri": "https://localhost:8080/",
          "height": 51
        }
      },
      "source": [
        "arr = arr.reshape(2, 5)\n",
        "print(arr)"
      ],
      "execution_count": 3,
      "outputs": [
        {
          "output_type": "stream",
          "text": [
            "[[0 1 2 3 4]\n",
            " [5 6 7 8 9]]\n"
          ],
          "name": "stdout"
        }
      ]
    },
    {
      "cell_type": "markdown",
      "metadata": {
        "colab_type": "text",
        "id": "himJOppusdrZ"
      },
      "source": [
        "#### Calculate the square of a 1D vector, then reshape it to a column vector\n",
        "\n",
        "- Desired output:\n",
        "\n",
        "```\n",
        "[0 1 2 3 4]\n",
        "[ 0  1  4  9 16]\n",
        "[[ 0]\n",
        " [ 1]\n",
        " [ 4]\n",
        " [ 9]\n",
        " [16]]\n",
        " ```"
      ]
    },
    {
      "cell_type": "code",
      "metadata": {
        "colab_type": "code",
        "id": "Q3225D4Ysdrd",
        "outputId": "f2935463-50b3-49e6-8fd0-9d42cf0b01c4",
        "colab": {
          "base_uri": "https://localhost:8080/",
          "height": 136
        }
      },
      "source": [
        "a = np.arange(5)\n",
        "print(a)\n",
        "a2 = np.square(a)\n",
        "print(a2)\n",
        "a2 = a2.reshape(5, 1)\n",
        "print(a2)"
      ],
      "execution_count": 5,
      "outputs": [
        {
          "output_type": "stream",
          "text": [
            "[0 1 2 3 4]\n",
            "[ 0  1  4  9 16]\n",
            "[[ 0]\n",
            " [ 1]\n",
            " [ 4]\n",
            " [ 9]\n",
            " [16]]\n"
          ],
          "name": "stdout"
        }
      ]
    },
    {
      "cell_type": "markdown",
      "metadata": {
        "colab_type": "text",
        "id": "njC4cbl5sdrh"
      },
      "source": [
        "#### Suppose in an experiment, there are two variables x (from 1 to 5) and y (from 2 to 4), using numpy's broadcasting to calculate the matrix of all combinations of `x^2 + y` \n",
        "\n",
        "- Desired output:\n",
        "\n",
        "\n",
        ">\n",
        "```\n",
        "[[ 3  4  5]\n",
        " [ 6  7  8]\n",
        " [11 12 13]\n",
        " [18 19 20]\n",
        " [27 28 29]]\n",
        " ```"
      ]
    },
    {
      "cell_type": "code",
      "metadata": {
        "colab_type": "code",
        "id": "zAdpTu43sdri",
        "colab": {
          "base_uri": "https://localhost:8080/",
          "height": 204
        },
        "outputId": "896c806b-d75e-42ef-8f86-78ab0552369a"
      },
      "source": [
        "x = np.arange(1,6).reshape(-1,1)\n",
        "print(x)\n",
        "y = np.arange(2,5)\n",
        "print(y)\n",
        "z = x**2 +y\n",
        "print(z)"
      ],
      "execution_count": 3,
      "outputs": [
        {
          "output_type": "stream",
          "text": [
            "[[1]\n",
            " [2]\n",
            " [3]\n",
            " [4]\n",
            " [5]]\n",
            "[2 3 4]\n",
            "[[ 3  4  5]\n",
            " [ 6  7  8]\n",
            " [11 12 13]\n",
            " [18 19 20]\n",
            " [27 28 29]]\n"
          ],
          "name": "stdout"
        }
      ]
    },
    {
      "cell_type": "markdown",
      "metadata": {
        "colab_type": "text",
        "id": "cje4oMbusdrm"
      },
      "source": [
        "#### Sum the rows and columns of the above matrix using Numpy's aggregation function\n",
        "\n",
        "- Desired output:\n",
        "\n",
        "> \n",
        "```\n",
        "[65 70 75]\n",
        "[12 21 36 57 84]\n",
        "```"
      ]
    },
    {
      "cell_type": "code",
      "metadata": {
        "colab_type": "code",
        "id": "m4lTMcPXsdro",
        "colab": {
          "base_uri": "https://localhost:8080/",
          "height": 51
        },
        "outputId": "c27fa6c6-6655-4188-b4e1-a08b37d486b2"
      },
      "source": [
        "row_sum = np.sum(z,axis=0)\n",
        "print(row_sum)\n",
        "col_sum = np.sum(z,axis=1)\n",
        "print(col_sum)"
      ],
      "execution_count": 4,
      "outputs": [
        {
          "output_type": "stream",
          "text": [
            "[65 70 75]\n",
            "[12 21 36 57 84]\n"
          ],
          "name": "stdout"
        }
      ]
    },
    {
      "cell_type": "markdown",
      "metadata": {
        "colab_type": "text",
        "id": "bD6vRpoSsdrt"
      },
      "source": [
        "#### In Numpy, matrix multiplication is done using the dot() function, verify the matrix multiplication result by writing for loops:\n",
        "\n",
        "Hint: (you only need to complete the below equation in the nested for loop)\n",
        "\n",
        "$$cc_{i,j} =\\sum_{k=1}^{nca} a_{i,k}b_{k,j} $$\n",
        "\n",
        "For Matrix multiplication, you can refer to the wiki link to recall the basics:\n",
        "\n",
        "https://en.wikipedia.org/wiki/Matrix_multiplication#Definition\n",
        "\n",
        "\n",
        "- Desired output:\n",
        "\n",
        "```\n",
        "a=\n",
        " [[0 1 2 3 4]\n",
        " [5 6 7 8 9]]\n",
        "b=\n",
        " [[0 1]\n",
        " [2 3]\n",
        " [4 5]\n",
        " [6 7]\n",
        " [8 9]]\n",
        "Using numpy's dot function: c=\n",
        " [[ 60  70]\n",
        " [160 195]]\n",
        "Verified results using for loop: cc=\n",
        " [[ 60  70]\n",
        " [160 195]]\n",
        " ```"
      ]
    },
    {
      "cell_type": "code",
      "metadata": {
        "colab_type": "code",
        "id": "D32K6zRlsdru",
        "outputId": "075f8196-e092-4946-d29b-fa5ced8bc79d",
        "colab": {
          "base_uri": "https://localhost:8080/",
          "height": 289
        }
      },
      "source": [
        "nra = 2\n",
        "nca = 5\n",
        "ncb = 2\n",
        "a = np.arange(nra*nca).reshape(nra,-1)\n",
        "b = np.arange(nra*nca).reshape(-1,ncb)\n",
        "print(\"a=\\n\",a)\n",
        "print(\"b=\\n\",b)\n",
        "c = a.dot(b)\n",
        "print(\"Using numpy's dot function: c=\\n\",c)\n",
        "cc = np.zeros_like(c)\n",
        "\n",
        "# complete the naive for loop below:\n",
        "for i in np.arange(nra):\n",
        "    for j in np.arange(ncb):\n",
        "        cc[i,j] = 0\n",
        "        for k in np.arange(nca):\n",
        "            # TODO: complete this line\n",
        "            cc[i,j] += a[i,k]*b[k,j]\n",
        "            pass\n",
        "print(\"Verified results using for loop: cc=\\n\",cc)\n",
        "print(\"np.all(c == cc)?\", np.all(c == cc))"
      ],
      "execution_count": 5,
      "outputs": [
        {
          "output_type": "stream",
          "text": [
            "a=\n",
            " [[0 1 2 3 4]\n",
            " [5 6 7 8 9]]\n",
            "b=\n",
            " [[0 1]\n",
            " [2 3]\n",
            " [4 5]\n",
            " [6 7]\n",
            " [8 9]]\n",
            "Using numpy's dot function: c=\n",
            " [[ 60  70]\n",
            " [160 195]]\n",
            "Verified results using for loop: cc=\n",
            " [[ 60  70]\n",
            " [160 195]]\n",
            "np.all(c == cc)? True\n"
          ],
          "name": "stdout"
        }
      ]
    },
    {
      "cell_type": "markdown",
      "metadata": {
        "colab_type": "text",
        "id": "MkqonkYTsxMg"
      },
      "source": [
        "#### Calculate the min, max and mean brain weight and body weight of a dataset\n",
        "\n",
        "In the demo notebook, we loaded the data from \"data.txt\" into a numpy array a, The 3 data columns include:\n",
        "1.  the index,\n",
        "1.  the brain weight;\n",
        "1. the body weight.\n",
        "\n",
        "Index 1-5 (row 1-5) are training set, index 6-9 (row 6-9) are test set\n",
        "\n",
        "Calculate \n",
        "\n",
        "1. min, max and mean brain weight for training set \n",
        "\n",
        "2. min, max and mean body weight for test set \n",
        "\n",
        "\n",
        "Note that you should ***not*** use a for loop to complete this."
      ]
    },
    {
      "cell_type": "code",
      "metadata": {
        "colab_type": "code",
        "id": "JJr22dXfswQS",
        "outputId": "02e9ed3c-43e1-4704-ecaa-346218a64bc6",
        "colab": {
          "base_uri": "https://localhost:8080/",
          "height": 850
        }
      },
      "source": [
        "# download the file to local virtual machine\n",
        "! if [ ! -f \"data.txt\" ]; then wget 'https://raw.githubusercontent.com/lsuhpchelp/lbrnloniworkshop2019/master/day2_python/data.txt'; else echo 'file exists'; fi;\n",
        "! cat data.txt # uncomment if you want to take a look at the data\n",
        "txtfile = 'data.txt'\n",
        "a = np.loadtxt(txtfile,skiprows=16,usecols={0,1,2},dtype=None,comments=\"#\")\n",
        "print(\"\\nloaded data:\\n\", a)"
      ],
      "execution_count": 6,
      "outputs": [
        {
          "output_type": "stream",
          "text": [
            "--2020-06-02 18:26:33--  https://raw.githubusercontent.com/lsuhpchelp/lbrnloniworkshop2019/master/day2_python/data.txt\n",
            "Resolving raw.githubusercontent.com (raw.githubusercontent.com)... 151.101.0.133, 151.101.64.133, 151.101.128.133, ...\n",
            "Connecting to raw.githubusercontent.com (raw.githubusercontent.com)|151.101.0.133|:443... connected.\n",
            "HTTP request sent, awaiting response... 200 OK\n",
            "Length: 630 [text/plain]\n",
            "Saving to: ‘data.txt’\n",
            "\n",
            "\rdata.txt              0%[                    ]       0  --.-KB/s               \rdata.txt            100%[===================>]     630  --.-KB/s    in 0s      \n",
            "\n",
            "2020-06-02 18:26:33 (38.8 MB/s) - ‘data.txt’ saved [630/630]\n",
            "\n",
            "#  x01.txt\n",
            "#    Academic Press, 1991, page 304,\n",
            "#    ISBN 0-12-656460-4.\n",
            "#    There are 62 rows of data.  The 3 data columns include:\n",
            "#      I,  the index,\n",
            "#      A1, the brain weight;\n",
            "#      B,  the body weight.\n",
            "#    We seek a model of the form:\n",
            "#\n",
            "#      B = A1 * X1.\n",
            "#\n",
            "3 columns\n",
            "62 rows\n",
            "Index\n",
            "Brain Weight\n",
            "Body Weight\n",
            "# here is the training set\n",
            " 1     3.385    44.500 abjhk\n",
            " 2     0.480    33.38  bc_00asdk\n",
            " 3     1.350     8.100 fb\n",
            " 4   465.000   423.000 cer\n",
            " 5    36.330   119.500 rg\n",
            "# here is the cross validation set\n",
            " 6    27.660   115.000 rk\n",
            " 7    14.830    98.200 fff\n",
            " 8     1.040     5.500 zxs\n",
            " 9     4.190    58.000 kij\n",
            "\n",
            "loaded data:\n",
            " [[  1.      3.385  44.5  ]\n",
            " [  2.      0.48   33.38 ]\n",
            " [  3.      1.35    8.1  ]\n",
            " [  4.    465.    423.   ]\n",
            " [  5.     36.33  119.5  ]\n",
            " [  6.     27.66  115.   ]\n",
            " [  7.     14.83   98.2  ]\n",
            " [  8.      1.04    5.5  ]\n",
            " [  9.      4.19   58.   ]]\n"
          ],
          "name": "stdout"
        }
      ]
    },
    {
      "cell_type": "code",
      "metadata": {
        "colab_type": "code",
        "id": "HRhXNB_Ws7vp",
        "outputId": "01d5b9ad-0bf1-41b3-9130-e18e8de8a657",
        "colab": {
          "base_uri": "https://localhost:8080/",
          "height": 102
        }
      },
      "source": [
        "train_brain_weight = a[:5,1]\n",
        "print(\"training set, brain weight:\", train_brain_weight)\n",
        "train_min_brain_weight = np.min(train_brain_weight) #0 # complete the 3 calcs using numpy's aggregation and slicing\n",
        "train_max_brain_weight = np.max(train_brain_weight) #0\n",
        "train_avg_brain_weight = np.mean(train_brain_weight) #0\n",
        "print(\"training set, brain weight statistics:\")\n",
        "print(\"Min=\",train_min_brain_weight)\n",
        "print(\"Max=\",train_max_brain_weight)\n",
        "print(\"Mean={:.2f}\".format(train_avg_brain_weight))"
      ],
      "execution_count": 10,
      "outputs": [
        {
          "output_type": "stream",
          "text": [
            "training set, brain weight: [  3.385   0.48    1.35  465.     36.33 ]\n",
            "training set, brain weight statistics:\n",
            "Min= 0.48\n",
            "Max= 465.0\n",
            "Mean=101.31\n"
          ],
          "name": "stdout"
        }
      ]
    },
    {
      "cell_type": "code",
      "metadata": {
        "colab_type": "code",
        "id": "W52xp_yYsdrz",
        "outputId": "2bf101f1-cfdf-43b0-9b70-8b45d9ad8c5a",
        "colab": {
          "base_uri": "https://localhost:8080/",
          "height": 102
        }
      },
      "source": [
        "test_body_weight = a[5:,2]\n",
        "print(\"test set, body weight:\", test_body_weight)\n",
        "test_min_body_weight = np.min(test_body_weight) #0 # complete the 3 calcs using numpy's aggregation and slicing\n",
        "test_max_body_weight = np.max(test_body_weight) #0\n",
        "test_avg_body_weight = np.mean(test_body_weight) #0\n",
        "print(\"test set, body weight statistics:\")\n",
        "print(\"Min=\",test_min_body_weight)\n",
        "print(\"Max=\",test_max_body_weight)\n",
        "print(\"Mean={:.2f}\".format(test_avg_body_weight))"
      ],
      "execution_count": 13,
      "outputs": [
        {
          "output_type": "stream",
          "text": [
            "test set, body weight: [115.   98.2   5.5  58. ]\n",
            "test set, body weight statistics:\n",
            "Min= 5.5\n",
            "Max= 115.0\n",
            "Mean=69.17\n"
          ],
          "name": "stdout"
        }
      ]
    },
    {
      "cell_type": "code",
      "metadata": {
        "colab_type": "code",
        "id": "jDwarZyNtVuX",
        "colab": {}
      },
      "source": [
        ""
      ],
      "execution_count": 0,
      "outputs": []
    }
  ]
}