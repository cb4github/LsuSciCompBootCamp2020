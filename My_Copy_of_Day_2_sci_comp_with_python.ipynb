{
  "nbformat": 4,
  "nbformat_minor": 0,
  "metadata": {
    "colab": {
      "name": "Copy of sci_comp_with_python.ipynb",
      "provenance": [],
      "collapsed_sections": [
        "UFekiWAcgO5y",
        "qsbFX3PjgO63",
        "wCROdnDBgO7E",
        "HwpH4UJ9gO7g"
      ],
      "include_colab_link": true
    },
    "kernelspec": {
      "display_name": "Python 3",
      "language": "python",
      "name": "python3"
    },
    "language_info": {
      "codemirror_mode": {
        "name": "ipython",
        "version": 3
      },
      "file_extension": ".py",
      "mimetype": "text/x-python",
      "name": "python",
      "nbconvert_exporter": "python",
      "pygments_lexer": "ipython3",
      "version": "3.7.6"
    }
  },
  "cells": [
    {
      "cell_type": "markdown",
      "metadata": {
        "id": "view-in-github",
        "colab_type": "text"
      },
      "source": [
        "<a href=\"https://colab.research.google.com/github/cb4github/LsuSciCompBootCamp2020/blob/master/My_Copy_of_Day_2_sci_comp_with_python.ipynb\" target=\"_parent\"><img src=\"https://colab.research.google.com/assets/colab-badge.svg\" alt=\"Open In Colab\"/></a>"
      ]
    },
    {
      "cell_type": "markdown",
      "metadata": {
        "colab_type": "text",
        "id": "DdlQwl05ibyS"
      },
      "source": [
        "# Scientific Computing with Python\n",
        "## June 02 2020\n",
        "## 3rd LBRN-LONI Scientific Computing Bootcamp"
      ]
    },
    {
      "cell_type": "markdown",
      "metadata": {
        "colab_type": "text",
        "id": "EHTFf7M3YjZ7"
      },
      "source": [
        "# Outline\n",
        "\n",
        " * Day 1 Basic Python Review\n",
        " * Introducing Python Modules: \n",
        "     - Numpy\n",
        "     - Scipy\n",
        " * Examples:\n",
        "     - Calculate deriving of a function\n",
        "     - Convert RGB image to Grayscale\n",
        "     - Simple regression example\n",
        " * Excercise (will be talked about in the afternoon session)"
      ]
    },
    {
      "cell_type": "markdown",
      "metadata": {
        "colab_type": "text",
        "id": "NxrqUBgMYjZ8"
      },
      "source": [
        "# Day 1 Basic Python Recap\n",
        "\n",
        " * Python is a general-purpose interpreted, interactive, object-oriented, and high-level programming language.\n",
        " * It was created by Guido van Rossum during 1985-1990. Like Perl, Python source code is also available under the GNU General Public License (GPL)."
      ]
    },
    {
      "cell_type": "markdown",
      "metadata": {
        "colab_type": "text",
        "id": "rniBs6qggO1c"
      },
      "source": [
        "### Demostration of Python Loop"
      ]
    },
    {
      "cell_type": "code",
      "metadata": {
        "colab_type": "code",
        "id": "BDxT2c9JgO1d",
        "outputId": "cfdc08f7-dc22-4e8f-a855-9a6c896652b9",
        "colab": {
          "base_uri": "https://localhost:8080/",
          "height": 51
        }
      },
      "source": [
        "a = list(range(5))\n",
        "print(a)\n",
        "range(5)"
      ],
      "execution_count": 0,
      "outputs": [
        {
          "output_type": "stream",
          "text": [
            "[0, 1, 2, 3, 4]\n"
          ],
          "name": "stdout"
        },
        {
          "output_type": "execute_result",
          "data": {
            "text/plain": [
              "range(0, 5)"
            ]
          },
          "metadata": {
            "tags": []
          },
          "execution_count": 150
        }
      ]
    },
    {
      "cell_type": "code",
      "metadata": {
        "colab_type": "code",
        "id": "WX1vO658gO1n",
        "outputId": "66160205-f235-4da1-c102-1998c8132faa",
        "colab": {
          "base_uri": "https://localhost:8080/",
          "height": 34
        }
      },
      "source": [
        "for idx in range(len(a)):\n",
        "    a[idx] += 5\n",
        "print(a)"
      ],
      "execution_count": 0,
      "outputs": [
        {
          "output_type": "stream",
          "text": [
            "[5, 6, 7, 8, 9]\n"
          ],
          "name": "stdout"
        }
      ]
    },
    {
      "cell_type": "markdown",
      "metadata": {
        "colab_type": "text",
        "id": "uxalkqmMgO1r"
      },
      "source": [
        "### Python Tuples\n",
        "- A tuple is a sequence of immutable Python objects. Tuples are sequences, just like lists. \n",
        "- The differences between tuples and lists are, the tuples cannot be changed unlike lists and tuples use parentheses, whereas lists use square brackets."
      ]
    },
    {
      "cell_type": "code",
      "metadata": {
        "colab_type": "code",
        "id": "Y_W6J9fhgO1t",
        "outputId": "570b31b3-433b-4cf4-8593-b66403394235",
        "colab": {
          "base_uri": "https://localhost:8080/",
          "height": 51
        }
      },
      "source": [
        "tup1 = ('physics', 1997, 'chemistry', 2000); \n",
        "print(tup1)\n",
        "print(type(tup1))"
      ],
      "execution_count": 0,
      "outputs": [
        {
          "output_type": "stream",
          "text": [
            "('physics', 1997, 'chemistry', 2000)\n",
            "<class 'tuple'>\n"
          ],
          "name": "stdout"
        }
      ]
    },
    {
      "cell_type": "code",
      "metadata": {
        "colab_type": "code",
        "id": "bVgjTZFhgO1y",
        "outputId": "13eb73ae-6946-43ec-fe9f-a163736df6bf",
        "colab": {
          "base_uri": "https://localhost:8080/",
          "height": 34
        }
      },
      "source": [
        "tup2 = (1, 2, 3, 4, 5);\n",
        "print(tup2)"
      ],
      "execution_count": 0,
      "outputs": [
        {
          "output_type": "stream",
          "text": [
            "(1, 2, 3, 4, 5)\n"
          ],
          "name": "stdout"
        }
      ]
    },
    {
      "cell_type": "code",
      "metadata": {
        "colab_type": "code",
        "id": "KmIIT7MQgO13",
        "outputId": "8c9e0c97-c77d-4f60-cecf-248d5c7915e3",
        "colab": {
          "base_uri": "https://localhost:8080/",
          "height": 34
        }
      },
      "source": [
        "tup3 = \"a\", \"b\", \"c\", \"d\";\n",
        "print(tup3)"
      ],
      "execution_count": 0,
      "outputs": [
        {
          "output_type": "stream",
          "text": [
            "('a', 'b', 'c', 'd')\n"
          ],
          "name": "stdout"
        }
      ]
    },
    {
      "cell_type": "code",
      "metadata": {
        "colab_type": "code",
        "id": "z0p5vZEGgO16",
        "outputId": "572bc310-cd5f-4c6b-e53b-ab82a0654325",
        "colab": {
          "base_uri": "https://localhost:8080/",
          "height": 34
        }
      },
      "source": [
        "tup4 = 3, 5, 7\n",
        "print(tup4)"
      ],
      "execution_count": 0,
      "outputs": [
        {
          "output_type": "stream",
          "text": [
            "(3, 5, 7)\n"
          ],
          "name": "stdout"
        }
      ]
    },
    {
      "cell_type": "code",
      "metadata": {
        "colab_type": "code",
        "id": "Tw-cF5RLgO1-",
        "outputId": "c97cd4a2-b6d5-409b-842c-86fe5674bd73",
        "colab": {
          "base_uri": "https://localhost:8080/",
          "height": 34
        }
      },
      "source": [
        "# The empty tuple is written as two parentheses containing nothing\n",
        "tup1 = ();\n",
        "print(tup1)"
      ],
      "execution_count": 0,
      "outputs": [
        {
          "output_type": "stream",
          "text": [
            "()\n"
          ],
          "name": "stdout"
        }
      ]
    },
    {
      "cell_type": "code",
      "metadata": {
        "colab_type": "code",
        "id": "f-uuRfIpgO2G",
        "outputId": "4ff04bbe-6f5e-4a9e-89a3-6b5ac2258826",
        "colab": {
          "base_uri": "https://localhost:8080/",
          "height": 34
        }
      },
      "source": [
        "# To write a tuple containing a single value you have to include a comma,\n",
        "tup1 = (50,);\n",
        "print(tup1)"
      ],
      "execution_count": 0,
      "outputs": [
        {
          "output_type": "stream",
          "text": [
            "(50,)\n"
          ],
          "name": "stdout"
        }
      ]
    },
    {
      "cell_type": "code",
      "metadata": {
        "colab_type": "code",
        "id": "-To5ShBygO2N",
        "outputId": "a4a1a6b4-b2ff-4b18-c13c-1e069c8239bf",
        "colab": {
          "base_uri": "https://localhost:8080/",
          "height": 34
        }
      },
      "source": [
        "tup1a = 50,\n",
        "print(tup1a)"
      ],
      "execution_count": 0,
      "outputs": [
        {
          "output_type": "stream",
          "text": [
            "(50,)\n"
          ],
          "name": "stdout"
        }
      ]
    },
    {
      "cell_type": "code",
      "metadata": {
        "colab_type": "code",
        "id": "1AAhbezfgO2U",
        "outputId": "6b407d05-694d-4bfe-d9f1-6ea138dbed0f",
        "colab": {
          "base_uri": "https://localhost:8080/",
          "height": 34
        }
      },
      "source": [
        "# Accessing Values in Tuples\n",
        "print(\"tup1[0]: \", tup1[0])"
      ],
      "execution_count": 0,
      "outputs": [
        {
          "output_type": "stream",
          "text": [
            "tup1[0]:  50\n"
          ],
          "name": "stdout"
        }
      ]
    },
    {
      "cell_type": "code",
      "metadata": {
        "colab_type": "code",
        "id": "-e0sR_fBgO2Z",
        "outputId": "da4634d0-b5fd-435b-8009-59767627f656",
        "colab": {
          "base_uri": "https://localhost:8080/",
          "height": 180
        }
      },
      "source": [
        "#tuples are immutable, they cannot be changed\n",
        "tup1[0]=5"
      ],
      "execution_count": 0,
      "outputs": [
        {
          "output_type": "error",
          "ename": "TypeError",
          "evalue": "ignored",
          "traceback": [
            "\u001b[0;31m---------------------------------------------------------------------------\u001b[0m",
            "\u001b[0;31mTypeError\u001b[0m                                 Traceback (most recent call last)",
            "\u001b[0;32m<ipython-input-11-58f56a655e7a>\u001b[0m in \u001b[0;36m<module>\u001b[0;34m()\u001b[0m\n\u001b[1;32m      1\u001b[0m \u001b[0;31m#tuples are immutable, they cannot be changed\u001b[0m\u001b[0;34m\u001b[0m\u001b[0;34m\u001b[0m\u001b[0;34m\u001b[0m\u001b[0m\n\u001b[0;32m----> 2\u001b[0;31m \u001b[0mtup1\u001b[0m\u001b[0;34m[\u001b[0m\u001b[0;36m0\u001b[0m\u001b[0;34m]\u001b[0m\u001b[0;34m=\u001b[0m\u001b[0;36m5\u001b[0m\u001b[0;34m\u001b[0m\u001b[0;34m\u001b[0m\u001b[0m\n\u001b[0m",
            "\u001b[0;31mTypeError\u001b[0m: 'tuple' object does not support item assignment"
          ]
        }
      ]
    },
    {
      "cell_type": "code",
      "metadata": {
        "colab_type": "code",
        "id": "-iQ4Ev8HgO2d",
        "outputId": "6a36a368-c55c-4592-f8d3-83ad98daede7",
        "scrolled": true,
        "colab": {
          "base_uri": "https://localhost:8080/",
          "height": 34
        }
      },
      "source": [
        "print(\"tup2[1:5]: \", tup2[1:5])"
      ],
      "execution_count": 0,
      "outputs": [
        {
          "output_type": "stream",
          "text": [
            "tup2[1:5]:  (2, 3, 4, 5)\n"
          ],
          "name": "stdout"
        }
      ]
    },
    {
      "cell_type": "code",
      "metadata": {
        "colab_type": "code",
        "id": "UJrK7VOXgO2h",
        "outputId": "d8a4f1a4-556d-4fd0-a400-d1cd49bc492d",
        "colab": {
          "base_uri": "https://localhost:8080/",
          "height": 34
        }
      },
      "source": [
        "# Updating Tuples, create a new tuple as follows\n",
        "tup3 = tup1 + tup2\n",
        "print(tup3)"
      ],
      "execution_count": 0,
      "outputs": [
        {
          "output_type": "stream",
          "text": [
            "(50, 1, 2, 3, 4, 5)\n"
          ],
          "name": "stdout"
        }
      ]
    },
    {
      "cell_type": "code",
      "metadata": {
        "colab_type": "code",
        "id": "j5bH2ZrvgO2m",
        "outputId": "272d4d1b-d5af-4332-b938-972da486b72f",
        "colab": {
          "base_uri": "https://localhost:8080/",
          "height": 214
        }
      },
      "source": [
        "# delete tuple elements\n",
        "print(\"Deleting tup3 : \")\n",
        "del tup3;\n",
        "print(tup3) # this will reture an error"
      ],
      "execution_count": 0,
      "outputs": [
        {
          "output_type": "stream",
          "text": [
            "Deleting tup3 : \n"
          ],
          "name": "stdout"
        },
        {
          "output_type": "error",
          "ename": "NameError",
          "evalue": "ignored",
          "traceback": [
            "\u001b[0;31m---------------------------------------------------------------------------\u001b[0m",
            "\u001b[0;31mNameError\u001b[0m                                 Traceback (most recent call last)",
            "\u001b[0;32m<ipython-input-14-a3f411e5f181>\u001b[0m in \u001b[0;36m<module>\u001b[0;34m()\u001b[0m\n\u001b[1;32m      2\u001b[0m \u001b[0mprint\u001b[0m\u001b[0;34m(\u001b[0m\u001b[0;34m\"Deleting tup3 : \"\u001b[0m\u001b[0;34m)\u001b[0m\u001b[0;34m\u001b[0m\u001b[0;34m\u001b[0m\u001b[0m\n\u001b[1;32m      3\u001b[0m \u001b[0;32mdel\u001b[0m \u001b[0mtup3\u001b[0m\u001b[0;34m;\u001b[0m\u001b[0;34m\u001b[0m\u001b[0;34m\u001b[0m\u001b[0m\n\u001b[0;32m----> 4\u001b[0;31m \u001b[0mprint\u001b[0m\u001b[0;34m(\u001b[0m\u001b[0mtup3\u001b[0m\u001b[0;34m)\u001b[0m \u001b[0;31m# this will reture an error\u001b[0m\u001b[0;34m\u001b[0m\u001b[0;34m\u001b[0m\u001b[0m\n\u001b[0m",
            "\u001b[0;31mNameError\u001b[0m: name 'tup3' is not defined"
          ]
        }
      ]
    },
    {
      "cell_type": "markdown",
      "metadata": {
        "colab_type": "text",
        "id": "nmJz3GbzgO2p"
      },
      "source": [
        "# Numpy Overview\n",
        "- NumPy (Numeric Python) is the fundamental package for scientific computing in Python.\n",
        "- It is a Python library that provides a multidimensional array object, various derived objects (such as masked arrays and matrices)\n",
        "- An assortment of routines for fast operations on arrays, including mathematical, logical, shape manipulation, sorting, selecting, I/O, discrete Fourier transforms, basic linear algebra, basic statistical operations, random simulation and much more.\n",
        "- In short , NumPy package provides basic routines for manipulating large arrays and matrices of numeric data. "
      ]
    },
    {
      "cell_type": "markdown",
      "metadata": {
        "colab_type": "text",
        "id": "pQKjLrqxgO2q"
      },
      "source": [
        "# Simple array math using np.array.\n",
        "* A numpy array is a grid of values.\n",
        "* All of the elements have the same type.\n",
        "* NumPy array starts its index from 0, end at N-1 (C-style)"
      ]
    },
    {
      "cell_type": "code",
      "metadata": {
        "colab_type": "code",
        "id": "V1aie9_kgO2r",
        "colab": {}
      },
      "source": [
        "import numpy as np # an alias for the namespace\n",
        "a = np.array([1,2,3])\n",
        "b = np.array((4,5,6))"
      ],
      "execution_count": 0,
      "outputs": []
    },
    {
      "cell_type": "code",
      "metadata": {
        "colab_type": "code",
        "id": "EXkhrEOLgO2u",
        "outputId": "5cddf60b-63ab-494f-9ff9-83b0c86b725b",
        "colab": {
          "base_uri": "https://localhost:8080/",
          "height": 51
        }
      },
      "source": [
        "print(a)\n",
        "print(b)"
      ],
      "execution_count": 0,
      "outputs": [
        {
          "output_type": "stream",
          "text": [
            "[1 2 3]\n",
            "[4 5 6]\n"
          ],
          "name": "stdout"
        }
      ]
    },
    {
      "cell_type": "code",
      "metadata": {
        "colab_type": "code",
        "outputId": "13954069-2ab0-4cc7-8204-9c683ddf948f",
        "id": "jgYxJLl_YjbB",
        "colab": {
          "base_uri": "https://localhost:8080/",
          "height": 51
        }
      },
      "source": [
        "print(a+1)\n",
        "print(b*2)"
      ],
      "execution_count": 0,
      "outputs": [
        {
          "output_type": "stream",
          "text": [
            "[2 3 4]\n",
            "[ 8 10 12]\n"
          ],
          "name": "stdout"
        }
      ]
    },
    {
      "cell_type": "code",
      "metadata": {
        "colab_type": "code",
        "id": "aVHqCV03gO23",
        "outputId": "645893b0-d3a1-4fc7-d543-afc94ffa9948",
        "colab": {
          "base_uri": "https://localhost:8080/",
          "height": 34
        }
      },
      "source": [
        "print(a+b)"
      ],
      "execution_count": 0,
      "outputs": [
        {
          "output_type": "stream",
          "text": [
            "[5 7 9]\n"
          ],
          "name": "stdout"
        }
      ]
    },
    {
      "cell_type": "code",
      "metadata": {
        "colab_type": "code",
        "id": "lHcPCc3ygO29",
        "outputId": "1ceaac2d-9e4f-4908-82b8-4d6a24924f10",
        "colab": {
          "base_uri": "https://localhost:8080/",
          "height": 34
        }
      },
      "source": [
        "print(a*b)"
      ],
      "execution_count": 0,
      "outputs": [
        {
          "output_type": "stream",
          "text": [
            "[ 4 10 18]\n"
          ],
          "name": "stdout"
        }
      ]
    },
    {
      "cell_type": "code",
      "metadata": {
        "colab_type": "code",
        "id": "w28wlRt1gO3C",
        "outputId": "1230f748-97e1-49df-fc21-3a5b2b4ae5b7",
        "scrolled": true,
        "colab": {
          "base_uri": "https://localhost:8080/",
          "height": 34
        }
      },
      "source": [
        "print(a ** b)"
      ],
      "execution_count": 0,
      "outputs": [
        {
          "output_type": "stream",
          "text": [
            "[  1  32 729]\n"
          ],
          "name": "stdout"
        }
      ]
    },
    {
      "cell_type": "markdown",
      "metadata": {
        "colab_type": "text",
        "id": "gMXQar19gO3G"
      },
      "source": [
        "* Setting Array Element Values"
      ]
    },
    {
      "cell_type": "code",
      "metadata": {
        "colab_type": "code",
        "id": "2LIyxH3dgO3G",
        "outputId": "fb7652a0-7135-4ecb-feab-f60f6052df22",
        "scrolled": true,
        "colab": {
          "base_uri": "https://localhost:8080/",
          "height": 34
        }
      },
      "source": [
        "a[0]=11\n",
        "print(a)"
      ],
      "execution_count": 0,
      "outputs": [
        {
          "output_type": "stream",
          "text": [
            "[11  2  3]\n"
          ],
          "name": "stdout"
        }
      ]
    },
    {
      "cell_type": "code",
      "metadata": {
        "colab_type": "code",
        "id": "3TUrfRetgO3K",
        "outputId": "1b2466c1-0523-468b-9172-9ab5bb2aebea",
        "colab": {
          "base_uri": "https://localhost:8080/",
          "height": 34
        }
      },
      "source": [
        "a.fill(0) # set all values in the array with 0\n",
        "print(a)"
      ],
      "execution_count": 0,
      "outputs": [
        {
          "output_type": "stream",
          "text": [
            "[0 0 0]\n"
          ],
          "name": "stdout"
        }
      ]
    },
    {
      "cell_type": "code",
      "metadata": {
        "colab_type": "code",
        "id": "A7fm17ocgO3O",
        "colab": {}
      },
      "source": [
        "a[:]=1 # why we need to use [:]?"
      ],
      "execution_count": 0,
      "outputs": []
    },
    {
      "cell_type": "code",
      "metadata": {
        "colab_type": "code",
        "id": "vHnW8gihgO3R",
        "outputId": "be60115a-2d27-42ad-f898-ec7499971a76",
        "colab": {
          "base_uri": "https://localhost:8080/",
          "height": 68
        }
      },
      "source": [
        "print(a)\n",
        "print(a.dtype) # note that a is still int64 type !\n",
        "print(type(a))"
      ],
      "execution_count": 0,
      "outputs": [
        {
          "output_type": "stream",
          "text": [
            "[1 1 1]\n",
            "int64\n",
            "<class 'numpy.ndarray'>\n"
          ],
          "name": "stdout"
        }
      ]
    },
    {
      "cell_type": "code",
      "metadata": {
        "colab_type": "code",
        "id": "a7mz0so8gO3X",
        "outputId": "d041c7e4-bb01-4cab-8f27-a2d2d604e02b",
        "colab": {
          "base_uri": "https://localhost:8080/",
          "height": 34
        }
      },
      "source": [
        "a[0]=10.6 # decimal parts are truncated, be careful!\n",
        "print(a)"
      ],
      "execution_count": 0,
      "outputs": [
        {
          "output_type": "stream",
          "text": [
            "[10  1  1]\n"
          ],
          "name": "stdout"
        }
      ]
    },
    {
      "cell_type": "code",
      "metadata": {
        "colab_type": "code",
        "id": "1w8xnA7EgO3b",
        "outputId": "f913032b-3636-4ea2-fc93-d9b67e1b33d5",
        "colab": {
          "base_uri": "https://localhost:8080/",
          "height": 34
        }
      },
      "source": [
        "a.fill(-3.7) # fill() will have the same behavior\n",
        "print(a)"
      ],
      "execution_count": 0,
      "outputs": [
        {
          "output_type": "stream",
          "text": [
            "[-3 -3 -3]\n"
          ],
          "name": "stdout"
        }
      ]
    },
    {
      "cell_type": "markdown",
      "metadata": {
        "colab_type": "text",
        "id": "lohjScE1gO3g"
      },
      "source": [
        "#### Create floating value arrays"
      ]
    },
    {
      "cell_type": "code",
      "metadata": {
        "colab_type": "code",
        "id": "j31EKbhYgO3h",
        "outputId": "7d265d4b-db09-4d46-bf24-8bda7772e508",
        "scrolled": true,
        "colab": {
          "base_uri": "https://localhost:8080/",
          "height": 51
        }
      },
      "source": [
        "a = np.array([1,2,3.1])\n",
        "print(a)\n",
        "print(a.dtype)"
      ],
      "execution_count": 0,
      "outputs": [
        {
          "output_type": "stream",
          "text": [
            "[1.  2.  3.1]\n",
            "float64\n"
          ],
          "name": "stdout"
        }
      ]
    },
    {
      "cell_type": "code",
      "metadata": {
        "colab_type": "code",
        "id": "yZcoMcUEgO3k",
        "outputId": "d435f948-3477-4104-bba6-b1e6204fa562",
        "scrolled": true,
        "colab": {
          "base_uri": "https://localhost:8080/",
          "height": 34
        }
      },
      "source": [
        "a = np.array([1,2,3],dtype=float)\n",
        "print(a)"
      ],
      "execution_count": 0,
      "outputs": [
        {
          "output_type": "stream",
          "text": [
            "[1. 2. 3.]\n"
          ],
          "name": "stdout"
        }
      ]
    },
    {
      "cell_type": "code",
      "metadata": {
        "colab_type": "code",
        "id": "cnkCv0_fgO3p",
        "outputId": "77028bbf-e474-4a0f-d5cd-228cd93edd9f",
        "scrolled": true,
        "colab": {
          "base_uri": "https://localhost:8080/",
          "height": 34
        }
      },
      "source": [
        "a = np.array([1,2,3]).astype(float)\n",
        "print(a)"
      ],
      "execution_count": 0,
      "outputs": [
        {
          "output_type": "stream",
          "text": [
            "[1. 2. 3.]\n"
          ],
          "name": "stdout"
        }
      ]
    },
    {
      "cell_type": "markdown",
      "metadata": {
        "colab_type": "text",
        "id": "J11afn09gO3t"
      },
      "source": [
        "* #### Numpy Array Properties"
      ]
    },
    {
      "cell_type": "code",
      "metadata": {
        "colab_type": "code",
        "id": "_YbsVuI-gO3u",
        "outputId": "385d20df-b2bc-46eb-fea5-30c8ad73e3e9",
        "colab": {
          "base_uri": "https://localhost:8080/",
          "height": 34
        }
      },
      "source": [
        "a = np.array([0,1,2,3]) # create a from a list\n",
        "print(a)"
      ],
      "execution_count": 0,
      "outputs": [
        {
          "output_type": "stream",
          "text": [
            "[0 1 2 3]\n"
          ],
          "name": "stdout"
        }
      ]
    },
    {
      "cell_type": "code",
      "metadata": {
        "colab_type": "code",
        "id": "MkWjAiiygO4F",
        "outputId": "9823e9aa-7ca7-48be-c9bd-4889b931f5ff",
        "colab": {
          "base_uri": "https://localhost:8080/",
          "height": 51
        }
      },
      "source": [
        "# shape returns a tuple listing the length of the array\n",
        "print(a.shape) # or np.shape(a)\n",
        "type(a.shape)"
      ],
      "execution_count": 0,
      "outputs": [
        {
          "output_type": "stream",
          "text": [
            "(4,)\n"
          ],
          "name": "stdout"
        },
        {
          "output_type": "execute_result",
          "data": {
            "text/plain": [
              "tuple"
            ]
          },
          "metadata": {
            "tags": []
          },
          "execution_count": 32
        }
      ]
    },
    {
      "cell_type": "code",
      "metadata": {
        "colab_type": "code",
        "id": "kdwYTiwngO4K",
        "outputId": "0123758c-6288-428d-a064-905508b5adf0",
        "scrolled": true,
        "colab": {
          "base_uri": "https://localhost:8080/",
          "height": 51
        }
      },
      "source": [
        "print(a.size) # or np.size(a), return the total number of elements\n",
        "# return the number of dimensions of the array\n",
        "print(a.ndim)"
      ],
      "execution_count": 0,
      "outputs": [
        {
          "output_type": "stream",
          "text": [
            "4\n",
            "1\n"
          ],
          "name": "stdout"
        }
      ]
    },
    {
      "cell_type": "markdown",
      "metadata": {
        "colab_type": "text",
        "id": "aGpCaj6ZgO4N"
      },
      "source": [
        "* #### Numpy Array Creation Functions\n",
        "- Numpy's arange is nearly identical to Python’s `range()`. Creates an array of values in the range [start,stop,step) with the specified step value. Allows non-integer values for start, stop, and step. Default dtype is derived from the start, stop, and step values"
      ]
    },
    {
      "cell_type": "code",
      "metadata": {
        "colab_type": "code",
        "id": "w3UfCIHLgO4O",
        "outputId": "081d9c6d-b689-4fc3-dac7-d315ee9737ca",
        "colab": {
          "base_uri": "https://localhost:8080/",
          "height": 34
        }
      },
      "source": [
        "a = np.arange(4)\n",
        "print(a)"
      ],
      "execution_count": 0,
      "outputs": [
        {
          "output_type": "stream",
          "text": [
            "[0 1 2 3]\n"
          ],
          "name": "stdout"
        }
      ]
    },
    {
      "cell_type": "code",
      "metadata": {
        "colab_type": "code",
        "outputId": "d4dc4e2f-7414-4c8e-db18-0402711a4771",
        "id": "ZVibQnK6Yjb5",
        "colab": {
          "base_uri": "https://localhost:8080/",
          "height": 34
        }
      },
      "source": [
        "a = np.arange(0,4)\n",
        "print(a)"
      ],
      "execution_count": 0,
      "outputs": [
        {
          "output_type": "stream",
          "text": [
            "[0 1 2 3]\n"
          ],
          "name": "stdout"
        }
      ]
    },
    {
      "cell_type": "code",
      "metadata": {
        "colab_type": "code",
        "id": "DJp4GOeggO4B",
        "outputId": "e1815c42-1746-4746-a941-f9e1c83e9c07",
        "colab": {
          "base_uri": "https://localhost:8080/",
          "height": 34
        }
      },
      "source": [
        "a = np.arange(4,dtype=float)\n",
        "print(a)"
      ],
      "execution_count": 0,
      "outputs": [
        {
          "output_type": "stream",
          "text": [
            "[0. 1. 2. 3.]\n"
          ],
          "name": "stdout"
        }
      ]
    },
    {
      "cell_type": "code",
      "metadata": {
        "colab_type": "code",
        "id": "hgg-Hj8egO4S",
        "outputId": "4c3922c5-d67e-4ad6-ddd4-719a80d5d691",
        "colab": {
          "base_uri": "https://localhost:8080/",
          "height": 34
        }
      },
      "source": [
        "a = np.arange(1.5,2.4,0.3)\n",
        "print(a)"
      ],
      "execution_count": 0,
      "outputs": [
        {
          "output_type": "stream",
          "text": [
            "[1.5 1.8 2.1]\n"
          ],
          "name": "stdout"
        }
      ]
    },
    {
      "cell_type": "code",
      "metadata": {
        "colab_type": "code",
        "id": "5q0M64XMgO4V",
        "outputId": "4286a123-125b-4570-ba87-bca1a4a5765c",
        "scrolled": true,
        "colab": {
          "base_uri": "https://localhost:8080/",
          "height": 51
        }
      },
      "source": [
        "a = np.arange(0, 2*np.pi, np.pi/4)\n",
        "print(a)"
      ],
      "execution_count": 0,
      "outputs": [
        {
          "output_type": "stream",
          "text": [
            "[0.         0.78539816 1.57079633 2.35619449 3.14159265 3.92699082\n",
            " 4.71238898 5.49778714]\n"
          ],
          "name": "stdout"
        }
      ]
    },
    {
      "cell_type": "markdown",
      "metadata": {
        "colab_type": "text",
        "id": "VSkLFP1vgO4k"
      },
      "source": [
        "* #### Useful initial value creation"
      ]
    },
    {
      "cell_type": "code",
      "metadata": {
        "colab_type": "code",
        "id": "e-dT1abKgO4Z",
        "outputId": "370685e6-29d4-4ce9-9c35-e059225156b7",
        "colab": {
          "base_uri": "https://localhost:8080/",
          "height": 68
        }
      },
      "source": [
        "a = np.ones((2,3)) # need to supply tuple as shape of the array!\n",
        "print(a)\n",
        "print(a.dtype)"
      ],
      "execution_count": 0,
      "outputs": [
        {
          "output_type": "stream",
          "text": [
            "[[1. 1. 1.]\n",
            " [1. 1. 1.]]\n",
            "float64\n"
          ],
          "name": "stdout"
        }
      ]
    },
    {
      "cell_type": "code",
      "metadata": {
        "colab_type": "code",
        "id": "xnwf3TDvgO4c",
        "outputId": "64e078bc-d1b7-477c-f44b-eeb237ee877c",
        "colab": {
          "base_uri": "https://localhost:8080/",
          "height": 85
        }
      },
      "source": [
        "a = np.zeros((3,3)) # need to supply tuple as shape of the array!\n",
        "print(a)\n",
        "print(a.dtype)"
      ],
      "execution_count": 0,
      "outputs": [
        {
          "output_type": "stream",
          "text": [
            "[[0. 0. 0.]\n",
            " [0. 0. 0.]\n",
            " [0. 0. 0.]]\n",
            "float64\n"
          ],
          "name": "stdout"
        }
      ]
    },
    {
      "cell_type": "code",
      "metadata": {
        "colab_type": "code",
        "id": "dYwcuTC6gO4l",
        "outputId": "3255a311-f8ae-467f-be57-b901edd63521",
        "colab": {
          "base_uri": "https://localhost:8080/",
          "height": 85
        }
      },
      "source": [
        "a = np.identity(4)\n",
        "print(a)"
      ],
      "execution_count": 0,
      "outputs": [
        {
          "output_type": "stream",
          "text": [
            "[[1. 0. 0. 0.]\n",
            " [0. 1. 0. 0.]\n",
            " [0. 0. 1. 0.]\n",
            " [0. 0. 0. 1.]]\n"
          ],
          "name": "stdout"
        }
      ]
    },
    {
      "cell_type": "code",
      "metadata": {
        "colab_type": "code",
        "id": "XvTlWmiegO4q",
        "outputId": "4b1c2c6e-f99e-475c-d02e-29ae16d12736",
        "colab": {
          "base_uri": "https://localhost:8080/",
          "height": 102
        }
      },
      "source": [
        "a = np.eye(4,dtype=int)\n",
        "print(a)\n",
        "print(a.dtype)"
      ],
      "execution_count": 0,
      "outputs": [
        {
          "output_type": "stream",
          "text": [
            "[[1 0 0 0]\n",
            " [0 1 0 0]\n",
            " [0 0 1 0]\n",
            " [0 0 0 1]]\n",
            "int64\n"
          ],
          "name": "stdout"
        }
      ]
    },
    {
      "cell_type": "code",
      "metadata": {
        "colab_type": "code",
        "id": "W8cTdgUHgO4s",
        "outputId": "ad5229c7-2a3e-4a37-9812-ad5ffc427229",
        "colab": {
          "base_uri": "https://localhost:8080/",
          "height": 68
        }
      },
      "source": [
        "a = np.empty(2)\n",
        "print(a)\n",
        "a.fill(5.0)\n",
        "print(a)\n",
        "a[:] = 4.0\n",
        "print(a)"
      ],
      "execution_count": 0,
      "outputs": [
        {
          "output_type": "stream",
          "text": [
            "[5.43230922e-312 7.29112202e-304]\n",
            "[5. 5.]\n",
            "[4. 4.]\n"
          ],
          "name": "stdout"
        }
      ]
    },
    {
      "cell_type": "markdown",
      "metadata": {
        "colab_type": "text",
        "id": "C1Tr-DSdgO4w"
      },
      "source": [
        "* #### `numpy.linspace(start, stop, num=50, endpoint=True, retstep=False, dtype=None)`\n",
        "Return evenly spaced numbers over a specified interval."
      ]
    },
    {
      "cell_type": "code",
      "metadata": {
        "colab_type": "code",
        "id": "6YZfMKM5gO4y",
        "outputId": "d8a17f02-9dc7-4ce1-dd4a-fcb515f4d2eb",
        "colab": {
          "base_uri": "https://localhost:8080/",
          "height": 34
        }
      },
      "source": [
        "a = np.linspace(0,1,5)\n",
        "print(a)"
      ],
      "execution_count": 0,
      "outputs": [
        {
          "output_type": "stream",
          "text": [
            "[0.   0.25 0.5  0.75 1.  ]\n"
          ],
          "name": "stdout"
        }
      ]
    },
    {
      "cell_type": "markdown",
      "metadata": {
        "colab_type": "text",
        "id": "SaKt7UShgO42"
      },
      "source": [
        "* #### `numpy.logspace(start, stop, num=50, endpoint=True, base=10.0, dtype=None)`\n",
        "\n",
        "Return numbers spaced evenly on a log scale.\n",
        "\n",
        "The sequence starts at base ** start (base to the power of start) and ends with base ** stop (see endpoint below)."
      ]
    },
    {
      "cell_type": "code",
      "metadata": {
        "colab_type": "code",
        "id": "Ve7NNc1bgO44",
        "outputId": "9cf0887d-b52e-4775-8bdd-c1f2bb167f9f",
        "colab": {
          "base_uri": "https://localhost:8080/",
          "height": 34
        }
      },
      "source": [
        "#import matplotlib.pyplot as plt\n",
        "a = np.logspace(0,1,5)\n",
        "print(a)\n",
        "#plt.plot(a,'r-s')\n",
        "#plt.plot(np.log(a),'b-s')"
      ],
      "execution_count": 0,
      "outputs": [
        {
          "output_type": "stream",
          "text": [
            "[ 1.          1.77827941  3.16227766  5.62341325 10.        ]\n"
          ],
          "name": "stdout"
        }
      ]
    },
    {
      "cell_type": "code",
      "metadata": {
        "colab_type": "code",
        "id": "Gs4mmAP3gO49",
        "outputId": "9fa19318-3c69-42ac-cb37-2cddf37b2d10",
        "colab": {
          "base_uri": "https://localhost:8080/",
          "height": 34
        }
      },
      "source": [
        "a = np.logspace(2.0, 3.0, num=4, base=2.0)\n",
        "print(a)"
      ],
      "execution_count": 0,
      "outputs": [
        {
          "output_type": "stream",
          "text": [
            "[4.         5.0396842  6.34960421 8.        ]\n"
          ],
          "name": "stdout"
        }
      ]
    },
    {
      "cell_type": "markdown",
      "metadata": {
        "colab_type": "text",
        "id": "mm5LuQ2IgO5A"
      },
      "source": [
        "* #### Array from/to ASCII files\n",
        "use loadtxt\n",
        "\n",
        "`data.txt`<br>\n",
        "  `Index`<br>\n",
        "`Brain Weight`<br>\n",
        "`Body Weight`<br>\n",
        "`#here is the training set`<br>\n",
        "`1 3.385 44.500 abjhk`<br>\n",
        "`2 0.480 33.38 bc_00asdk`<br>\n",
        "`...`<br>\n",
        "`#here is the cross validation set`<br>\n",
        "`6 27.660 115.000 rk`<br>\n",
        "`7 14.830 98.200 fff`<br>\n",
        "`...`<br>\n",
        "`9 4.190 58.000 kij`<br>"
      ]
    },
    {
      "cell_type": "code",
      "metadata": {
        "colab_type": "code",
        "id": "C4oJxgbu4WI_",
        "outputId": "631f59c9-2c4d-4912-e5f5-6ebe5c748f36",
        "colab": {
          "base_uri": "https://localhost:8080/",
          "height": 493
        }
      },
      "source": [
        "# download the file to local virtual machine\n",
        "! if [ ! -f \"data.txt\" ]; then wget 'https://raw.githubusercontent.com/lsuhpchelp/lbrnloniworkshop2020/master/day2/data.txt'; else echo 'file exists'; fi;\n",
        "! cat data.txt"
      ],
      "execution_count": 0,
      "outputs": [
        {
          "output_type": "stream",
          "text": [
            "file exists\n",
            "#  x01.txt\n",
            "#    Academic Press, 1991, page 304,\n",
            "#    ISBN 0-12-656460-4.\n",
            "#    There are 62 rows of data.  The 3 data columns include:\n",
            "#      I,  the index,\n",
            "#      A1, the brain weight;\n",
            "#      B,  the body weight.\n",
            "#    We seek a model of the form:\n",
            "#\n",
            "#      B = A1 * X1.\n",
            "#\n",
            "3 columns\n",
            "62 rows\n",
            "Index\n",
            "Brain Weight\n",
            "Body Weight\n",
            "# here is the training set\n",
            " 1     3.385    44.500 abjhk\n",
            " 2     0.480    33.38  bc_00asdk\n",
            " 3     1.350     8.100 fb\n",
            " 4   465.000   423.000 cer\n",
            " 5    36.330   119.500 rg\n",
            "# here is the cross validation set\n",
            " 6    27.660   115.000 rk\n",
            " 7    14.830    98.200 fff\n",
            " 8     1.040     5.500 zxs\n",
            " 9     4.190    58.000 kij\n"
          ],
          "name": "stdout"
        }
      ]
    },
    {
      "cell_type": "code",
      "metadata": {
        "colab_type": "code",
        "id": "Q9cCgPodgO5B",
        "outputId": "7679998e-05f1-4b97-9f12-dfd82de67948",
        "colab": {
          "base_uri": "https://localhost:8080/",
          "height": 170
        }
      },
      "source": [
        "# np.loadtxt can directly load a txt from a URL\n",
        "#weburl = 'https://raw.githubusercontent.com/lsuhpchelp/lbrnloniworkshop2020/blob/master/day2/'\n",
        "#txtfile = weburl + 'data.txt'\n",
        "\n",
        "# we will use the file locally on the virtual machine\n",
        "txtfile = 'data.txt'\n",
        "a = np.loadtxt(txtfile,skiprows=16,usecols={0,1,2},dtype=None,comments=\"#\")\n",
        "print(a)"
      ],
      "execution_count": 0,
      "outputs": [
        {
          "output_type": "stream",
          "text": [
            "[[  1.      3.385  44.5  ]\n",
            " [  2.      0.48   33.38 ]\n",
            " [  3.      1.35    8.1  ]\n",
            " [  4.    465.    423.   ]\n",
            " [  5.     36.33  119.5  ]\n",
            " [  6.     27.66  115.   ]\n",
            " [  7.     14.83   98.2  ]\n",
            " [  8.      1.04    5.5  ]\n",
            " [  9.      4.19   58.   ]]\n"
          ],
          "name": "stdout"
        }
      ]
    },
    {
      "cell_type": "markdown",
      "metadata": {
        "colab_type": "text",
        "id": "lkLGKSGAgO5E"
      },
      "source": [
        "Using genfromtxt"
      ]
    },
    {
      "cell_type": "code",
      "metadata": {
        "colab_type": "code",
        "id": "0L0kk4cAgO5E",
        "outputId": "9e42e3f8-9a35-454b-e947-66a9dad0b66c",
        "colab": {
          "base_uri": "https://localhost:8080/",
          "height": 153
        }
      },
      "source": [
        "# np.genfromtxt can guess the actual type of your columns by using dtype=None\n",
        "a = np.genfromtxt(txtfile,skip_header=16,dtype=None,encoding='ascii')\n",
        "print(a)\n",
        "print(\"type(a):\", type(a))\n",
        "print(\"shape(a):\", np.shape(a))\n",
        "print(\"type(a[0]:\", type(a[0]))"
      ],
      "execution_count": 0,
      "outputs": [
        {
          "output_type": "stream",
          "text": [
            "[(1,   3.385,  44.5 , 'abjhk') (2,   0.48 ,  33.38, 'bc_00asdk')\n",
            " (3,   1.35 ,   8.1 , 'fb') (4, 465.   , 423.  , 'cer')\n",
            " (5,  36.33 , 119.5 , 'rg') (6,  27.66 , 115.  , 'rk')\n",
            " (7,  14.83 ,  98.2 , 'fff') (8,   1.04 ,   5.5 , 'zxs')\n",
            " (9,   4.19 ,  58.  , 'kij')]\n",
            "type(a): <class 'numpy.ndarray'>\n",
            "shape(a): (9,)\n",
            "type(a[0]: <class 'numpy.void'>\n"
          ],
          "name": "stdout"
        }
      ]
    },
    {
      "cell_type": "markdown",
      "metadata": {
        "colab_type": "text",
        "id": "fcvqZtyvgO5G"
      },
      "source": [
        "* #### Reshaping Arrays"
      ]
    },
    {
      "cell_type": "code",
      "metadata": {
        "colab_type": "code",
        "id": "ZbX0ZeFJgO5H",
        "outputId": "7b8869c1-406d-4c1f-8516-8dc008e6ead9",
        "colab": {
          "base_uri": "https://localhost:8080/",
          "height": 51
        }
      },
      "source": [
        "a = np.arange(6)\n",
        "print(a)\n",
        "print(a.shape)"
      ],
      "execution_count": 0,
      "outputs": [
        {
          "output_type": "stream",
          "text": [
            "[0 1 2 3 4 5]\n",
            "(6,)\n"
          ],
          "name": "stdout"
        }
      ]
    },
    {
      "cell_type": "code",
      "metadata": {
        "colab_type": "code",
        "id": "lEkbEGgrgO5O",
        "outputId": "2a99aeba-84ce-4cce-cbe2-0708d4c8c837",
        "colab": {
          "base_uri": "https://localhost:8080/",
          "height": 51
        }
      },
      "source": [
        "a.shape = (2,3) # reshape array to 2x3\n",
        "print(a)"
      ],
      "execution_count": 0,
      "outputs": [
        {
          "output_type": "stream",
          "text": [
            "[[0 1 2]\n",
            " [3 4 5]]\n"
          ],
          "name": "stdout"
        }
      ]
    },
    {
      "cell_type": "code",
      "metadata": {
        "colab_type": "code",
        "id": "LgDfr66kgO5R",
        "outputId": "56e6d44b-6ed7-4542-ce04-da4074fa878a",
        "colab": {
          "base_uri": "https://localhost:8080/",
          "height": 68
        }
      },
      "source": [
        "a = a.reshape(3,2) # reshape array to 3x2\n",
        "print(a)\n",
        "# a.reshape(2,5) # cannot change the number of elements in the array\n",
        "# Traceback (most recent call last):\n",
        "# File \"<stdin>\", line 1, in <module>\n",
        "# ValueError: total size of new array must be unchanged"
      ],
      "execution_count": 0,
      "outputs": [
        {
          "output_type": "stream",
          "text": [
            "[[0 1]\n",
            " [2 3]\n",
            " [4 5]]\n"
          ],
          "name": "stdout"
        }
      ]
    },
    {
      "cell_type": "code",
      "metadata": {
        "colab_type": "code",
        "id": "buIQknvjgO5U",
        "outputId": "b1f2d742-561e-4992-e86c-762d153b48ef",
        "colab": {
          "base_uri": "https://localhost:8080/",
          "height": 51
        }
      },
      "source": [
        "a = a.reshape(2,-1) # numpy determines the last dimension\n",
        "print(a)"
      ],
      "execution_count": 0,
      "outputs": [
        {
          "output_type": "stream",
          "text": [
            "[[0 1 2]\n",
            " [3 4 5]]\n"
          ],
          "name": "stdout"
        }
      ]
    },
    {
      "cell_type": "code",
      "metadata": {
        "colab_type": "code",
        "id": "RWgISQL2gO5Y",
        "outputId": "1b40c426-9936-43ae-a493-867988bfcfc3",
        "scrolled": true,
        "colab": {
          "base_uri": "https://localhost:8080/",
          "height": 68
        }
      },
      "source": [
        "a = a.reshape(-1,2)\n",
        "print(a)"
      ],
      "execution_count": 0,
      "outputs": [
        {
          "output_type": "stream",
          "text": [
            "[[0 1]\n",
            " [2 3]\n",
            " [4 5]]\n"
          ],
          "name": "stdout"
        }
      ]
    },
    {
      "cell_type": "markdown",
      "metadata": {
        "colab_type": "text",
        "id": "Q1TXsB6agO5c"
      },
      "source": [
        "* #### Flattening Multi-dimensional Arrays"
      ]
    },
    {
      "cell_type": "code",
      "metadata": {
        "colab_type": "code",
        "id": "Mo0u5KJcgO5c",
        "outputId": "f9d21434-3deb-448b-f4e5-4b8ac59c0a03",
        "colab": {
          "base_uri": "https://localhost:8080/",
          "height": 68
        }
      },
      "source": [
        "a = np.arange(12).reshape(-1,4)\n",
        "print(a)"
      ],
      "execution_count": 0,
      "outputs": [
        {
          "output_type": "stream",
          "text": [
            "[[ 0  1  2  3]\n",
            " [ 4  5  6  7]\n",
            " [ 8  9 10 11]]\n"
          ],
          "name": "stdout"
        }
      ]
    },
    {
      "cell_type": "code",
      "metadata": {
        "colab_type": "code",
        "id": "nbHmY0BlgO5f",
        "outputId": "6c3ea4ec-aa88-4d29-df87-711f5b953f28",
        "colab": {
          "base_uri": "https://localhost:8080/",
          "height": 34
        }
      },
      "source": [
        "# a.flatten() converts a multidimensional array into\n",
        "# a 1-D array. The new array is a copy of the original data.\n",
        "b = a.flatten()\n",
        "print(b)"
      ],
      "execution_count": 0,
      "outputs": [
        {
          "output_type": "stream",
          "text": [
            "[ 0  1  2  3  4  5  6  7  8  9 10 11]\n"
          ],
          "name": "stdout"
        }
      ]
    },
    {
      "cell_type": "markdown",
      "metadata": {
        "colab_type": "text",
        "id": "w6thN8yAgO5i"
      },
      "source": [
        "# Numpy is easy and fast!\n",
        "## Rule of thumb: \n",
        "> ### Removing loops using NumPy"
      ]
    },
    {
      "cell_type": "code",
      "metadata": {
        "colab_type": "code",
        "id": "MxataCyngO5j",
        "outputId": "14b50eba-8780-463d-d17d-d59f7d93a2c6",
        "colab": {
          "base_uri": "https://localhost:8080/",
          "height": 51
        }
      },
      "source": [
        "# we use the timeit (measure execution time of small code snippets) function \n",
        "a=list(range(100000))\n",
        "result_loop = %timeit -o b = [val+5 for val in a]\n",
        "print(\"best result using for loop: %f sec\" % (result_loop.best,))"
      ],
      "execution_count": 0,
      "outputs": [
        {
          "output_type": "stream",
          "text": [
            "100 loops, best of 3: 5.55 ms per loop\n",
            "best result using for loop: 0.005553 sec\n"
          ],
          "name": "stdout"
        }
      ]
    },
    {
      "cell_type": "code",
      "metadata": {
        "colab_type": "code",
        "id": "oS-NUVbggO5n",
        "outputId": "dbed2f69-7afe-446d-cb77-d9200fdde374",
        "colab": {
          "base_uri": "https://localhost:8080/",
          "height": 51
        }
      },
      "source": [
        "a=np.array(a)\n",
        "result_ufunc = %timeit -o a+5\n",
        "print(\"best result using ufunc: %f sec\" % (result_ufunc.best,))"
      ],
      "execution_count": 0,
      "outputs": [
        {
          "output_type": "stream",
          "text": [
            "10000 loops, best of 3: 117 µs per loop\n",
            "best result using ufunc: 0.000117 sec\n"
          ],
          "name": "stdout"
        }
      ]
    },
    {
      "cell_type": "code",
      "metadata": {
        "colab_type": "code",
        "id": "yGzmB2uYgO5r",
        "outputId": "0f3c3700-f046-4347-a125-97c3c13f6f6c",
        "colab": {
          "base_uri": "https://localhost:8080/",
          "height": 34
        }
      },
      "source": [
        "speedup = result_loop.best/result_ufunc.best\n",
        "print(\"speedup=%.1f times\" % (speedup,))"
      ],
      "execution_count": 0,
      "outputs": [
        {
          "output_type": "stream",
          "text": [
            "speedup=47.5 times\n"
          ],
          "name": "stdout"
        }
      ]
    },
    {
      "cell_type": "markdown",
      "metadata": {
        "colab_type": "text",
        "id": "Xa4SSwwggO5x"
      },
      "source": [
        "# Four Tools in Numpy\n",
        "1. Ufunc (Universal Function)\n",
        "1. Aggregation\n",
        "1. Broadcasting\n",
        "1. Slicing, masking and fancy indexing"
      ]
    },
    {
      "cell_type": "markdown",
      "metadata": {
        "colab_type": "text",
        "id": "UFekiWAcgO5y"
      },
      "source": [
        "### Why Numpy is fast? \n",
        "- Avoid type check overhead\n",
        "- Vectorization (simplified)\n",
        " - The process of rewriting a loop so that instead of processing a single element of an array N times, it processes (say) 4 elements of the array simultaneously N/4 times. \n",
        "- Many of the built-in functions are implemented in compiled C code.\n",
        " - They can be much faster than the code on the Python level"
      ]
    },
    {
      "cell_type": "markdown",
      "metadata": {
        "colab_type": "text",
        "id": "S-3nui-ZgO5y"
      },
      "source": [
        "### Ufunc: Many ufuncs available\n",
        "- Arithmetic Operators: `+ - * / // (floor division) % **`\n",
        "- Bitwise Operators: `& | ~ ^ >> <<`\n",
        "- Comparison Oper’s: `< > <= >= == !=`\n",
        "- Trig Family: `np.sin, np.cos, np.tan ...`\n",
        "- Exponential Family: `np.exp, np.log, np.log10 ...`\n",
        "- Special Functions: `scipy.special.*`\n",
        "- . . . and many, many more."
      ]
    },
    {
      "cell_type": "markdown",
      "metadata": {
        "colab_type": "text",
        "id": "eSrdmvYzgO5z"
      },
      "source": [
        "* #### Demostration of Ufunc"
      ]
    },
    {
      "cell_type": "code",
      "metadata": {
        "colab_type": "code",
        "id": "kNDGJWq7gO5z",
        "outputId": "29994c84-6249-4ea9-aa99-673705b6acae",
        "colab": {
          "base_uri": "https://localhost:8080/",
          "height": 170
        }
      },
      "source": [
        "x = np.linspace(0,np.pi)\n",
        "print(x)"
      ],
      "execution_count": 0,
      "outputs": [
        {
          "output_type": "stream",
          "text": [
            "[0.         0.06411414 0.12822827 0.19234241 0.25645654 0.32057068\n",
            " 0.38468481 0.44879895 0.51291309 0.57702722 0.64114136 0.70525549\n",
            " 0.76936963 0.83348377 0.8975979  0.96171204 1.02582617 1.08994031\n",
            " 1.15405444 1.21816858 1.28228272 1.34639685 1.41051099 1.47462512\n",
            " 1.53873926 1.60285339 1.66696753 1.73108167 1.7951958  1.85930994\n",
            " 1.92342407 1.98753821 2.05165235 2.11576648 2.17988062 2.24399475\n",
            " 2.30810889 2.37222302 2.43633716 2.5004513  2.56456543 2.62867957\n",
            " 2.6927937  2.75690784 2.82102197 2.88513611 2.94925025 3.01336438\n",
            " 3.07747852 3.14159265]\n"
          ],
          "name": "stdout"
        }
      ]
    },
    {
      "cell_type": "code",
      "metadata": {
        "colab_type": "code",
        "id": "jyAjdoOTgO52",
        "outputId": "0f75e813-9aa8-4463-8948-8f7d400f29b8",
        "colab": {
          "base_uri": "https://localhost:8080/",
          "height": 170
        }
      },
      "source": [
        "x *= 2\n",
        "print(x)"
      ],
      "execution_count": 0,
      "outputs": [
        {
          "output_type": "stream",
          "text": [
            "[0.         0.12822827 0.25645654 0.38468481 0.51291309 0.64114136\n",
            " 0.76936963 0.8975979  1.02582617 1.15405444 1.28228272 1.41051099\n",
            " 1.53873926 1.66696753 1.7951958  1.92342407 2.05165235 2.17988062\n",
            " 2.30810889 2.43633716 2.56456543 2.6927937  2.82102197 2.94925025\n",
            " 3.07747852 3.20570679 3.33393506 3.46216333 3.5903916  3.71861988\n",
            " 3.84684815 3.97507642 4.10330469 4.23153296 4.35976123 4.48798951\n",
            " 4.61621778 4.74444605 4.87267432 5.00090259 5.12913086 5.25735913\n",
            " 5.38558741 5.51381568 5.64204395 5.77027222 5.89850049 6.02672876\n",
            " 6.15495704 6.28318531]\n"
          ],
          "name": "stdout"
        }
      ]
    },
    {
      "cell_type": "code",
      "metadata": {
        "colab_type": "code",
        "id": "KmGCJm44gO54",
        "outputId": "25ea8fc5-e358-4378-a62f-4dd8373be3d9",
        "colab": {
          "base_uri": "https://localhost:8080/",
          "height": 238
        }
      },
      "source": [
        "y = np.sin(x)\n",
        "print(y)"
      ],
      "execution_count": 0,
      "outputs": [
        {
          "output_type": "stream",
          "text": [
            "[ 0.00000000e+00  1.27877162e-01  2.53654584e-01  3.75267005e-01\n",
            "  4.90717552e-01  5.98110530e-01  6.95682551e-01  7.81831482e-01\n",
            "  8.55142763e-01  9.14412623e-01  9.58667853e-01  9.87181783e-01\n",
            "  9.99486216e-01  9.95379113e-01  9.74927912e-01  9.38468422e-01\n",
            "  8.86599306e-01  8.20172255e-01  7.40277997e-01  6.48228395e-01\n",
            "  5.45534901e-01  4.33883739e-01  3.15108218e-01  1.91158629e-01\n",
            "  6.40702200e-02 -6.40702200e-02 -1.91158629e-01 -3.15108218e-01\n",
            " -4.33883739e-01 -5.45534901e-01 -6.48228395e-01 -7.40277997e-01\n",
            " -8.20172255e-01 -8.86599306e-01 -9.38468422e-01 -9.74927912e-01\n",
            " -9.95379113e-01 -9.99486216e-01 -9.87181783e-01 -9.58667853e-01\n",
            " -9.14412623e-01 -8.55142763e-01 -7.81831482e-01 -6.95682551e-01\n",
            " -5.98110530e-01 -4.90717552e-01 -3.75267005e-01 -2.53654584e-01\n",
            " -1.27877162e-01 -2.44929360e-16]\n"
          ],
          "name": "stdout"
        }
      ]
    },
    {
      "cell_type": "code",
      "metadata": {
        "colab_type": "code",
        "id": "soJnhqvNgO59",
        "outputId": "6e1e7b91-b206-4b56-b3f5-b9936a001825",
        "colab": {
          "base_uri": "https://localhost:8080/",
          "height": 265
        }
      },
      "source": [
        "import matplotlib.pyplot as plt\n",
        "plt.plot(x,y)\n",
        "plt.show()"
      ],
      "execution_count": 0,
      "outputs": [
        {
          "output_type": "display_data",
          "data": {
            "image/png": "[encoded data removed]",
            "text/plain": [
              "<Figure size 432x288 with 1 Axes>"
            ]
          },
          "metadata": {
            "tags": [],
            "needs_background": "light"
          }
        }
      ]
    },
    {
      "cell_type": "markdown",
      "metadata": {
        "colab_type": "text",
        "id": "dsswVdbKgO5_"
      },
      "source": [
        "### Aggregation Functions"
      ]
    },
    {
      "cell_type": "markdown",
      "metadata": {
        "colab_type": "text",
        "id": "S5Z6BX2DgO5_"
      },
      "source": [
        "- Aggregations are functions which summarize the values in an array (e.g. min, max, sum, mean, etc.)\n",
        "- Numpy aggregations are much faster than Python built-in functions\n",
        "\n",
        "- All have the same call style:\n",
        "\n",
        "    `np.min() np.max() np.sum() np.prod()`<br>\n",
        "`np.argsort()`<br>\n",
        "`np.mean() np.std() np.var() np.any()`<br>\n",
        "`np.all() np.median() np.percentile()`<br>\n",
        "`np.argmin() np.argmax() . . .`<br>\n",
        "`np.nanmin() np.nanmax() np.nansum(). . .`<br>\n",
        "\n",
        "<!--\n",
        "<img src=\"figure/np_aggregation.png\", style=\"float: left;\", width=\"300\">\n",
        "-->\n",
        "\n",
        "![myphoto](https://github.com/lsuhpchelp/lbrnloniworkshop2020/raw/master/day2/figure/np_aggregation.png)\n"
      ]
    },
    {
      "cell_type": "code",
      "metadata": {
        "colab_type": "code",
        "id": "bFqM_S3MgO6A",
        "outputId": "a05a8808-e803-47ef-9229-eac1986b2866",
        "colab": {
          "base_uri": "https://localhost:8080/",
          "height": 51
        }
      },
      "source": [
        "# Numpy Aggregation - Array Calculation\n",
        "a=np.arange(6).reshape(2,-1)\n",
        "print(a)"
      ],
      "execution_count": 0,
      "outputs": [
        {
          "output_type": "stream",
          "text": [
            "[[0 1 2]\n",
            " [3 4 5]]\n"
          ],
          "name": "stdout"
        }
      ]
    },
    {
      "cell_type": "code",
      "metadata": {
        "colab_type": "code",
        "id": "F1NvY_BNgO6E",
        "outputId": "90d4217f-a7cd-43cc-8681-9057b9b123c6",
        "colab": {
          "base_uri": "https://localhost:8080/",
          "height": 34
        }
      },
      "source": [
        "# by default a.sum() adds up all values\n",
        "print(a.sum())"
      ],
      "execution_count": 0,
      "outputs": [
        {
          "output_type": "stream",
          "text": [
            "15\n"
          ],
          "name": "stdout"
        }
      ]
    },
    {
      "cell_type": "code",
      "metadata": {
        "colab_type": "code",
        "id": "ymDmxKItgO6H",
        "outputId": "718455c5-e4e9-4287-bd3c-619d6db08e7c",
        "colab": {
          "base_uri": "https://localhost:8080/",
          "height": 34
        }
      },
      "source": [
        "# same result, functional form\n",
        "print(np.sum(a))"
      ],
      "execution_count": 0,
      "outputs": [
        {
          "output_type": "stream",
          "text": [
            "15\n"
          ],
          "name": "stdout"
        }
      ]
    },
    {
      "cell_type": "code",
      "metadata": {
        "colab_type": "code",
        "id": "9jtGzXrPgO6L",
        "outputId": "363e2d03-174c-4656-c507-90f4257644d6",
        "colab": {
          "base_uri": "https://localhost:8080/",
          "height": 34
        }
      },
      "source": [
        "# sum along different axis\n",
        "print(np.sum(a,axis=0))"
      ],
      "execution_count": 0,
      "outputs": [
        {
          "output_type": "stream",
          "text": [
            "[3 5 7]\n"
          ],
          "name": "stdout"
        }
      ]
    },
    {
      "cell_type": "code",
      "metadata": {
        "colab_type": "code",
        "id": "w_3lDtS_gO6P",
        "outputId": "1dd9cce7-cf98-41b0-ec80-c01e5a28429d",
        "colab": {
          "base_uri": "https://localhost:8080/",
          "height": 34
        }
      },
      "source": [
        "print(np.sum(a,axis=1))"
      ],
      "execution_count": 0,
      "outputs": [
        {
          "output_type": "stream",
          "text": [
            "[ 3 12]\n"
          ],
          "name": "stdout"
        }
      ]
    },
    {
      "cell_type": "code",
      "metadata": {
        "colab_type": "code",
        "id": "qL5ytSXCgO6R",
        "outputId": "ebfe30db-30b0-4a59-8b2e-c2e7e21012df",
        "colab": {
          "base_uri": "https://localhost:8080/",
          "height": 34
        }
      },
      "source": [
        "print(np.sum(a,axis=-1))"
      ],
      "execution_count": 0,
      "outputs": [
        {
          "output_type": "stream",
          "text": [
            "[ 3 12]\n"
          ],
          "name": "stdout"
        }
      ]
    },
    {
      "cell_type": "code",
      "metadata": {
        "colab_type": "code",
        "id": "MYde3jRHgO6U",
        "outputId": "ebeb0b4b-1ff6-4ad0-f0bb-5a4f16feb5e7",
        "colab": {
          "base_uri": "https://localhost:8080/",
          "height": 34
        }
      },
      "source": [
        "# product along different axis\n",
        "print(np.prod(a,axis=0))"
      ],
      "execution_count": 0,
      "outputs": [
        {
          "output_type": "stream",
          "text": [
            "[ 0  4 10]\n"
          ],
          "name": "stdout"
        }
      ]
    },
    {
      "cell_type": "code",
      "metadata": {
        "colab_type": "code",
        "id": "RmM4Xw6kgO6W",
        "outputId": "50e55f6d-8f9d-4c0f-c4f4-71fc4b72f547",
        "colab": {
          "base_uri": "https://localhost:8080/",
          "height": 34
        }
      },
      "source": [
        "print(a.prod(axis=1))"
      ],
      "execution_count": 0,
      "outputs": [
        {
          "output_type": "stream",
          "text": [
            "[ 0 60]\n"
          ],
          "name": "stdout"
        }
      ]
    },
    {
      "cell_type": "code",
      "metadata": {
        "colab_type": "code",
        "id": "XqOKiQsagO6Z",
        "outputId": "cda72120-9a86-403c-f2d3-19dd0510ba43",
        "colab": {
          "base_uri": "https://localhost:8080/",
          "height": 51
        }
      },
      "source": [
        "# Numpy Aggregation – Statistical Methods\n",
        "np.set_printoptions(precision=4)\n",
        "# generate 2x3 random float array\n",
        "a=np.random.random(6).reshape(2,3)\n",
        "print(a)"
      ],
      "execution_count": 0,
      "outputs": [
        {
          "output_type": "stream",
          "text": [
            "[[0.4008 0.4437 0.6916]\n",
            " [0.9921 0.5582 0.843 ]]\n"
          ],
          "name": "stdout"
        }
      ]
    },
    {
      "cell_type": "code",
      "metadata": {
        "colab_type": "code",
        "id": "y4aIKGt9gO6c",
        "outputId": "64bfe3d4-dbe2-4a22-872a-287bf06adb5d",
        "colab": {
          "base_uri": "https://localhost:8080/",
          "height": 34
        }
      },
      "source": [
        "print(a.mean(axis=0))"
      ],
      "execution_count": 0,
      "outputs": [
        {
          "output_type": "stream",
          "text": [
            "[0.6964 0.501  0.7673]\n"
          ],
          "name": "stdout"
        }
      ]
    },
    {
      "cell_type": "code",
      "metadata": {
        "colab_type": "code",
        "id": "w3HfJ41-gO6d",
        "outputId": "5385f6c4-63a8-440c-9ebc-902195b58a4d",
        "colab": {
          "base_uri": "https://localhost:8080/",
          "height": 34
        }
      },
      "source": [
        "print(a.mean(axis=1))"
      ],
      "execution_count": 0,
      "outputs": [
        {
          "output_type": "stream",
          "text": [
            "[0.512  0.7978]\n"
          ],
          "name": "stdout"
        }
      ]
    },
    {
      "cell_type": "code",
      "metadata": {
        "colab_type": "code",
        "id": "nigK3KtygO6f",
        "outputId": "6368c8a3-c7c2-4312-924e-1ec63b51b53c",
        "colab": {
          "base_uri": "https://localhost:8080/",
          "height": 34
        }
      },
      "source": [
        "print(a.mean())"
      ],
      "execution_count": 0,
      "outputs": [
        {
          "output_type": "stream",
          "text": [
            "0.6548973438774046\n"
          ],
          "name": "stdout"
        }
      ]
    },
    {
      "cell_type": "code",
      "metadata": {
        "colab_type": "code",
        "id": "1bzIdZqTgO6i",
        "outputId": "088b0168-aad4-41d1-ad1f-4550c0315ea9",
        "colab": {
          "base_uri": "https://localhost:8080/",
          "height": 34
        }
      },
      "source": [
        "print(np.mean(a))"
      ],
      "execution_count": 0,
      "outputs": [
        {
          "output_type": "stream",
          "text": [
            "0.6548973438774046\n"
          ],
          "name": "stdout"
        }
      ]
    },
    {
      "cell_type": "code",
      "metadata": {
        "colab_type": "code",
        "id": "zNAz-x4YgO6k",
        "colab": {}
      },
      "source": [
        "# average can use weights\n",
        "# avg = sum(a * weights) / sum(weights)\n",
        "print(np.average(a,weights=[1,2,3],axis=1))"
      ],
      "execution_count": 0,
      "outputs": []
    },
    {
      "cell_type": "code",
      "metadata": {
        "colab_type": "code",
        "id": "yxj50CXegO6l",
        "colab": {}
      },
      "source": [
        "# standard deviation\n",
        "print(a.std(axis=0))"
      ],
      "execution_count": 0,
      "outputs": []
    },
    {
      "cell_type": "code",
      "metadata": {
        "colab_type": "code",
        "id": "OMWY_EFQgO6m",
        "colab": {}
      },
      "source": [
        "# variance\n",
        "print(np.var(a, axis=1))"
      ],
      "execution_count": 0,
      "outputs": []
    },
    {
      "cell_type": "code",
      "metadata": {
        "colab_type": "code",
        "id": "BHvtBzFMgO6o",
        "colab": {}
      },
      "source": [
        "# min/max operation\n",
        "print(a.min())"
      ],
      "execution_count": 0,
      "outputs": []
    },
    {
      "cell_type": "code",
      "metadata": {
        "colab_type": "code",
        "id": "AvL15KhggO6p",
        "colab": {}
      },
      "source": [
        "print(np.max(a))"
      ],
      "execution_count": 0,
      "outputs": []
    },
    {
      "cell_type": "code",
      "metadata": {
        "colab_type": "code",
        "id": "lh83UhlmgO6r",
        "colab": {}
      },
      "source": [
        "# find index of the minimum\n",
        "print(a.argmin(axis=0))"
      ],
      "execution_count": 0,
      "outputs": []
    },
    {
      "cell_type": "code",
      "metadata": {
        "colab_type": "code",
        "id": "tAlltljCgO6y",
        "colab": {}
      },
      "source": [
        "print(np.argmax(a,axis=1))"
      ],
      "execution_count": 0,
      "outputs": []
    },
    {
      "cell_type": "code",
      "metadata": {
        "colab_type": "code",
        "id": "rOP09U8pgO6z",
        "colab": {}
      },
      "source": [
        "# this will return flattened index\n",
        "print(np.argmin(a))"
      ],
      "execution_count": 0,
      "outputs": []
    },
    {
      "cell_type": "code",
      "metadata": {
        "colab_type": "code",
        "id": "s60pznxlgO60",
        "colab": {}
      },
      "source": [
        "print(a.argmax())"
      ],
      "execution_count": 0,
      "outputs": []
    },
    {
      "cell_type": "markdown",
      "metadata": {
        "colab_type": "text",
        "id": "qsbFX3PjgO63"
      },
      "source": [
        "### Array Broadcasting\n",
        "\n",
        "- Broadcasting is a set of rules by which ufuncs operate on arrays of different sizes and/or dimensions.\n",
        "- Broadcasting allows NumPy arrays of different dimensionality to be\n",
        "combined in the same expression.\n",
        "- Arrays with smaller dimension are broadcasted to match the larger arrays, without copying data."
      ]
    },
    {
      "cell_type": "markdown",
      "metadata": {
        "colab_type": "text",
        "id": "V59yttxNgO64"
      },
      "source": [
        "### Broadcasting Rules\n",
        "- In order to broadcast, the size of the trailing axes for both arrays in an operation must either be the same size or one of them must be one. If this condition is not met, a ValueError('frames are not aligned') exception is thrown indicating that the arrays have incompatible shapes. \n",
        "- The size of the result array created by broadcast operations is the maximum size along each dimension from the input arrays.\n",
        "\n",
        "<!--\n",
        "<img src=\"figure/np_broadcast.png\", align=\"left\", width=\"500\"></br>\n",
        "-->\n",
        "\n",
        "![myphoto](https://github.com/lsuhpchelp/lbrnloniworkshop2020/raw/master/day2/figure/np_broadcast_scale.png)\n",
        "\n"
      ]
    },
    {
      "cell_type": "markdown",
      "metadata": {
        "colab_type": "text",
        "id": "5yc0IYLrgO66"
      },
      "source": [
        "\n",
        "\n",
        "<!--\n",
        "<img src=\"figure/np_broadcast_error.png\", align=\"left\", width=\"200\">\n",
        "-->\n",
        "\n",
        "![myphoto](https://github.com/lsuhpchelp/lbrnloniworkshop2020/raw/master/day2/figure/np_broadcast_error.png)"
      ]
    },
    {
      "cell_type": "code",
      "metadata": {
        "colab_type": "code",
        "id": "F6taGEWzgO66",
        "outputId": "f7219abb-2710-4554-b193-3478b7c0f9aa",
        "colab": {
          "base_uri": "https://localhost:8080/",
          "height": 68
        }
      },
      "source": [
        "a = np.arange(3)\n",
        "print(\"a=\",a)\n",
        "b = 5\n",
        "print(\"b=\",b)\n",
        "print(\"a+b=\",a+b)"
      ],
      "execution_count": 0,
      "outputs": [
        {
          "output_type": "stream",
          "text": [
            "a= [0 1 2]\n",
            "b= 5\n",
            "a+b= [5 6 7]\n"
          ],
          "name": "stdout"
        }
      ]
    },
    {
      "cell_type": "code",
      "metadata": {
        "colab_type": "code",
        "id": "3lJ6-UYMgO69",
        "outputId": "f8761e36-30b5-4993-9e3c-d4de66999dce",
        "colab": {
          "base_uri": "https://localhost:8080/",
          "height": 187
        }
      },
      "source": [
        "a = np.arange(3).reshape(-1,1)\n",
        "print(\"a=\")\n",
        "print(a)\n",
        "b = 5\n",
        "print(\"b=\")\n",
        "print(b)\n",
        "print(\"a+b=\")\n",
        "print(a+b)"
      ],
      "execution_count": 0,
      "outputs": [
        {
          "output_type": "stream",
          "text": [
            "a=\n",
            "[[0]\n",
            " [1]\n",
            " [2]]\n",
            "b=\n",
            "5\n",
            "a+b=\n",
            "[[5]\n",
            " [6]\n",
            " [7]]\n"
          ],
          "name": "stdout"
        }
      ]
    },
    {
      "cell_type": "code",
      "metadata": {
        "colab_type": "code",
        "id": "yyluxtgcgO6_",
        "outputId": "e229761d-c486-4ef0-ceb5-f468275e2a3f",
        "colab": {
          "base_uri": "https://localhost:8080/",
          "height": 187
        }
      },
      "source": [
        "a = np.ones((3,3))\n",
        "print(\"a=\")\n",
        "print(a)\n",
        "b = np.arange(3)\n",
        "print(\"b=\")\n",
        "print(b)\n",
        "print(\"a+b=\")\n",
        "print(a+b)"
      ],
      "execution_count": 0,
      "outputs": [
        {
          "output_type": "stream",
          "text": [
            "a=\n",
            "[[1. 1. 1.]\n",
            " [1. 1. 1.]\n",
            " [1. 1. 1.]]\n",
            "b=\n",
            "[0 1 2]\n",
            "a+b=\n",
            "[[1. 2. 3.]\n",
            " [1. 2. 3.]\n",
            " [1. 2. 3.]]\n"
          ],
          "name": "stdout"
        }
      ]
    },
    {
      "cell_type": "code",
      "metadata": {
        "colab_type": "code",
        "id": "4CEop87ygO7A",
        "outputId": "5daad408-1651-4cac-a6ba-754000730b23",
        "colab": {
          "base_uri": "https://localhost:8080/",
          "height": 221
        }
      },
      "source": [
        "a = np.ones((3,3))\n",
        "print(\"a=\")\n",
        "print(a)\n",
        "b = np.arange(3).reshape(-1,1)\n",
        "print(\"b=\")\n",
        "print(b)\n",
        "print(\"a+b=\")\n",
        "print(a+b)"
      ],
      "execution_count": 0,
      "outputs": [
        {
          "output_type": "stream",
          "text": [
            "a=\n",
            "[[1. 1. 1.]\n",
            " [1. 1. 1.]\n",
            " [1. 1. 1.]]\n",
            "b=\n",
            "[[0]\n",
            " [1]\n",
            " [2]]\n",
            "a+b=\n",
            "[[1. 1. 1.]\n",
            " [2. 2. 2.]\n",
            " [3. 3. 3.]]\n"
          ],
          "name": "stdout"
        }
      ]
    },
    {
      "cell_type": "code",
      "metadata": {
        "colab_type": "code",
        "id": "MhnGBy9ogO7C",
        "outputId": "b8f7670e-195a-4df8-a27d-5ed7a9c950ff",
        "colab": {
          "base_uri": "https://localhost:8080/",
          "height": 187
        }
      },
      "source": [
        "a = np.arange(3).reshape(3,1)\n",
        "print(\"a=\")\n",
        "print(a)\n",
        "b = np.arange(3)\n",
        "print(\"b=\")\n",
        "print(b)\n",
        "print(\"a+b=\")\n",
        "print(a+b)"
      ],
      "execution_count": 0,
      "outputs": [
        {
          "output_type": "stream",
          "text": [
            "a=\n",
            "[[0]\n",
            " [1]\n",
            " [2]]\n",
            "b=\n",
            "[0 1 2]\n",
            "a+b=\n",
            "[[0 1 2]\n",
            " [1 2 3]\n",
            " [2 3 4]]\n"
          ],
          "name": "stdout"
        }
      ]
    },
    {
      "cell_type": "code",
      "metadata": {
        "colab_type": "code",
        "id": "uUVSvPY8gO7D",
        "outputId": "983ee0e9-27d3-464a-8632-b7a6d1e88cfc",
        "colab": {
          "base_uri": "https://localhost:8080/",
          "height": 299
        }
      },
      "source": [
        "a=np.arange(6).reshape(3,2)\n",
        "print(\"a=\")\n",
        "print(a)\n",
        "b = np.arange(3)\n",
        "print(\"b=\")\n",
        "print(b)\n",
        "# this will raise an error\n",
        "print(a + b)"
      ],
      "execution_count": 0,
      "outputs": [
        {
          "output_type": "stream",
          "text": [
            "a=\n",
            "[[0 1]\n",
            " [2 3]\n",
            " [4 5]]\n",
            "b=\n",
            "[0 1 2]\n"
          ],
          "name": "stdout"
        },
        {
          "output_type": "error",
          "ename": "ValueError",
          "evalue": "ignored",
          "traceback": [
            "\u001b[0;31m---------------------------------------------------------------------------\u001b[0m",
            "\u001b[0;31mValueError\u001b[0m                                Traceback (most recent call last)",
            "\u001b[0;32m<ipython-input-89-9729d29409c5>\u001b[0m in \u001b[0;36m<module>\u001b[0;34m()\u001b[0m\n\u001b[1;32m      6\u001b[0m \u001b[0mprint\u001b[0m\u001b[0;34m(\u001b[0m\u001b[0mb\u001b[0m\u001b[0;34m)\u001b[0m\u001b[0;34m\u001b[0m\u001b[0;34m\u001b[0m\u001b[0m\n\u001b[1;32m      7\u001b[0m \u001b[0;31m# this will raise an error\u001b[0m\u001b[0;34m\u001b[0m\u001b[0;34m\u001b[0m\u001b[0;34m\u001b[0m\u001b[0m\n\u001b[0;32m----> 8\u001b[0;31m \u001b[0mprint\u001b[0m\u001b[0;34m(\u001b[0m\u001b[0ma\u001b[0m \u001b[0;34m+\u001b[0m \u001b[0mb\u001b[0m\u001b[0;34m)\u001b[0m\u001b[0;34m\u001b[0m\u001b[0;34m\u001b[0m\u001b[0m\n\u001b[0m",
            "\u001b[0;31mValueError\u001b[0m: operands could not be broadcast together with shapes (3,2) (3,) "
          ]
        }
      ]
    },
    {
      "cell_type": "markdown",
      "metadata": {
        "colab_type": "text",
        "id": "wCROdnDBgO7E"
      },
      "source": [
        "### Slicing, Masking and Fancy Indexing\n",
        "\n",
        "- `arr[lower:upper:step]`\n",
        "- Extracts a portion of a sequence by specifying a lower and upper bound. The lower-bound element is included, but the upper-bound element is not included. Mathematically: `[lower, upper)`. The step value specifies the stride between elements"
      ]
    },
    {
      "cell_type": "code",
      "metadata": {
        "colab_type": "code",
        "id": "BWcycHbcgO7H",
        "colab": {}
      },
      "source": [
        "# indices: 0 1 2 3 4\n",
        "# negative indices:-5 -4 -3 -2 -1\n",
        "a = np.array([10,11,12,13,14])\n",
        "# The following slicing results are the same"
      ],
      "execution_count": 0,
      "outputs": []
    },
    {
      "cell_type": "code",
      "metadata": {
        "colab_type": "code",
        "id": "1fqloZLOgO7I",
        "outputId": "378df240-160d-4dac-f7d8-f114a292a8b8",
        "colab": {
          "base_uri": "https://localhost:8080/",
          "height": 34
        }
      },
      "source": [
        "print(a[1:3])"
      ],
      "execution_count": 0,
      "outputs": [
        {
          "output_type": "stream",
          "text": [
            "[11 12]\n"
          ],
          "name": "stdout"
        }
      ]
    },
    {
      "cell_type": "code",
      "metadata": {
        "colab_type": "code",
        "id": "slKQZtMQgO7M",
        "outputId": "3c078845-dcbc-4d26-e88a-2931093ee6d4",
        "colab": {
          "base_uri": "https://localhost:8080/",
          "height": 34
        }
      },
      "source": [
        "print(a[1:-2])"
      ],
      "execution_count": 0,
      "outputs": [
        {
          "output_type": "stream",
          "text": [
            "[11 12]\n"
          ],
          "name": "stdout"
        }
      ]
    },
    {
      "cell_type": "code",
      "metadata": {
        "colab_type": "code",
        "id": "kZbdVRwCgO7Q",
        "outputId": "942087d6-f7e8-4a7c-88d0-f352bb8ad506",
        "colab": {
          "base_uri": "https://localhost:8080/",
          "height": 34
        }
      },
      "source": [
        "print(a[-4:3])"
      ],
      "execution_count": 0,
      "outputs": [
        {
          "output_type": "stream",
          "text": [
            "[11 12]\n"
          ],
          "name": "stdout"
        }
      ]
    },
    {
      "cell_type": "code",
      "metadata": {
        "colab_type": "code",
        "id": "pjxm8xBpgO7S",
        "outputId": "89d1a28e-bd4b-4d7e-aae0-ab7ebec338c4",
        "colab": {
          "base_uri": "https://localhost:8080/",
          "height": 34
        }
      },
      "source": [
        "# Omitting Indices: omitted boundaries are assumed to be the beginning\n",
        "# or end of the list, compare the following results\n",
        "print(a[:3])"
      ],
      "execution_count": 0,
      "outputs": [
        {
          "output_type": "stream",
          "text": [
            "[10 11 12]\n"
          ],
          "name": "stdout"
        }
      ]
    },
    {
      "cell_type": "code",
      "metadata": {
        "colab_type": "code",
        "id": "WMk0BT_RgO7U",
        "outputId": "596619dc-55fb-49ea-e866-27a957dbf82d",
        "colab": {
          "base_uri": "https://localhost:8080/",
          "height": 34
        }
      },
      "source": [
        "print(a[-2:])"
      ],
      "execution_count": 0,
      "outputs": [
        {
          "output_type": "stream",
          "text": [
            "[13 14]\n"
          ],
          "name": "stdout"
        }
      ]
    },
    {
      "cell_type": "code",
      "metadata": {
        "colab_type": "code",
        "id": "N2_yvneTgO7X",
        "outputId": "8a49a69e-f1dc-4216-d4c5-b34e71ef7e55",
        "colab": {
          "base_uri": "https://localhost:8080/",
          "height": 34
        }
      },
      "source": [
        "print(a[1:]) # from 1st element to the last"
      ],
      "execution_count": 0,
      "outputs": [
        {
          "output_type": "stream",
          "text": [
            "[11 12 13 14]\n"
          ],
          "name": "stdout"
        }
      ]
    },
    {
      "cell_type": "code",
      "metadata": {
        "colab_type": "code",
        "id": "SjxWBYAGgO7Y",
        "outputId": "0554ffe6-c7c0-496e-9cad-0cd06641f66e",
        "colab": {
          "base_uri": "https://localhost:8080/",
          "height": 34
        }
      },
      "source": [
        "print(a[:-1]) # from 1st to the second to last"
      ],
      "execution_count": 0,
      "outputs": [
        {
          "output_type": "stream",
          "text": [
            "[10 11 12 13]\n"
          ],
          "name": "stdout"
        }
      ]
    },
    {
      "cell_type": "code",
      "metadata": {
        "colab_type": "code",
        "id": "BPiUsNfsgO7a",
        "outputId": "600abee3-3723-4f83-cd24-753e7103fde9",
        "colab": {
          "base_uri": "https://localhost:8080/",
          "height": 34
        }
      },
      "source": [
        "print(a[:]) # entire array"
      ],
      "execution_count": 0,
      "outputs": [
        {
          "output_type": "stream",
          "text": [
            "[10 11 12 13 14]\n"
          ],
          "name": "stdout"
        }
      ]
    },
    {
      "cell_type": "code",
      "metadata": {
        "colab_type": "code",
        "id": "sEuiCIlsgO7b",
        "outputId": "a35953b8-e42d-4f5a-982c-ffe54ba6e764",
        "colab": {
          "base_uri": "https://localhost:8080/",
          "height": 34
        }
      },
      "source": [
        "print(a[::2]) # from 1st, every other element (even indices)"
      ],
      "execution_count": 0,
      "outputs": [
        {
          "output_type": "stream",
          "text": [
            "[10 12 14]\n"
          ],
          "name": "stdout"
        }
      ]
    },
    {
      "cell_type": "code",
      "metadata": {
        "colab_type": "code",
        "id": "w4lZag3qgO7c",
        "outputId": "b702b75a-8191-4e45-c4e4-c523d994fe5e",
        "colab": {
          "base_uri": "https://localhost:8080/",
          "height": 34
        }
      },
      "source": [
        "print(a[1::2]) # from 2nd, every other element (odd indices)"
      ],
      "execution_count": 0,
      "outputs": [
        {
          "output_type": "stream",
          "text": [
            "[11 13]\n"
          ],
          "name": "stdout"
        }
      ]
    },
    {
      "cell_type": "markdown",
      "metadata": {
        "colab_type": "text",
        "id": "HwpH4UJ9gO7g"
      },
      "source": [
        "* #### Multidimensional Arrays"
      ]
    },
    {
      "cell_type": "code",
      "metadata": {
        "colab_type": "code",
        "id": "fFWloDK3gO7h",
        "outputId": "13c7d1e8-2118-415d-bc97-e6070141a4c3",
        "colab": {
          "base_uri": "https://localhost:8080/",
          "height": 51
        }
      },
      "source": [
        "# A few 2D operations similar to the 1D operations shown above\n",
        "a = np.array([[ 0, 1, 2, 3],[10,11,12,13]], float)\n",
        "print(a)"
      ],
      "execution_count": 0,
      "outputs": [
        {
          "output_type": "stream",
          "text": [
            "[[ 0.  1.  2.  3.]\n",
            " [10. 11. 12. 13.]]\n"
          ],
          "name": "stdout"
        }
      ]
    },
    {
      "cell_type": "code",
      "metadata": {
        "colab_type": "code",
        "id": "l57AeQ-MgO7i",
        "outputId": "c203136f-cbe8-4fff-cc07-47fad79c7f13",
        "colab": {
          "base_uri": "https://localhost:8080/",
          "height": 34
        }
      },
      "source": [
        "print(a.shape,a.size)"
      ],
      "execution_count": 0,
      "outputs": [
        {
          "output_type": "stream",
          "text": [
            "(2, 4) 8\n"
          ],
          "name": "stdout"
        }
      ]
    },
    {
      "cell_type": "code",
      "metadata": {
        "colab_type": "code",
        "id": "6mX-w_BYgO7j",
        "outputId": "5c1229a2-986e-4d40-feb1-8ce6b98132c2",
        "colab": {
          "base_uri": "https://localhost:8080/",
          "height": 34
        }
      },
      "source": [
        "print(a.ndim) # number of dimensions"
      ],
      "execution_count": 0,
      "outputs": [
        {
          "output_type": "stream",
          "text": [
            "2\n"
          ],
          "name": "stdout"
        }
      ]
    },
    {
      "cell_type": "code",
      "metadata": {
        "colab_type": "code",
        "outputId": "3d832737-9de4-41d1-f196-acaaa153af2c",
        "id": "LCyS3p8XYjes",
        "colab": {
          "base_uri": "https://localhost:8080/",
          "height": 34
        }
      },
      "source": [
        "print(a[1])"
      ],
      "execution_count": 0,
      "outputs": [
        {
          "output_type": "stream",
          "text": [
            "[10. 11. 12. 13.]\n"
          ],
          "name": "stdout"
        }
      ]
    },
    {
      "cell_type": "code",
      "metadata": {
        "colab_type": "code",
        "id": "MzJMLMywgO7k",
        "outputId": "67f0bb1a-7c7a-4448-ed12-dd89910beea8",
        "colab": {
          "base_uri": "https://localhost:8080/",
          "height": 34
        }
      },
      "source": [
        "print(a[1,3]) # reference a 2D array element"
      ],
      "execution_count": 0,
      "outputs": [
        {
          "output_type": "stream",
          "text": [
            "13.0\n"
          ],
          "name": "stdout"
        }
      ]
    },
    {
      "cell_type": "code",
      "metadata": {
        "colab_type": "code",
        "id": "mPWZzXYsgO7m",
        "colab": {}
      },
      "source": [
        "a[1,3] = -1 # set value of an array element"
      ],
      "execution_count": 0,
      "outputs": []
    },
    {
      "cell_type": "code",
      "metadata": {
        "colab_type": "code",
        "id": "7dZfUV2agO7n",
        "outputId": "ea9e7a8c-eb10-44ac-e9b3-8ef6c8abe45f",
        "colab": {
          "base_uri": "https://localhost:8080/",
          "height": 34
        }
      },
      "source": [
        "print(a[1]) # address second row using a single index"
      ],
      "execution_count": 0,
      "outputs": [
        {
          "output_type": "stream",
          "text": [
            "[10. 11. 12. -1.]\n"
          ],
          "name": "stdout"
        }
      ]
    },
    {
      "cell_type": "code",
      "metadata": {
        "id": "TGexdbLstD-J",
        "colab_type": "code",
        "outputId": "d6a8360d-f4da-447a-de96-fe8f7f0d53ae",
        "colab": {
          "base_uri": "https://localhost:8080/",
          "height": 51
        }
      },
      "source": [
        "a[1] = 0\n",
        "print(a)"
      ],
      "execution_count": 0,
      "outputs": [
        {
          "output_type": "stream",
          "text": [
            "[[0. 1. 2. 3.]\n",
            " [0. 0. 0. 0.]]\n"
          ],
          "name": "stdout"
        }
      ]
    },
    {
      "cell_type": "code",
      "metadata": {
        "colab_type": "code",
        "outputId": "29ef42d3-2bc8-412b-cd1b-cf70def52da3",
        "id": "xxWBFvYUYje0",
        "colab": {
          "base_uri": "https://localhost:8080/",
          "height": 102
        }
      },
      "source": [
        "a = np.arange(1,26)\n",
        "a = a.reshape(5,5) # generate the 2D array\n",
        "print(a)"
      ],
      "execution_count": 0,
      "outputs": [
        {
          "output_type": "stream",
          "text": [
            "[[ 1  2  3  4  5]\n",
            " [ 6  7  8  9 10]\n",
            " [11 12 13 14 15]\n",
            " [16 17 18 19 20]\n",
            " [21 22 23 24 25]]\n"
          ],
          "name": "stdout"
        }
      ]
    },
    {
      "cell_type": "code",
      "metadata": {
        "colab_type": "code",
        "id": "Bo_zuV2EgO7p",
        "outputId": "909ec2e0-3034-43cb-fd25-79ff53d79d5d",
        "colab": {
          "base_uri": "https://localhost:8080/",
          "height": 34
        }
      },
      "source": [
        "print(a[0,3:5])"
      ],
      "execution_count": 0,
      "outputs": [
        {
          "output_type": "stream",
          "text": [
            "[4 5]\n"
          ],
          "name": "stdout"
        }
      ]
    },
    {
      "cell_type": "code",
      "metadata": {
        "id": "K5SC6MVvtWO7",
        "colab_type": "code",
        "outputId": "a1c93c34-5b00-4f13-b836-d19a58bba734",
        "colab": {
          "base_uri": "https://localhost:8080/",
          "height": 102
        }
      },
      "source": [
        "a[0,3:5] = 0\n",
        "print(a)"
      ],
      "execution_count": 0,
      "outputs": [
        {
          "output_type": "stream",
          "text": [
            "[[ 1  2  3  0  0]\n",
            " [ 6  7  8  9 10]\n",
            " [11 12 13 14 15]\n",
            " [16 17 18 19 20]\n",
            " [21 22 23 24 25]]\n"
          ],
          "name": "stdout"
        }
      ]
    },
    {
      "cell_type": "code",
      "metadata": {
        "colab_type": "code",
        "id": "IHddn7YxgO7v",
        "outputId": "45deb25a-b001-4bba-8946-ea9be9357d6c",
        "colab": {
          "base_uri": "https://localhost:8080/",
          "height": 34
        }
      },
      "source": [
        "print(a[0,3:4])"
      ],
      "execution_count": 0,
      "outputs": [
        {
          "output_type": "stream",
          "text": [
            "[4]\n"
          ],
          "name": "stdout"
        }
      ]
    },
    {
      "cell_type": "code",
      "metadata": {
        "colab_type": "code",
        "id": "68hT5XeHgO7y",
        "outputId": "19adeade-6b23-435c-e3f1-fd2915281a9a",
        "colab": {
          "base_uri": "https://localhost:8080/",
          "height": 34
        }
      },
      "source": [
        "print(a[4:,4:])"
      ],
      "execution_count": 0,
      "outputs": [
        {
          "output_type": "stream",
          "text": [
            "[[25]]\n"
          ],
          "name": "stdout"
        }
      ]
    },
    {
      "cell_type": "code",
      "metadata": {
        "colab_type": "code",
        "id": "kcoo4uqTgO70",
        "outputId": "24018508-04bb-4692-936c-cc3b2700b144",
        "colab": {
          "base_uri": "https://localhost:8080/",
          "height": 51
        }
      },
      "source": [
        "print(a[3:,3:])"
      ],
      "execution_count": 0,
      "outputs": [
        {
          "output_type": "stream",
          "text": [
            "[[19 20]\n",
            " [24 25]]\n"
          ],
          "name": "stdout"
        }
      ]
    },
    {
      "cell_type": "code",
      "metadata": {
        "colab_type": "code",
        "id": "M3QUPi80gO71",
        "outputId": "92f753cb-90d6-40a1-a942-f9d30f607c7d",
        "colab": {
          "base_uri": "https://localhost:8080/",
          "height": 34
        }
      },
      "source": [
        "print(a[:,2])"
      ],
      "execution_count": 0,
      "outputs": [
        {
          "output_type": "stream",
          "text": [
            "[ 3  8 13 18 23]\n"
          ],
          "name": "stdout"
        }
      ]
    },
    {
      "cell_type": "code",
      "metadata": {
        "colab_type": "code",
        "id": "ENMMZRRQgO72",
        "outputId": "aea9f71b-e872-4483-ea53-64966bbfc151",
        "colab": {
          "base_uri": "https://localhost:8080/",
          "height": 51
        }
      },
      "source": [
        "print(a[2::2,::2])"
      ],
      "execution_count": 0,
      "outputs": [
        {
          "output_type": "stream",
          "text": [
            "[[11 13 15]\n",
            " [21 23 25]]\n"
          ],
          "name": "stdout"
        }
      ]
    },
    {
      "cell_type": "markdown",
      "metadata": {
        "colab_type": "text",
        "id": "dOJ3VUszgO73"
      },
      "source": [
        "### Slices Are References\n",
        "- Slices are references to memory in the original array\n",
        "- Changing values in a slice also changes the original array !"
      ]
    },
    {
      "cell_type": "code",
      "metadata": {
        "colab_type": "code",
        "id": "VKZ5Os7dgO73",
        "outputId": "64a12cf1-d1c0-4178-f30b-8ba21832ee86",
        "colab": {
          "base_uri": "https://localhost:8080/",
          "height": 34
        }
      },
      "source": [
        "a = np.arange(5)\n",
        "print(a)"
      ],
      "execution_count": 0,
      "outputs": [
        {
          "output_type": "stream",
          "text": [
            "[0 1 2 3 4]\n"
          ],
          "name": "stdout"
        }
      ]
    },
    {
      "cell_type": "code",
      "metadata": {
        "colab_type": "code",
        "id": "oBpldQJEgO75",
        "outputId": "5e738ea8-84a4-4b1e-d063-8c6432d36df3",
        "colab": {
          "base_uri": "https://localhost:8080/",
          "height": 34
        }
      },
      "source": [
        "b = a[2:4]\n",
        "print(b)"
      ],
      "execution_count": 0,
      "outputs": [
        {
          "output_type": "stream",
          "text": [
            "[2 3]\n"
          ],
          "name": "stdout"
        }
      ]
    },
    {
      "cell_type": "code",
      "metadata": {
        "colab_type": "code",
        "id": "INZqY9gEgO76",
        "outputId": "22e32de1-cab2-4757-a2a1-403d7055601d",
        "colab": {
          "base_uri": "https://localhost:8080/",
          "height": 34
        }
      },
      "source": [
        "b[0]=7\n",
        "print(a)"
      ],
      "execution_count": 0,
      "outputs": [
        {
          "output_type": "stream",
          "text": [
            "[0 1 7 3 4]\n"
          ],
          "name": "stdout"
        }
      ]
    },
    {
      "cell_type": "markdown",
      "metadata": {
        "colab_type": "text",
        "id": "NFTphT1PgO77"
      },
      "source": [
        "### Masking"
      ]
    },
    {
      "cell_type": "code",
      "metadata": {
        "colab_type": "code",
        "id": "Zk9OdUTPgO78",
        "outputId": "67348917-b47c-4208-90fd-dd43e57d5b3d",
        "colab": {
          "base_uri": "https://localhost:8080/",
          "height": 34
        }
      },
      "source": [
        "a = np.arange(10)\n",
        "print(a)"
      ],
      "execution_count": 0,
      "outputs": [
        {
          "output_type": "stream",
          "text": [
            "[0 1 2 3 4 5 6 7 8 9]\n"
          ],
          "name": "stdout"
        }
      ]
    },
    {
      "cell_type": "code",
      "metadata": {
        "colab_type": "code",
        "id": "toc0o7rOgO7_",
        "outputId": "dbb35a65-54b2-472a-ffcd-e41090f52a2f",
        "colab": {
          "base_uri": "https://localhost:8080/",
          "height": 34
        }
      },
      "source": [
        "# creation of mask using ufunc\n",
        "mask=np.abs(a-5)>2\n",
        "print(mask)"
      ],
      "execution_count": 0,
      "outputs": [
        {
          "output_type": "stream",
          "text": [
            "[ True  True  True False False False False False  True  True]\n"
          ],
          "name": "stdout"
        }
      ]
    },
    {
      "cell_type": "code",
      "metadata": {
        "colab_type": "code",
        "id": "ux9tOyswgO8C",
        "outputId": "70e61cdf-c2a3-4b99-bafd-2df7a038d9d9",
        "colab": {
          "base_uri": "https://localhost:8080/",
          "height": 34
        }
      },
      "source": [
        "print(a[mask])"
      ],
      "execution_count": 0,
      "outputs": [
        {
          "output_type": "stream",
          "text": [
            "[0 1 2 8 9]\n"
          ],
          "name": "stdout"
        }
      ]
    },
    {
      "cell_type": "code",
      "metadata": {
        "colab_type": "code",
        "id": "engr-shJgO8F",
        "outputId": "8984bbbb-031d-490c-b716-c205b55bdf6e",
        "colab": {
          "base_uri": "https://localhost:8080/",
          "height": 51
        }
      },
      "source": [
        "b=a[mask]\n",
        "# manual creation of mask\n",
        "mask=np.array([0,1,0,1,0],dtype=bool)\n",
        "print(mask)\n",
        "print(b[mask])"
      ],
      "execution_count": 0,
      "outputs": [
        {
          "output_type": "stream",
          "text": [
            "[False  True False  True False]\n",
            "[1 8]\n"
          ],
          "name": "stdout"
        }
      ]
    },
    {
      "cell_type": "markdown",
      "metadata": {
        "colab_type": "text",
        "id": "vRJUBR-FgO8G"
      },
      "source": [
        "### 2D Masking\n",
        "<!--\n",
        "<img src=\"https://github.com/lsuhpchelp/lbrnloniworkshop2018/raw/master/day2_python/figure/masking_2d.png\", style=\"float: left;\", width=\"250\">\n",
        "-->\n",
        "\n",
        "\n",
        "![masking 2d](https://github.com/lsuhpchelp/lbrnloniworkshop2020/raw/master/day2/figure/masking_2d_scale.png)"
      ]
    },
    {
      "cell_type": "code",
      "metadata": {
        "colab_type": "code",
        "id": "xhjGE4q5gO8G",
        "outputId": "bc0ace3a-14e5-48b4-8359-75c175a599ab",
        "colab": {
          "base_uri": "https://localhost:8080/",
          "height": 102
        }
      },
      "source": [
        "a=np.arange(25).reshape(5,5)+10\n",
        "print(a)"
      ],
      "execution_count": 0,
      "outputs": [
        {
          "output_type": "stream",
          "text": [
            "[[10 11 12 13 14]\n",
            " [15 16 17 18 19]\n",
            " [20 21 22 23 24]\n",
            " [25 26 27 28 29]\n",
            " [30 31 32 33 34]]\n"
          ],
          "name": "stdout"
        }
      ]
    },
    {
      "cell_type": "code",
      "metadata": {
        "colab_type": "code",
        "id": "flTvRcfGgO8H",
        "outputId": "febf4738-f0d0-4cc2-8c76-adb4c6531f99",
        "colab": {
          "base_uri": "https://localhost:8080/",
          "height": 68
        }
      },
      "source": [
        "mask=np.array([0,1,1,0,1],dtype=bool)\n",
        "print(a[mask]) # on rows, same as a[mask,:]"
      ],
      "execution_count": 0,
      "outputs": [
        {
          "output_type": "stream",
          "text": [
            "[[15 16 17 18 19]\n",
            " [20 21 22 23 24]\n",
            " [30 31 32 33 34]]\n"
          ],
          "name": "stdout"
        }
      ]
    },
    {
      "cell_type": "code",
      "metadata": {
        "colab_type": "code",
        "id": "-xCLHmV7gO8J",
        "outputId": "2f71ba84-1367-4d93-8ab4-4a050c587830",
        "colab": {
          "base_uri": "https://localhost:8080/",
          "height": 102
        }
      },
      "source": [
        "print(a[:,mask]) # on columns"
      ],
      "execution_count": 0,
      "outputs": [
        {
          "output_type": "stream",
          "text": [
            "[[11 12 14]\n",
            " [16 17 19]\n",
            " [21 22 24]\n",
            " [26 27 29]\n",
            " [31 32 34]]\n"
          ],
          "name": "stdout"
        }
      ]
    },
    {
      "cell_type": "markdown",
      "metadata": {
        "colab_type": "text",
        "id": "2XmKUIvmgO8M"
      },
      "source": [
        "### Fancy Indexing - 1D\n",
        "- NumPy offers more indexing facilities than regular Python sequences.\n",
        "- In addition to indexing by integers and slices, arrays can be indexed by arrays of integers and arrays of Booleans (as seen before)."
      ]
    },
    {
      "cell_type": "code",
      "metadata": {
        "colab_type": "code",
        "id": "nYZBYUvugO8M",
        "outputId": "842b96fa-4e4d-456b-c404-060e40670629",
        "colab": {
          "base_uri": "https://localhost:8080/",
          "height": 51
        }
      },
      "source": [
        "a=np.arange(8)**2\n",
        "print(a)\n",
        "# indexing by position\n",
        "i=np.array([1,3,5,1])\n",
        "print(a[i])"
      ],
      "execution_count": 0,
      "outputs": [
        {
          "output_type": "stream",
          "text": [
            "[ 0  1  4  9 16 25 36 49]\n",
            "[ 1  9 25  1]\n"
          ],
          "name": "stdout"
        }
      ]
    },
    {
      "cell_type": "markdown",
      "metadata": {
        "colab_type": "text",
        "id": "7PyqbzrhgO8P"
      },
      "source": [
        "### Fancy Indexing - 2D\n",
        "<!--\n",
        "<img src=\"figure/fancy_indexing_2d.png\", style=\"float: left;\", width=\"200\">\n",
        "-->\n",
        "![masking 2d](https://github.com/lsuhpchelp/lbrnloniworkshop2020/raw/master/day2/figure/fancy_indexing_2d_scale.png)"
      ]
    },
    {
      "cell_type": "code",
      "metadata": {
        "colab_type": "code",
        "id": "_3w-6NC0gO8P",
        "outputId": "90eb3d6e-9ab4-4266-ca0a-764cc702e693",
        "colab": {
          "base_uri": "https://localhost:8080/",
          "height": 85
        }
      },
      "source": [
        "b=(np.arange(12)**2).reshape(3,-1)\n",
        "print(b)\n",
        "i=[0,2,1]\n",
        "j=[0,2,3]\n",
        "# indexing 2D array\n",
        "print(b[i,j])"
      ],
      "execution_count": 0,
      "outputs": [
        {
          "output_type": "stream",
          "text": [
            "[[  0   1   4   9]\n",
            " [ 16  25  36  49]\n",
            " [ 64  81 100 121]]\n",
            "[  0 100  49]\n"
          ],
          "name": "stdout"
        }
      ]
    },
    {
      "cell_type": "code",
      "metadata": {
        "colab_type": "code",
        "id": "OHyHKfsMgO8R",
        "outputId": "ca750c49-f3cd-43e7-b69e-e552ce1fe705",
        "colab": {
          "base_uri": "https://localhost:8080/",
          "height": 51
        }
      },
      "source": [
        "# note the shape of the resulting array\n",
        "i=[[0,2],[2,1]]\n",
        "j=[[0,3],[3,1]]\n",
        "# When an array of indices is used,\n",
        "# the result has the same shape as the indices;\n",
        "print(b[i,j])"
      ],
      "execution_count": 0,
      "outputs": [
        {
          "output_type": "stream",
          "text": [
            "[[  0 121]\n",
            " [121  25]]\n"
          ],
          "name": "stdout"
        }
      ]
    },
    {
      "cell_type": "markdown",
      "metadata": {
        "colab_type": "text",
        "id": "wv1alMymgO8T"
      },
      "source": [
        "## Example of using masking, and plotting"
      ]
    },
    {
      "cell_type": "code",
      "metadata": {
        "colab_type": "code",
        "id": "W9gnjAJFgO8U",
        "colab": {}
      },
      "source": [
        "x = np.linspace(-np.pi, np.pi, 30,endpoint=True)\n",
        "y = np.sin(x)"
      ],
      "execution_count": 0,
      "outputs": []
    },
    {
      "cell_type": "code",
      "metadata": {
        "colab_type": "code",
        "id": "FBCngNczgO8V",
        "outputId": "3d3c053f-41df-4d72-8cf6-5ebd64df8436",
        "colab": {
          "base_uri": "https://localhost:8080/",
          "height": 265
        }
      },
      "source": [
        "import matplotlib.pyplot as plt\n",
        "plt.plot(x,y,'b-s')\n",
        "plt.show()"
      ],
      "execution_count": 0,
      "outputs": [
        {
          "output_type": "display_data",
          "data": {
            "image/png": "[encoded data removed]",
            "text/plain": [
              "<Figure size 432x288 with 1 Axes>"
            ]
          },
          "metadata": {
            "tags": [],
            "needs_background": "light"
          }
        }
      ]
    },
    {
      "cell_type": "code",
      "metadata": {
        "colab_type": "code",
        "id": "JtBJ728HgO8W",
        "outputId": "b1ac1139-0be9-47a6-fefc-74bd960226f8",
        "colab": {
          "base_uri": "https://localhost:8080/",
          "height": 102
        }
      },
      "source": [
        "# plot the y>0 part\n",
        "mask = y>0\n",
        "print(mask)\n",
        "print(x[mask])"
      ],
      "execution_count": 0,
      "outputs": [
        {
          "output_type": "stream",
          "text": [
            "[False False False False False False False False False False False False\n",
            " False False False  True  True  True  True  True  True  True  True  True\n",
            "  True  True  True  True  True  True]\n",
            "[0.1083 0.325  0.5417 0.7583 0.975  1.1916 1.4083 1.625  1.8416 2.0583\n",
            " 2.2749 2.4916 2.7083 2.9249 3.1416]\n"
          ],
          "name": "stdout"
        }
      ]
    },
    {
      "cell_type": "code",
      "metadata": {
        "colab_type": "code",
        "id": "JcSa6avMgO8Z",
        "outputId": "d5b30ee9-a7c7-4ee3-ae1d-509ec09e5ea2",
        "colab": {
          "base_uri": "https://localhost:8080/",
          "height": 265
        }
      },
      "source": [
        "plt.plot(x,y,'b-s')\n",
        "plt.plot(x[mask],y[mask],'r-o')\n",
        "plt.show()"
      ],
      "execution_count": 0,
      "outputs": [
        {
          "output_type": "display_data",
          "data": {
            "image/png": "[encoded data removed]",
            "text/plain": [
              "<Figure size 432x288 with 1 Axes>"
            ]
          },
          "metadata": {
            "tags": [],
            "needs_background": "light"
          }
        }
      ]
    },
    {
      "cell_type": "code",
      "metadata": {
        "colab_type": "code",
        "id": "bALAF-2dgO8b",
        "colab": {}
      },
      "source": [
        "mask1 = (y<0) & (x>-np.pi/2)"
      ],
      "execution_count": 0,
      "outputs": []
    },
    {
      "cell_type": "code",
      "metadata": {
        "colab_type": "code",
        "id": "827tOLUDgO8f",
        "outputId": "bc5c4457-dafa-4cd9-b325-21fc1d90f7e2",
        "colab": {
          "base_uri": "https://localhost:8080/",
          "height": 265
        }
      },
      "source": [
        "# plot between -pi/2 and pi/2\n",
        "plt.plot(x,y,'b-s')\n",
        "plt.plot(x[mask1],y[mask1],'m-^')\n",
        "plt.show()"
      ],
      "execution_count": 0,
      "outputs": [
        {
          "output_type": "display_data",
          "data": {
            "image/png": "[encoded data removed]",
            "text/plain": [
              "<Figure size 432x288 with 1 Axes>"
            ]
          },
          "metadata": {
            "tags": [],
            "needs_background": "light"
          }
        }
      ]
    },
    {
      "cell_type": "markdown",
      "metadata": {
        "colab_type": "text",
        "id": "dr9IHrvNgO8i"
      },
      "source": [
        "# Examples\n",
        "## 1. Calculate Derivative of a function"
      ]
    },
    {
      "cell_type": "code",
      "metadata": {
        "colab_type": "code",
        "id": "t49MEscWgO8j",
        "colab": {}
      },
      "source": [
        "\"\"\"\n",
        "Calculate Derivative\n",
        "--------------------\n",
        "\"\"\"\n",
        "import numpy as np\n",
        "import matplotlib.pyplot as plt\n",
        "\n",
        "# calculate the sin() function on evenly spaced data.\n",
        "x = np.linspace(0,2*np.pi,101)\n",
        "y = np.sin(x)\n",
        "\n",
        "# use slicing to get dy and dx\n",
        "dy=y[1:]-y[:-1]\n",
        "dx=x[1:]-x[:-1]\n",
        "\n",
        "dy_dx = dy/dx\n",
        "cx = 0.5*(x[1:]+x[:-1])"
      ],
      "execution_count": 0,
      "outputs": []
    },
    {
      "cell_type": "code",
      "metadata": {
        "colab_type": "code",
        "id": "pWOSdg0DgO8o",
        "outputId": "3b080f08-3124-425f-ccbb-2f7c29a6235e",
        "colab": {
          "base_uri": "https://localhost:8080/",
          "height": 265
        }
      },
      "source": [
        "# plt.subplot(1,2,1)\n",
        "plt.plot(x,y)\n",
        "plt.plot(cx,dy_dx,'xr')\n",
        "plt.plot(x,np.cos(x),'-g')\n",
        "plt.show()"
      ],
      "execution_count": 0,
      "outputs": [
        {
          "output_type": "display_data",
          "data": {
            "image/png": "[encoded data removed]",
            "text/plain": [
              "<Figure size 432x288 with 1 Axes>"
            ]
          },
          "metadata": {
            "tags": [],
            "needs_background": "light"
          }
        }
      ]
    },
    {
      "cell_type": "markdown",
      "metadata": {
        "colab_type": "text",
        "id": "xkCuC14jgO8q"
      },
      "source": [
        "## 2. Change RGB Image to Grayscale"
      ]
    },
    {
      "cell_type": "code",
      "metadata": {
        "colab_type": "code",
        "id": "zpVR4Ce5_-p-",
        "outputId": "8adecc3a-8614-487b-f7c5-b320c7203dff",
        "colab": {
          "base_uri": "https://localhost:8080/",
          "height": 221
        }
      },
      "source": [
        "# download the file to local virtual machine\n",
        "! if [ ! -f \"cat.jpg\" ]; then wget 'https://raw.githubusercontent.com/lsuhpchelp/lbrnloniworkshop2020/master/day2/cat.jpg'; else echo 'file exists'; fi;\n",
        "! ls cat.jpg -lh"
      ],
      "execution_count": 0,
      "outputs": [
        {
          "output_type": "stream",
          "text": [
            "--2020-06-02 16:15:31--  https://raw.githubusercontent.com/lsuhpchelp/lbrnloniworkshop2020/master/day2/cat.jpg\n",
            "Resolving raw.githubusercontent.com (raw.githubusercontent.com)... 151.101.0.133, 151.101.64.133, 151.101.128.133, ...\n",
            "Connecting to raw.githubusercontent.com (raw.githubusercontent.com)|151.101.0.133|:443... connected.\n",
            "HTTP request sent, awaiting response... 200 OK\n",
            "Length: 29813 (29K) [image/jpeg]\n",
            "Saving to: ‘cat.jpg’\n",
            "\n",
            "\rcat.jpg               0%[                    ]       0  --.-KB/s               \rcat.jpg             100%[===================>]  29.11K  --.-KB/s    in 0.01s   \n",
            "\n",
            "2020-06-02 16:15:31 (2.33 MB/s) - ‘cat.jpg’ saved [29813/29813]\n",
            "\n",
            "-rw-r--r-- 1 root root 30K Jun  2 16:15 cat.jpg\n"
          ],
          "name": "stdout"
        }
      ]
    },
    {
      "cell_type": "code",
      "metadata": {
        "colab_type": "code",
        "id": "U28S_haSgO8q",
        "outputId": "2a193f14-9e5f-4db2-d70f-3eb9347a8fd1",
        "colab": {
          "base_uri": "https://localhost:8080/",
          "height": 867
        }
      },
      "source": [
        "import imageio\n",
        "import matplotlib.pyplot as plt\n",
        "\n",
        "catjpgfile = 'cat.jpg'\n",
        "img = imageio.imread(catjpgfile)\n",
        "print(img)\n",
        "print(img.shape)"
      ],
      "execution_count": 0,
      "outputs": [
        {
          "output_type": "stream",
          "text": [
            "[[[132 128 117]\n",
            "  [155 151 139]\n",
            "  [181 175 161]\n",
            "  ...\n",
            "  [ 78  68  43]\n",
            "  [ 76  65  43]\n",
            "  [ 64  53  31]]\n",
            "\n",
            " [[134 130 118]\n",
            "  [152 148 136]\n",
            "  [177 171 157]\n",
            "  ...\n",
            "  [ 75  65  40]\n",
            "  [ 72  61  39]\n",
            "  [ 62  51  29]]\n",
            "\n",
            " [[138 134 122]\n",
            "  [151 145 131]\n",
            "  [174 168 152]\n",
            "  ...\n",
            "  [ 71  61  36]\n",
            "  [ 68  58  33]\n",
            "  [ 59  51  28]]\n",
            "\n",
            " ...\n",
            "\n",
            " [[115 145  75]\n",
            "  [107 137  67]\n",
            "  [106 135  69]\n",
            "  ...\n",
            "  [113 101  79]\n",
            "  [106  94  72]\n",
            "  [103  91  67]]\n",
            "\n",
            " [[107 134  65]\n",
            "  [112 139  72]\n",
            "  [109 138  72]\n",
            "  ...\n",
            "  [112  97  78]\n",
            "  [109  94  73]\n",
            "  [101  89  67]]\n",
            "\n",
            " [[124 151  84]\n",
            "  [116 143  76]\n",
            "  [111 140  74]\n",
            "  ...\n",
            "  [ 91  76  57]\n",
            "  [ 89  74  55]\n",
            "  [ 86  71  50]]]\n",
            "(400, 248, 3)\n"
          ],
          "name": "stdout"
        }
      ]
    },
    {
      "cell_type": "code",
      "metadata": {
        "colab_type": "code",
        "id": "-nQaGEW9gO8v",
        "outputId": "1e24593f-a0d0-46ca-c82b-deaa77c6b9de",
        "colab": {
          "base_uri": "https://localhost:8080/",
          "height": 34
        }
      },
      "source": [
        "img_tinted = np.average(img,weights=[0.299,0.587,0.114],axis=2)\n",
        "print(img_tinted.shape)"
      ],
      "execution_count": 0,
      "outputs": [
        {
          "output_type": "stream",
          "text": [
            "(400, 248)\n"
          ],
          "name": "stdout"
        }
      ]
    },
    {
      "cell_type": "code",
      "metadata": {
        "colab_type": "code",
        "id": "lwPAoehGgO8x",
        "outputId": "e6d29141-ba07-48b1-e293-a5938080a40a",
        "colab": {
          "base_uri": "https://localhost:8080/",
          "height": 269
        }
      },
      "source": [
        "# Show the original image\n",
        "plt.subplot(1, 2, 1)\n",
        "plt.imshow(img)\n",
        "\n",
        "# Show the tinted image\n",
        "plt.subplot(1, 2, 2)\n",
        "\n",
        "# A slight gotcha with imshow is that it might give strange results\n",
        "# if presented with data that is not uint8. To work around this, we\n",
        "# explicitly cast the image to uint8 before displaying it.\n",
        "#plt.imshow(np.uint8(img_tinted), cmap=plt.get_cmap('gray'))\n",
        "plt.imshow(np.uint8(img_tinted), cmap='gray')\n",
        "#plt.imshow(img_tinted)\n",
        "plt.show()"
      ],
      "execution_count": 0,
      "outputs": [
        {
          "output_type": "display_data",
          "data": {
            "image/png": "[encoded data removed]",
            "text/plain": [
              "<Figure size 432x288 with 2 Axes>"
            ]
          },
          "metadata": {
            "tags": [],
            "needs_background": "light"
          }
        }
      ]
    },
    {
      "cell_type": "markdown",
      "metadata": {
        "colab_type": "text",
        "id": "bf8HKORPgO81"
      },
      "source": [
        "## 3. Scipy Example: Regression"
      ]
    },
    {
      "cell_type": "code",
      "metadata": {
        "colab_type": "code",
        "id": "Mpkqa5VDgO82",
        "colab": {}
      },
      "source": [
        "from scipy import stats\n",
        "import numpy as np\n",
        "import matplotlib.pyplot as plt\n",
        "\n",
        "x = np.array([1, 2, 5, 7, 10, 15])\n",
        "y = np.array([2, 6, 7, 9, 14, 19]) \n",
        "slope, intercept, r_value, p_value, std_err = stats.linregress(x,y)"
      ],
      "execution_count": 0,
      "outputs": []
    },
    {
      "cell_type": "code",
      "metadata": {
        "colab_type": "code",
        "id": "viJcEt39gO84",
        "outputId": "5a7b3cc2-48f6-4fd3-c617-332037a94309",
        "colab": {
          "base_uri": "https://localhost:8080/",
          "height": 265
        }
      },
      "source": [
        "plt.plot(x,y,'or')\n",
        "yh = x*slope + intercept\n",
        "plt.plot(x, yh, '-b')\n",
        "plt.show()"
      ],
      "execution_count": 0,
      "outputs": [
        {
          "output_type": "display_data",
          "data": {
            "image/png": "[encoded data removed]",
            "text/plain": [
              "<Figure size 432x288 with 1 Axes>"
            ]
          },
          "metadata": {
            "tags": [],
            "needs_background": "light"
          }
        }
      ]
    },
    {
      "cell_type": "code",
      "metadata": {
        "colab_type": "code",
        "id": "MMhwtCGhgO89",
        "colab": {}
      },
      "source": [
        ""
      ],
      "execution_count": 0,
      "outputs": []
    }
  ]
}