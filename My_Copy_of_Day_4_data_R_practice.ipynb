{
  "nbformat": 4,
  "nbformat_minor": 0,
  "metadata": {
    "colab": {
      "name": "Copy of data_R_practice.ipynb",
      "provenance": [],
      "collapsed_sections": [],
      "include_colab_link": true
    },
    "language_info": {
      "codemirror_mode": "r",
      "file_extension": ".r",
      "mimetype": "text/x-r-source",
      "name": "R",
      "pygments_lexer": "r",
      "version": "3.3.1"
    },
    "kernelspec": {
      "display_name": "R",
      "language": "R",
      "name": "ir"
    }
  },
  "cells": [
    {
      "cell_type": "markdown",
      "metadata": {
        "id": "view-in-github",
        "colab_type": "text"
      },
      "source": [
        "<a href=\"https://colab.research.google.com/github/cb4github/LsuSciCompBootCamp2020/blob/master/My_Copy_of_Day_4_data_R_practice.ipynb\" target=\"_parent\"><img src=\"https://colab.research.google.com/assets/colab-badge.svg\" alt=\"Open In Colab\"/></a>"
      ]
    },
    {
      "cell_type": "markdown",
      "metadata": {
        "id": "CcCXs04t4N5Q",
        "colab_type": "text"
      },
      "source": [
        "Practice session\n",
        "===\n",
        "Data Analysis in R"
      ]
    },
    {
      "cell_type": "markdown",
      "metadata": {
        "id": "puJbML3jdoSt",
        "colab_type": "text"
      },
      "source": [
        "##Warming up: review workding folder basics\n",
        "*  R works best if you have a dedicated folder for each separate project - the working folder. Put all data files in the working folder (or in subfolders).\n"
      ]
    },
    {
      "cell_type": "markdown",
      "metadata": {
        "id": "VU3C0_JyeOol",
        "colab_type": "text"
      },
      "source": [
        "Show current working folder:"
      ]
    },
    {
      "cell_type": "code",
      "metadata": {
        "id": "XGU0JFFCeJQm",
        "colab_type": "code",
        "colab": {
          "base_uri": "https://localhost:8080/",
          "height": 68
        },
        "outputId": "b21042e1-2a8f-49af-a071-81675d13aaea"
      },
      "source": [
        "getwd()\n",
        "list.files()\n",
        "list.files(\"sample_data\")"
      ],
      "execution_count": 6,
      "outputs": [
        {
          "output_type": "display_data",
          "data": {
            "text/plain": [
              "[1] \"/content\""
            ],
            "text/latex": "'/content'",
            "text/markdown": "'/content'",
            "text/html": [
              "'/content'"
            ]
          },
          "metadata": {
            "tags": []
          }
        },
        {
          "output_type": "display_data",
          "data": {
            "text/plain": [
              "[1] \"sample_data\""
            ],
            "text/latex": "'sample\\_data'",
            "text/markdown": "'sample_data'",
            "text/html": [
              "'sample_data'"
            ]
          },
          "metadata": {
            "tags": []
          }
        },
        {
          "output_type": "display_data",
          "data": {
            "text/plain": [
              "[1] \"anscombe.json\"                \"california_housing_test.csv\" \n",
              "[3] \"california_housing_train.csv\" \"mnist_test.csv\"              \n",
              "[5] \"mnist_train_small.csv\"        \"README.md\"                   "
            ],
            "text/latex": "\\begin{enumerate*}\n\\item 'anscombe.json'\n\\item 'california\\_housing\\_test.csv'\n\\item 'california\\_housing\\_train.csv'\n\\item 'mnist\\_test.csv'\n\\item 'mnist\\_train\\_small.csv'\n\\item 'README.md'\n\\end{enumerate*}\n",
            "text/markdown": "1. 'anscombe.json'\n2. 'california_housing_test.csv'\n3. 'california_housing_train.csv'\n4. 'mnist_test.csv'\n5. 'mnist_train_small.csv'\n6. 'README.md'\n\n\n",
            "text/html": [
              "<style>\n",
              ".list-inline {list-style: none; margin:0; padding: 0}\n",
              ".list-inline>li {display: inline-block}\n",
              ".list-inline>li:not(:last-child)::after {content: \"\\00b7\"; padding: 0 .5ex}\n",
              "</style>\n",
              "<ol class=list-inline><li>'anscombe.json'</li><li>'california_housing_test.csv'</li><li>'california_housing_train.csv'</li><li>'mnist_test.csv'</li><li>'mnist_train_small.csv'</li><li>'README.md'</li></ol>\n"
            ]
          },
          "metadata": {
            "tags": []
          }
        }
      ]
    },
    {
      "cell_type": "markdown",
      "metadata": {
        "id": "6pgrV21teZwS",
        "colab_type": "text"
      },
      "source": [
        "Create a new folder:"
      ]
    },
    {
      "cell_type": "code",
      "metadata": {
        "id": "QkJsZAP0eWLA",
        "colab_type": "code",
        "colab": {}
      },
      "source": [
        "dir.create(\"day4practice\")"
      ],
      "execution_count": 0,
      "outputs": []
    },
    {
      "cell_type": "markdown",
      "metadata": {
        "id": "8n42BV9Begfu",
        "colab_type": "text"
      },
      "source": [
        "Go to the new folder:"
      ]
    },
    {
      "cell_type": "code",
      "metadata": {
        "id": "X_a7c3y7etuh",
        "colab_type": "code",
        "colab": {}
      },
      "source": [
        "setwd(\"day4practice\")"
      ],
      "execution_count": 0,
      "outputs": []
    },
    {
      "cell_type": "markdown",
      "metadata": {
        "id": "tOgijiMHexJp",
        "colab_type": "text"
      },
      "source": [
        "Show current working folder:"
      ]
    },
    {
      "cell_type": "code",
      "metadata": {
        "id": "Q0JBu8ws4N5W",
        "colab_type": "code",
        "colab": {
          "base_uri": "https://localhost:8080/",
          "height": 34
        },
        "outputId": "eb0ee7f4-f706-4242-c5e5-c8b63f3e31b2"
      },
      "source": [
        "getwd()"
      ],
      "execution_count": 9,
      "outputs": [
        {
          "output_type": "display_data",
          "data": {
            "text/plain": [
              "[1] \"/content/day4practice\""
            ],
            "text/latex": "'/content/day4practice'",
            "text/markdown": "'/content/day4practice'",
            "text/html": [
              "'/content/day4practice'"
            ]
          },
          "metadata": {
            "tags": []
          }
        }
      ]
    },
    {
      "cell_type": "markdown",
      "metadata": {
        "id": "nLmxtiJBfE5F",
        "colab_type": "text"
      },
      "source": [
        "##Case Study: 2019 Forbes Global list\n",
        "*   The `forbes` dataset consists of 2000 rows (observations) on 8 variables describing companies’ rank, name, country, category, sales, profits, assets and market value. \n",
        "http://www.hpc.lsu.edu/training/weekly-materials/Downloads/Forbes2000_2019.csv.zip\n",
        "> * **`rank`** the ranking of the company\n",
        "> * **`name`** the name of the company\n",
        "> * **`country`** the country the company is situated in\n",
        "> * **`category`** the products the company produces\n",
        "> * **`sales`** the amount of sales of the company in billion USD\n",
        "> * **`profits`** the profit of the company in billion USD\n",
        "> * **`assets`** the assets of the company in billion USD\n",
        "> * **`marketvalue`** the market value of the company in billion USD\n"
      ]
    },
    {
      "cell_type": "markdown",
      "metadata": {
        "id": "DOEy_8Iif2HB",
        "colab_type": "text"
      },
      "source": [
        "# Step by step Data Analysis in R\n",
        "\n",
        "\n",
        "1. Get data\n",
        "2. Read data\n",
        "3. Inspect data\n",
        "4. Preprocess data (missing and dubious values, discard columns not needed etc.)\n",
        "5. Analyze data\n",
        "6. Generate report\n",
        "\n",
        "\n",
        "\n",
        "\n",
        "\n"
      ]
    },
    {
      "cell_type": "markdown",
      "metadata": {
        "id": "bbBzk3yTqcfB",
        "colab_type": "text"
      },
      "source": [
        "## 1. Getting Data\n"
      ]
    },
    {
      "cell_type": "markdown",
      "metadata": {
        "id": "xpY9oZ1EuN6Q",
        "colab_type": "text"
      },
      "source": [
        "Raw data \n",
        "* http://www.hpc.lsu.edu/training/weekly-materials/Downloads/Forbes2000_2019.csv.zip"
      ]
    },
    {
      "cell_type": "markdown",
      "metadata": {
        "id": "nffrOrxAuoPn",
        "colab_type": "text"
      },
      "source": [
        "* Choose one of the following to download the raw data file from internet, then upload to the colab\n",
        "> * Manually download the file to the working directory \n",
        "> * or with R function `download.file()`\n"
      ]
    },
    {
      "cell_type": "code",
      "metadata": {
        "colab_type": "code",
        "id": "IBlf23TbkMHo",
        "colab": {
          "base_uri": "https://localhost:8080/",
          "height": 34
        },
        "outputId": "5d4f34c9-41c8-4065-f904-43823ea56bdd"
      },
      "source": [
        "# Fill the blanks in the download command\n",
        "download.file(\"http://www.hpc.lsu.edu/training/weekly-materials/Downloads/Forbes2000_2019.csv.zip\", \"Forbes2000_2019.csv.zip\")\n",
        "list.files() # List files in current folder"
      ],
      "execution_count": 10,
      "outputs": [
        {
          "output_type": "display_data",
          "data": {
            "text/plain": [
              "[1] \"Forbes2000_2019.csv.zip\""
            ],
            "text/latex": "'Forbes2000\\_2019.csv.zip'",
            "text/markdown": "'Forbes2000_2019.csv.zip'",
            "text/html": [
              "'Forbes2000_2019.csv.zip'"
            ]
          },
          "metadata": {
            "tags": []
          }
        }
      ]
    },
    {
      "cell_type": "markdown",
      "metadata": {
        "id": "LcccqyNKuwPa",
        "colab_type": "text"
      },
      "source": [
        "* Unzip with the `unzip()` function"
      ]
    },
    {
      "cell_type": "code",
      "metadata": {
        "id": "rFEkbC74usdx",
        "colab_type": "code",
        "colab": {
          "base_uri": "https://localhost:8080/",
          "height": 34
        },
        "outputId": "bf9b9afb-a112-43da-fbb6-36df084f551a"
      },
      "source": [
        "# Fill the blanks in the unzip command\n",
        "unzip(\"Forbes2000_2019.csv.zip\",\"Forbes2000_2019.csv\")\n",
        "list.files()   # List files in current folder"
      ],
      "execution_count": 11,
      "outputs": [
        {
          "output_type": "display_data",
          "data": {
            "text/plain": [
              "[1] \"Forbes2000_2019.csv\"     \"Forbes2000_2019.csv.zip\""
            ],
            "text/latex": "\\begin{enumerate*}\n\\item 'Forbes2000\\_2019.csv'\n\\item 'Forbes2000\\_2019.csv.zip'\n\\end{enumerate*}\n",
            "text/markdown": "1. 'Forbes2000_2019.csv'\n2. 'Forbes2000_2019.csv.zip'\n\n\n",
            "text/html": [
              "<style>\n",
              ".list-inline {list-style: none; margin:0; padding: 0}\n",
              ".list-inline>li {display: inline-block}\n",
              ".list-inline>li:not(:last-child)::after {content: \"\\00b7\"; padding: 0 .5ex}\n",
              "</style>\n",
              "<ol class=list-inline><li>'Forbes2000_2019.csv'</li><li>'Forbes2000_2019.csv.zip'</li></ol>\n"
            ]
          },
          "metadata": {
            "tags": []
          }
        }
      ]
    },
    {
      "cell_type": "markdown",
      "metadata": {
        "id": "VtLFhkTYj-ys",
        "colab_type": "text"
      },
      "source": [
        "##2. Reading data\n",
        "* R understands many different data formats and has lots of ways of reading/writing them (csv, xml, excel, sql, json etc.)\n",
        "\n",
        ">Input | Output | Purpose\n",
        ">--- | --- | ---\n",
        ">read.table (read.csv) | write.table (write.csv) | for reading/writing tabular data\n",
        ">readLines | writeLines | for reading/writing lines of a text file\n",
        ">source | dump | for reading/writing in R code files\n",
        ">dget | dput | for reading/writing in R code files\n",
        ">load | save | for reading in/saving workspaces\n",
        "\n",
        "* ` read.csv()` is identical to `read.table()` except that the default separator is a comma."
      ]
    },
    {
      "cell_type": "code",
      "metadata": {
        "id": "SkbNLI6tm2Zg",
        "colab_type": "code",
        "colab": {
          "base_uri": "https://localhost:8080/",
          "height": 153
        },
        "outputId": "33950fa4-7815-4189-f85a-b74b3d240027"
      },
      "source": [
        "# Fill the blank in the read.csv command\n",
        "forbes <- read.csv(\"Forbes2000_2019.csv\",header=T,stringsAsFactors = FALSE,na.strings = \"?\",sep=\",\")\n",
        "str(forbes)"
      ],
      "execution_count": 12,
      "outputs": [
        {
          "output_type": "stream",
          "text": [
            "'data.frame':\t2000 obs. of  7 variables:\n",
            " $ rank       : int  1 2 3 4 5 6 7 8 9 10 ...\n",
            " $ name       : chr  \"ICBC\" \"JPMorgan Chase\" \"China Construction Bank\" \"Agricultural Bank of China\" ...\n",
            " $ country    : chr  \"China\" \"United States\" \"China\" \"China\" ...\n",
            " $ sales      : num  176 133 150 138 112 ...\n",
            " $ profits    : num  45.2 32.7 38.8 30.9 28.5 59.4 16.3 27.5 23.3 23.1 ...\n",
            " $ assets     : num  4034 2737 3382 3293 2377 ...\n",
            " $ marketvalue: num  305 368 225 197 287 ...\n"
          ],
          "name": "stdout"
        }
      ]
    },
    {
      "cell_type": "code",
      "metadata": {
        "id": "KBH729sbsf6C",
        "colab_type": "code",
        "colab": {}
      },
      "source": [
        "?read.csv"
      ],
      "execution_count": 0,
      "outputs": []
    },
    {
      "cell_type": "markdown",
      "metadata": {
        "id": "8RtebkNBoRsL",
        "colab_type": "text"
      },
      "source": [
        "##3. Inspecting data\n",
        "* `class()`: check object class\n",
        "* `dim()`: dimension of the data\n",
        "* `head()`: print on screen the first few lines of data, may use n as argument\n",
        "* `tail()`: print the last few lines of data"
      ]
    },
    {
      "cell_type": "code",
      "metadata": {
        "id": "y1WHb5fP4N5p",
        "colab_type": "code",
        "colab": {}
      },
      "source": [
        "# Fill the blanks in the following commands\n",
        "class(forbes)\n",
        "dim(forbes)\n",
        "head(forbes,n=50)"
      ],
      "execution_count": 0,
      "outputs": []
    },
    {
      "cell_type": "code",
      "metadata": {
        "id": "lww1Z3Q-4N5-",
        "colab_type": "code",
        "colab": {
          "base_uri": "https://localhost:8080/",
          "height": 289
        },
        "outputId": "0aacd4bc-4bb1-47b1-a1ca-b100e1084acb"
      },
      "source": [
        "# Fill the blank in the summary command\n",
        "summary(forbes)"
      ],
      "execution_count": 25,
      "outputs": [
        {
          "output_type": "display_data",
          "data": {
            "text/plain": [
              "      rank            name             country              sales        \n",
              " Min.   :   1.0   Length:2000        Length:2000        Min.   : -9.100  \n",
              " 1st Qu.: 500.8   Class :character   Class :character   1st Qu.:  4.725  \n",
              " Median :1000.5   Mode  :character   Mode  :character   Median : 10.300  \n",
              " Mean   :1000.5                                         Mean   : 20.600  \n",
              " 3rd Qu.:1500.2                                         3rd Qu.: 20.575  \n",
              " Max.   :2000.0                                         Max.   :514.400  \n",
              "                                                        NA's   :2        \n",
              "    profits             assets         marketvalue     \n",
              " Min.   :-22.4000   Min.   :   1.50   Min.   :  0.009  \n",
              " 1st Qu.:  0.4205   1st Qu.:  12.05   1st Qu.:  6.875  \n",
              " Median :  0.7760   Median :  26.30   Median : 13.400  \n",
              " Mean   :  1.7043   Mean   :  93.58   Mean   : 28.408  \n",
              " 3rd Qu.:  1.7000   3rd Qu.:  61.00   3rd Qu.: 27.500  \n",
              " Max.   : 59.4000   Max.   :4034.50   Max.   :961.300  \n",
              " NA's   :1          NA's   :5                          "
            ]
          },
          "metadata": {
            "tags": []
          }
        }
      ]
    },
    {
      "cell_type": "markdown",
      "metadata": {
        "id": "kao1Zy6iqGG_",
        "colab_type": "text"
      },
      "source": [
        "##4. Preprocess data \n"
      ]
    },
    {
      "cell_type": "markdown",
      "metadata": {
        "id": "gERvlv4cxSif",
        "colab_type": "text"
      },
      "source": [
        "### 4.1 Preprocessing - missing values\n",
        "* Missing values are denoted in R by NA or NaN for undefined mathematical operations.\n",
        "> * `is.na(x)` is used to test objects \"x\" if there are NAs\n",
        "> * Which one is NA? `which(is.na(x))`"
      ]
    },
    {
      "cell_type": "code",
      "metadata": {
        "id": "iKV7Qu9i4N6E",
        "colab_type": "code",
        "colab": {}
      },
      "source": [
        "Use one of the commands in the last session to "
      ],
      "execution_count": 0,
      "outputs": []
    },
    {
      "cell_type": "code",
      "metadata": {
        "id": "SGlBLdCZsZCB",
        "colab_type": "code",
        "colab": {
          "base_uri": "https://localhost:8080/",
          "height": 34
        },
        "outputId": "96841d47-89eb-42f4-b9ef-fda688b6a3c5"
      },
      "source": [
        "# Fill the blank to find out which ones are NAs on Sales\n",
        "which(is.na(forbes$sales))"
      ],
      "execution_count": 26,
      "outputs": [
        {
          "output_type": "display_data",
          "data": {
            "text/plain": [
              "[1] 192 570"
            ],
            "text/latex": "\\begin{enumerate*}\n\\item 192\n\\item 570\n\\end{enumerate*}\n",
            "text/markdown": "1. 192\n2. 570\n\n\n",
            "text/html": [
              "<style>\n",
              ".list-inline {list-style: none; margin:0; padding: 0}\n",
              ".list-inline>li {display: inline-block}\n",
              ".list-inline>li:not(:last-child)::after {content: \"\\00b7\"; padding: 0 .5ex}\n",
              "</style>\n",
              "<ol class=list-inline><li>192</li><li>570</li></ol>\n"
            ]
          },
          "metadata": {
            "tags": []
          }
        }
      ]
    },
    {
      "cell_type": "markdown",
      "metadata": {
        "id": "rLH9I8W44N6P",
        "colab_type": "text"
      },
      "source": [
        "* more about missing value inspection\n",
        "> * How many NAs? `table(is.na(x))`\n",
        "> * list of observations with missing values on profits `x(is.na(x),)`\n",
        "\n"
      ]
    },
    {
      "cell_type": "code",
      "metadata": {
        "id": "D-kdpDZS4N6R",
        "colab_type": "code",
        "colab": {
          "base_uri": "https://localhost:8080/",
          "height": 85
        },
        "outputId": "880506c6-d7d5-483e-c035-7073c1d9db12"
      },
      "source": [
        "# Fill the blank to find out how many NAs on assets\n",
        "table(is.na(forbes$assets))\n",
        "# Fill the blank to find out observations with missing values on profits\n",
        "which(is.na(forbes$profits))"
      ],
      "execution_count": 114,
      "outputs": [
        {
          "output_type": "display_data",
          "data": {
            "text/plain": [
              "\n",
              "FALSE  TRUE \n",
              " 1995     5 "
            ]
          },
          "metadata": {
            "tags": []
          }
        },
        {
          "output_type": "display_data",
          "data": {
            "text/plain": [
              "[1] 1092"
            ],
            "text/latex": "1092",
            "text/markdown": "1092",
            "text/html": [
              "1092"
            ]
          },
          "metadata": {
            "tags": []
          }
        }
      ]
    },
    {
      "cell_type": "markdown",
      "metadata": {
        "id": "_aMsG0vktTSC",
        "colab_type": "text"
      },
      "source": [
        "* remember many R functions also have a logical “`na.rm`” option\n",
        "> * `na.rm=TRUE` means the NA values should be discarded\n"
      ]
    },
    {
      "cell_type": "code",
      "metadata": {
        "id": "dbFa1Akztear",
        "colab_type": "code",
        "colab": {
          "base_uri": "https://localhost:8080/",
          "height": 51
        },
        "outputId": "3a66a977-5838-43fe-cd70-12af0f418e81"
      },
      "source": [
        "# Calculate the mean value of profits\n",
        "mean(forbes$profits)  # will get NA\n",
        "mean(forbes$profits, na.rm = T)"
      ],
      "execution_count": 29,
      "outputs": [
        {
          "output_type": "display_data",
          "data": {
            "text/plain": [
              "[1] NA"
            ],
            "text/latex": "<NA>",
            "text/markdown": "&lt;NA&gt;",
            "text/html": [
              "&lt;NA&gt;"
            ]
          },
          "metadata": {
            "tags": []
          }
        },
        {
          "output_type": "display_data",
          "data": {
            "text/plain": [
              "[1] 1.704337"
            ],
            "text/latex": "1.70433716858429",
            "text/markdown": "1.70433716858429",
            "text/html": [
              "1.70433716858429"
            ]
          },
          "metadata": {
            "tags": []
          }
        }
      ]
    },
    {
      "cell_type": "markdown",
      "metadata": {
        "id": "HRQfa3cXt0-5",
        "colab_type": "text"
      },
      "source": [
        "* **Note: Not all missing values are marked with “NA” in the raw data!**\n"
      ]
    },
    {
      "cell_type": "markdown",
      "metadata": {
        "id": "8QqhU2X5uBjh",
        "colab_type": "text"
      },
      "source": [
        "* The simplest way to deal with the missing values is to remove them. \n",
        "> * If a column (variable) has a high percentage of the missing value, remove the whole column or just don’t use it for the analysis.\n",
        "> * If a row (observation) has a missing value, remove the row with `na.omit()`. e.g. \n"
      ]
    },
    {
      "cell_type": "code",
      "metadata": {
        "id": "yV26wnrUuOjq",
        "colab_type": "code",
        "colab": {
          "base_uri": "https://localhost:8080/",
          "height": 34
        },
        "outputId": "c7e8430d-44ab-4416-be45-76b5d4d6592f"
      },
      "source": [
        "# remove the observations with missing values, save it to object \"forbes2\"\n",
        "forbes2 <- na.omit(forbes)\n",
        "# find out the dimensions of forbes2\n",
        "dim(forbes2)"
      ],
      "execution_count": 30,
      "outputs": [
        {
          "output_type": "display_data",
          "data": {
            "text/plain": [
              "[1] 1992    7"
            ],
            "text/latex": "\\begin{enumerate*}\n\\item 1992\n\\item 7\n\\end{enumerate*}\n",
            "text/markdown": "1. 1992\n2. 7\n\n\n",
            "text/html": [
              "<style>\n",
              ".list-inline {list-style: none; margin:0; padding: 0}\n",
              ".list-inline>li {display: inline-block}\n",
              ".list-inline>li:not(:last-child)::after {content: \"\\00b7\"; padding: 0 .5ex}\n",
              "</style>\n",
              "<ol class=list-inline><li>1992</li><li>7</li></ol>\n"
            ]
          },
          "metadata": {
            "tags": []
          }
        }
      ]
    },
    {
      "cell_type": "markdown",
      "metadata": {
        "id": "RnVQ-jx2uf-J",
        "colab_type": "text"
      },
      "source": [
        "* Alternatively, the missing values can be replaced by basic statistics e.g. \n",
        "> * replace by mean \n"
      ]
    },
    {
      "cell_type": "code",
      "metadata": {
        "id": "tbWXSnm_umwo",
        "colab_type": "code",
        "outputId": "5a770bd6-01a5-4c56-bf4d-3bcc3d7ca1c6",
        "colab": {
          "base_uri": "https://localhost:8080/",
          "height": 34
        }
      },
      "source": [
        "for(i in 1:nrow(forbes)){\n",
        "  if(is.na(forbes$profits[i])==TRUE){\n",
        "  forbes$profits[i] <- mean(forbes$profits, na.rm = TRUE)\n",
        "  }\n",
        "}\n",
        "for(i in 1:nrow(forbes)){\n",
        "  if(is.na(forbes$sales[i])==TRUE){\n",
        "  forbes$sales[i] <- mean(forbes$sales, na.rm = TRUE)\n",
        "  }\n",
        "}\n",
        "for(i in 1:nrow(forbes)){\n",
        "  if(is.na(forbes$assets[i])==TRUE){\n",
        "  forbes$assets[i] <- mean(forbes$assets, na.rm = TRUE)\n",
        "  }\n",
        "}\n",
        "dim(forbes)"
      ],
      "execution_count": 13,
      "outputs": [
        {
          "output_type": "display_data",
          "data": {
            "text/plain": [
              "[1] 2000    7"
            ],
            "text/latex": "\\begin{enumerate*}\n\\item 2000\n\\item 7\n\\end{enumerate*}\n",
            "text/markdown": "1. 2000\n2. 7\n\n\n",
            "text/html": [
              "<style>\n",
              ".list-inline {list-style: none; margin:0; padding: 0}\n",
              ".list-inline>li {display: inline-block}\n",
              ".list-inline>li:not(:last-child)::after {content: \"\\00b7\"; padding: 0 .5ex}\n",
              "</style>\n",
              "<ol class=list-inline><li>2000</li><li>7</li></ol>\n"
            ]
          },
          "metadata": {
            "tags": []
          }
        }
      ]
    },
    {
      "cell_type": "markdown",
      "metadata": {
        "id": "nkNPSPoKvWdZ",
        "colab_type": "text"
      },
      "source": [
        "###4.2 Preprocessing - subsetting data\n",
        "* At most occasions we do not need all of the raw data\n",
        "* There are a number of methods of extracting a subset of R objects\n",
        "* Subsetting data can be done either by row or by column \n"
      ]
    },
    {
      "cell_type": "markdown",
      "metadata": {
        "id": "MoPex-0DvrTA",
        "colab_type": "text"
      },
      "source": [
        "#### 4.2.1 Subsetting by row: use conditions\n",
        "Fill the blanks to find all companies with negative profit:\n"
      ]
    },
    {
      "cell_type": "code",
      "metadata": {
        "id": "T9WIn_YSv443",
        "colab_type": "code",
        "colab": {}
      },
      "source": [
        "forbes[forbes$profits < 0,c(\"name\",\"sales\",\"profits\",\"assets\")]"
      ],
      "execution_count": 0,
      "outputs": []
    },
    {
      "cell_type": "markdown",
      "metadata": {
        "id": "iN6Aecr72Xsh",
        "colab_type": "text"
      },
      "source": [
        "Fill the blanks to find the number of companies in each country with profits above 5 billion US dollars"
      ]
    },
    {
      "cell_type": "code",
      "metadata": {
        "id": "GdKNAiOO2ZZ7",
        "colab_type": "code",
        "colab": {
          "base_uri": "https://localhost:8080/",
          "height": 204
        },
        "outputId": "b3bc1e0b-1cd1-4f6a-c679-fda997bd3fb4"
      },
      "source": [
        "forbes3 <- forbes[forbes$profits > 5,c(\"name\",\"country\",\"profits\")]\n",
        "table(forbes3$country)"
      ],
      "execution_count": 76,
      "outputs": [
        {
          "output_type": "display_data",
          "data": {
            "text/plain": [
              "\n",
              "     Australia         Brazil         Canada          China        Denmark \n",
              "             3              5              3             23              1 \n",
              "        France        Germany      Hong Kong          India          Italy \n",
              "             3              6              5              1              1 \n",
              "         Japan     Luxembourg    Netherlands         Norway         Russia \n",
              "            10              1              3              1              5 \n",
              "  Saudi Arabia   South Africa    South Korea          Spain    Switzerland \n",
              "             1              1              2              2              3 \n",
              "        Taiwan United Kingdom  United States \n",
              "             1              5             59 "
            ]
          },
          "metadata": {
            "tags": []
          }
        }
      ]
    },
    {
      "cell_type": "markdown",
      "metadata": {
        "id": "O1i26j1_wZ7x",
        "colab_type": "text"
      },
      "source": [
        "Find three companies with largest sale volumne:\n"
      ]
    },
    {
      "cell_type": "code",
      "metadata": {
        "id": "ew8W4085we18",
        "colab_type": "code",
        "colab": {
          "base_uri": "https://localhost:8080/",
          "height": 51
        },
        "outputId": "76d909ee-bf51-4cdc-cdc7-e58d69a0f5da"
      },
      "source": [
        "companies <- forbes$name  # or companies <- forbes[,\"name\"] \n",
        "order_sales <- order(forbes$sales, decreasing=T)\n",
        "#company names\n",
        "companies[order_sales[1:3]]\n",
        "#company sales\n",
        "head(sort(forbes$sales,decreasing=T),n=3)"
      ],
      "execution_count": 34,
      "outputs": [
        {
          "output_type": "display_data",
          "data": {
            "text/plain": [
              "[1] \"Walmart\"           \"Sinopec\"           \"Royal Dutch Shell\""
            ],
            "text/latex": "\\begin{enumerate*}\n\\item 'Walmart'\n\\item 'Sinopec'\n\\item 'Royal Dutch Shell'\n\\end{enumerate*}\n",
            "text/markdown": "1. 'Walmart'\n2. 'Sinopec'\n3. 'Royal Dutch Shell'\n\n\n",
            "text/html": [
              "<style>\n",
              ".list-inline {list-style: none; margin:0; padding: 0}\n",
              ".list-inline>li {display: inline-block}\n",
              ".list-inline>li:not(:last-child)::after {content: \"\\00b7\"; padding: 0 .5ex}\n",
              "</style>\n",
              "<ol class=list-inline><li>'Walmart'</li><li>'Sinopec'</li><li>'Royal Dutch Shell'</li></ol>\n"
            ]
          },
          "metadata": {
            "tags": []
          }
        },
        {
          "output_type": "display_data",
          "data": {
            "text/plain": [
              "[1] 514.4 399.7 382.6"
            ],
            "text/latex": "\\begin{enumerate*}\n\\item 514.4\n\\item 399.7\n\\item 382.6\n\\end{enumerate*}\n",
            "text/markdown": "1. 514.4\n2. 399.7\n3. 382.6\n\n\n",
            "text/html": [
              "<style>\n",
              ".list-inline {list-style: none; margin:0; padding: 0}\n",
              ".list-inline>li {display: inline-block}\n",
              ".list-inline>li:not(:last-child)::after {content: \"\\00b7\"; padding: 0 .5ex}\n",
              "</style>\n",
              "<ol class=list-inline><li>514.4</li><li>399.7</li><li>382.6</li></ol>\n"
            ]
          },
          "metadata": {
            "tags": []
          }
        }
      ]
    },
    {
      "cell_type": "markdown",
      "metadata": {
        "id": "64W1m4j62C_K",
        "colab_type": "text"
      },
      "source": [
        "Fill the blanks below to find first 50 companies in the Forbes dataset with the highest profit\n"
      ]
    },
    {
      "cell_type": "code",
      "metadata": {
        "id": "wdNpeHhL2I8I",
        "colab_type": "code",
        "colab": {
          "base_uri": "https://localhost:8080/",
          "height": 119
        },
        "outputId": "89587c07-3465-4a64-80cf-cf4d142e4278"
      },
      "source": [
        "companies <- forbes$name   \n",
        "order_profit <- order(forbes$profits, decreasing = T)   # order() returns the indices of the vector in sorted order\n",
        "companies[order_profit[1:50]]\n",
        "head(sort(forbes$profits,decreasing=T), n = 50)"
      ],
      "execution_count": 36,
      "outputs": [
        {
          "output_type": "display_data",
          "data": {
            "text/plain": [
              " [1] \"Apple\"                      \"ICBC\"                      \n",
              " [3] \"Samsung Electronics\"        \"China Construction Bank\"   \n",
              " [5] \"Microsoft\"                  \"JPMorgan Chase\"            \n",
              " [7] \"Agricultural Bank of China\" \"Alphabet\"                  \n",
              " [9] \"Bank of America\"            \"Bank of China\"             \n",
              "[11] \"Royal Dutch Shell\"          \"Wells Fargo\"               \n",
              "[13] \"Facebook\"                   \"Intel\"                     \n",
              "[15] \"ExxonMobil\"                 \"AT&T\"                      \n",
              "[17] \"Gazprom\"                    \"Citigroup\"                 \n",
              "[19] \"China Mobile\"               \"Toyota Motor\"              \n",
              "[21] \"Ping An Insurance Group\"    \"Fannie Mae\"                \n",
              "[23] \"Verizon Communications\"     \"Chevron\"                   \n",
              "[25] \"Johnson & Johnson\"          \"SK Hynix\"                  \n",
              "[27] \"Volkswagen Group\"           \"Softbank\"                  \n",
              "[29] \"Rio Tinto\"                  \"HSBC Holdings\"             \n",
              "[31] \"Naspers\"                    \"Sberbank\"                  \n",
              "[33] \"Micron Technology\"          \"Cisco Systems\"             \n",
              "[35] \"UnitedHealth Group\"         \"Novartis\"                  \n",
              "[37] \"PepsiCo\"                    \"China Merchants Bank\"      \n",
              "[39] \"Tencent Holdings\"           \"Comcast\"                   \n",
              "[41] \"Taiwan Semiconductor\"       \"Total\"                     \n",
              "[43] \"Bank of Communications\"     \"Pfizer\"                    \n",
              "[45] \"Unilever\"                   \"Home Depot\"                \n",
              "[47] \"Walt Disney\"                \"Procter & Gamble\"          \n",
              "[49] \"Oracle\"                     \"Roche Holding\"             "
            ],
            "text/latex": "\\begin{enumerate*}\n\\item 'Apple'\n\\item 'ICBC'\n\\item 'Samsung Electronics'\n\\item 'China Construction Bank'\n\\item 'Microsoft'\n\\item 'JPMorgan Chase'\n\\item 'Agricultural Bank of China'\n\\item 'Alphabet'\n\\item 'Bank of America'\n\\item 'Bank of China'\n\\item 'Royal Dutch Shell'\n\\item 'Wells Fargo'\n\\item 'Facebook'\n\\item 'Intel'\n\\item 'ExxonMobil'\n\\item 'AT\\&T'\n\\item 'Gazprom'\n\\item 'Citigroup'\n\\item 'China Mobile'\n\\item 'Toyota Motor'\n\\item 'Ping An Insurance Group'\n\\item 'Fannie Mae'\n\\item 'Verizon Communications'\n\\item 'Chevron'\n\\item 'Johnson \\& Johnson'\n\\item 'SK Hynix'\n\\item 'Volkswagen Group'\n\\item 'Softbank'\n\\item 'Rio Tinto'\n\\item 'HSBC Holdings'\n\\item 'Naspers'\n\\item 'Sberbank'\n\\item 'Micron Technology'\n\\item 'Cisco Systems'\n\\item 'UnitedHealth Group'\n\\item 'Novartis'\n\\item 'PepsiCo'\n\\item 'China Merchants Bank'\n\\item 'Tencent Holdings'\n\\item 'Comcast'\n\\item 'Taiwan Semiconductor'\n\\item 'Total'\n\\item 'Bank of Communications'\n\\item 'Pfizer'\n\\item 'Unilever'\n\\item 'Home Depot'\n\\item 'Walt Disney'\n\\item 'Procter \\& Gamble'\n\\item 'Oracle'\n\\item 'Roche Holding'\n\\end{enumerate*}\n",
            "text/markdown": "1. 'Apple'\n2. 'ICBC'\n3. 'Samsung Electronics'\n4. 'China Construction Bank'\n5. 'Microsoft'\n6. 'JPMorgan Chase'\n7. 'Agricultural Bank of China'\n8. 'Alphabet'\n9. 'Bank of America'\n10. 'Bank of China'\n11. 'Royal Dutch Shell'\n12. 'Wells Fargo'\n13. 'Facebook'\n14. 'Intel'\n15. 'ExxonMobil'\n16. 'AT&amp;T'\n17. 'Gazprom'\n18. 'Citigroup'\n19. 'China Mobile'\n20. 'Toyota Motor'\n21. 'Ping An Insurance Group'\n22. 'Fannie Mae'\n23. 'Verizon Communications'\n24. 'Chevron'\n25. 'Johnson &amp; Johnson'\n26. 'SK Hynix'\n27. 'Volkswagen Group'\n28. 'Softbank'\n29. 'Rio Tinto'\n30. 'HSBC Holdings'\n31. 'Naspers'\n32. 'Sberbank'\n33. 'Micron Technology'\n34. 'Cisco Systems'\n35. 'UnitedHealth Group'\n36. 'Novartis'\n37. 'PepsiCo'\n38. 'China Merchants Bank'\n39. 'Tencent Holdings'\n40. 'Comcast'\n41. 'Taiwan Semiconductor'\n42. 'Total'\n43. 'Bank of Communications'\n44. 'Pfizer'\n45. 'Unilever'\n46. 'Home Depot'\n47. 'Walt Disney'\n48. 'Procter &amp; Gamble'\n49. 'Oracle'\n50. 'Roche Holding'\n\n\n",
            "text/html": [
              "<style>\n",
              ".list-inline {list-style: none; margin:0; padding: 0}\n",
              ".list-inline>li {display: inline-block}\n",
              ".list-inline>li:not(:last-child)::after {content: \"\\00b7\"; padding: 0 .5ex}\n",
              "</style>\n",
              "<ol class=list-inline><li>'Apple'</li><li>'ICBC'</li><li>'Samsung Electronics'</li><li>'China Construction Bank'</li><li>'Microsoft'</li><li>'JPMorgan Chase'</li><li>'Agricultural Bank of China'</li><li>'Alphabet'</li><li>'Bank of America'</li><li>'Bank of China'</li><li>'Royal Dutch Shell'</li><li>'Wells Fargo'</li><li>'Facebook'</li><li>'Intel'</li><li>'ExxonMobil'</li><li>'AT&amp;T'</li><li>'Gazprom'</li><li>'Citigroup'</li><li>'China Mobile'</li><li>'Toyota Motor'</li><li>'Ping An Insurance Group'</li><li>'Fannie Mae'</li><li>'Verizon Communications'</li><li>'Chevron'</li><li>'Johnson &amp; Johnson'</li><li>'SK Hynix'</li><li>'Volkswagen Group'</li><li>'Softbank'</li><li>'Rio Tinto'</li><li>'HSBC Holdings'</li><li>'Naspers'</li><li>'Sberbank'</li><li>'Micron Technology'</li><li>'Cisco Systems'</li><li>'UnitedHealth Group'</li><li>'Novartis'</li><li>'PepsiCo'</li><li>'China Merchants Bank'</li><li>'Tencent Holdings'</li><li>'Comcast'</li><li>'Taiwan Semiconductor'</li><li>'Total'</li><li>'Bank of Communications'</li><li>'Pfizer'</li><li>'Unilever'</li><li>'Home Depot'</li><li>'Walt Disney'</li><li>'Procter &amp; Gamble'</li><li>'Oracle'</li><li>'Roche Holding'</li></ol>\n"
            ]
          },
          "metadata": {
            "tags": []
          }
        },
        {
          "output_type": "display_data",
          "data": {
            "text/plain": [
              " [1] 59.4 45.2 39.9 38.8 33.5 32.7 30.9 30.7 28.5 27.5 23.3 23.1 22.1 21.1 20.8\n",
              "[16] 19.4 18.9 17.9 17.9 17.2 16.3 16.0 15.5 14.8 14.7 14.1 14.0 13.9 13.8 13.7\n",
              "[31] 13.5 13.3 13.1 12.9 12.6 12.6 12.6 12.3 11.9 11.7 11.6 11.4 11.2 11.2 11.1\n",
              "[46] 11.1 11.0 10.8 10.8 10.7"
            ],
            "text/latex": "\\begin{enumerate*}\n\\item 59.4\n\\item 45.2\n\\item 39.9\n\\item 38.8\n\\item 33.5\n\\item 32.7\n\\item 30.9\n\\item 30.7\n\\item 28.5\n\\item 27.5\n\\item 23.3\n\\item 23.1\n\\item 22.1\n\\item 21.1\n\\item 20.8\n\\item 19.4\n\\item 18.9\n\\item 17.9\n\\item 17.9\n\\item 17.2\n\\item 16.3\n\\item 16\n\\item 15.5\n\\item 14.8\n\\item 14.7\n\\item 14.1\n\\item 14\n\\item 13.9\n\\item 13.8\n\\item 13.7\n\\item 13.5\n\\item 13.3\n\\item 13.1\n\\item 12.9\n\\item 12.6\n\\item 12.6\n\\item 12.6\n\\item 12.3\n\\item 11.9\n\\item 11.7\n\\item 11.6\n\\item 11.4\n\\item 11.2\n\\item 11.2\n\\item 11.1\n\\item 11.1\n\\item 11\n\\item 10.8\n\\item 10.8\n\\item 10.7\n\\end{enumerate*}\n",
            "text/markdown": "1. 59.4\n2. 45.2\n3. 39.9\n4. 38.8\n5. 33.5\n6. 32.7\n7. 30.9\n8. 30.7\n9. 28.5\n10. 27.5\n11. 23.3\n12. 23.1\n13. 22.1\n14. 21.1\n15. 20.8\n16. 19.4\n17. 18.9\n18. 17.9\n19. 17.9\n20. 17.2\n21. 16.3\n22. 16\n23. 15.5\n24. 14.8\n25. 14.7\n26. 14.1\n27. 14\n28. 13.9\n29. 13.8\n30. 13.7\n31. 13.5\n32. 13.3\n33. 13.1\n34. 12.9\n35. 12.6\n36. 12.6\n37. 12.6\n38. 12.3\n39. 11.9\n40. 11.7\n41. 11.6\n42. 11.4\n43. 11.2\n44. 11.2\n45. 11.1\n46. 11.1\n47. 11\n48. 10.8\n49. 10.8\n50. 10.7\n\n\n",
            "text/html": [
              "<style>\n",
              ".list-inline {list-style: none; margin:0; padding: 0}\n",
              ".list-inline>li {display: inline-block}\n",
              ".list-inline>li:not(:last-child)::after {content: \"\\00b7\"; padding: 0 .5ex}\n",
              "</style>\n",
              "<ol class=list-inline><li>59.4</li><li>45.2</li><li>39.9</li><li>38.8</li><li>33.5</li><li>32.7</li><li>30.9</li><li>30.7</li><li>28.5</li><li>27.5</li><li>23.3</li><li>23.1</li><li>22.1</li><li>21.1</li><li>20.8</li><li>19.4</li><li>18.9</li><li>17.9</li><li>17.9</li><li>17.2</li><li>16.3</li><li>16</li><li>15.5</li><li>14.8</li><li>14.7</li><li>14.1</li><li>14</li><li>13.9</li><li>13.8</li><li>13.7</li><li>13.5</li><li>13.3</li><li>13.1</li><li>12.9</li><li>12.6</li><li>12.6</li><li>12.6</li><li>12.3</li><li>11.9</li><li>11.7</li><li>11.6</li><li>11.4</li><li>11.2</li><li>11.2</li><li>11.1</li><li>11.1</li><li>11</li><li>10.8</li><li>10.8</li><li>10.7</li></ol>\n"
            ]
          },
          "metadata": {
            "tags": []
          }
        }
      ]
    },
    {
      "cell_type": "markdown",
      "metadata": {
        "id": "qPOuTabFw5RA",
        "colab_type": "text"
      },
      "source": [
        "####4.2.2 Subsetting by row: use `subset()` function\n",
        "Fill the blanks below to find all German companies with negative profit\n"
      ]
    },
    {
      "cell_type": "code",
      "metadata": {
        "id": "8Mn7AE7Rw_uB",
        "colab_type": "code",
        "colab": {
          "base_uri": "https://localhost:8080/",
          "height": 120
        },
        "outputId": "fbeeeac9-9b09-44ec-db35-6f73e67dcbd3"
      },
      "source": [
        "Germanycomp <- subset(forbes, country == \"Germany\"    )\n",
        "Germanycomp[Germanycomp$profits < 0,c(\"name\",\"sales\",\"profits\",\"assets\")]"
      ],
      "execution_count": 37,
      "outputs": [
        {
          "output_type": "display_data",
          "data": {
            "text/plain": [
              "     name     sales profits assets\n",
              "710  Uniper   92.2  -0.533  65.9  \n",
              "1522 Ceconomy 25.5  -0.250  12.5  "
            ],
            "text/latex": "A data.frame: 2 × 4\n\\begin{tabular}{r|llll}\n  & name & sales & profits & assets\\\\\n  & <chr> & <dbl> & <dbl> & <dbl>\\\\\n\\hline\n\t710 & Uniper   & 92.2 & -0.533 & 65.9\\\\\n\t1522 & Ceconomy & 25.5 & -0.250 & 12.5\\\\\n\\end{tabular}\n",
            "text/markdown": "\nA data.frame: 2 × 4\n\n| <!--/--> | name &lt;chr&gt; | sales &lt;dbl&gt; | profits &lt;dbl&gt; | assets &lt;dbl&gt; |\n|---|---|---|---|---|\n| 710 | Uniper   | 92.2 | -0.533 | 65.9 |\n| 1522 | Ceconomy | 25.5 | -0.250 | 12.5 |\n\n",
            "text/html": [
              "<table>\n",
              "<caption>A data.frame: 2 × 4</caption>\n",
              "<thead>\n",
              "\t<tr><th></th><th scope=col>name</th><th scope=col>sales</th><th scope=col>profits</th><th scope=col>assets</th></tr>\n",
              "\t<tr><th></th><th scope=col>&lt;chr&gt;</th><th scope=col>&lt;dbl&gt;</th><th scope=col>&lt;dbl&gt;</th><th scope=col>&lt;dbl&gt;</th></tr>\n",
              "</thead>\n",
              "<tbody>\n",
              "\t<tr><th scope=row>710</th><td>Uniper  </td><td>92.2</td><td>-0.533</td><td>65.9</td></tr>\n",
              "\t<tr><th scope=row>1522</th><td>Ceconomy</td><td>25.5</td><td>-0.250</td><td>12.5</td></tr>\n",
              "</tbody>\n",
              "</table>\n"
            ]
          },
          "metadata": {
            "tags": []
          }
        }
      ]
    },
    {
      "cell_type": "markdown",
      "metadata": {
        "colab_type": "text",
        "id": "3k8ejtrGWKHv"
      },
      "source": [
        "##Solution\n",
        "Find all German companies with negative profit"
      ]
    },
    {
      "cell_type": "code",
      "metadata": {
        "id": "XyUxuKBRWSg4",
        "colab_type": "code",
        "colab": {
          "base_uri": "https://localhost:8080/",
          "height": 120
        },
        "outputId": "02d70470-2ac4-4474-a1ca-197815a7c12c"
      },
      "source": [
        "Germanycomp <- subset(forbes, country == \"Germany\")\n",
        "Germanycomp[Germanycomp$profits < 0,c(\"name\",\"sales\",\"profits\",\"assets\")]"
      ],
      "execution_count": 38,
      "outputs": [
        {
          "output_type": "display_data",
          "data": {
            "text/plain": [
              "     name     sales profits assets\n",
              "710  Uniper   92.2  -0.533  65.9  \n",
              "1522 Ceconomy 25.5  -0.250  12.5  "
            ],
            "text/latex": "A data.frame: 2 × 4\n\\begin{tabular}{r|llll}\n  & name & sales & profits & assets\\\\\n  & <chr> & <dbl> & <dbl> & <dbl>\\\\\n\\hline\n\t710 & Uniper   & 92.2 & -0.533 & 65.9\\\\\n\t1522 & Ceconomy & 25.5 & -0.250 & 12.5\\\\\n\\end{tabular}\n",
            "text/markdown": "\nA data.frame: 2 × 4\n\n| <!--/--> | name &lt;chr&gt; | sales &lt;dbl&gt; | profits &lt;dbl&gt; | assets &lt;dbl&gt; |\n|---|---|---|---|---|\n| 710 | Uniper   | 92.2 | -0.533 | 65.9 |\n| 1522 | Ceconomy | 25.5 | -0.250 | 12.5 |\n\n",
            "text/html": [
              "<table>\n",
              "<caption>A data.frame: 2 × 4</caption>\n",
              "<thead>\n",
              "\t<tr><th></th><th scope=col>name</th><th scope=col>sales</th><th scope=col>profits</th><th scope=col>assets</th></tr>\n",
              "\t<tr><th></th><th scope=col>&lt;chr&gt;</th><th scope=col>&lt;dbl&gt;</th><th scope=col>&lt;dbl&gt;</th><th scope=col>&lt;dbl&gt;</th></tr>\n",
              "</thead>\n",
              "<tbody>\n",
              "\t<tr><th scope=row>710</th><td>Uniper  </td><td>92.2</td><td>-0.533</td><td>65.9</td></tr>\n",
              "\t<tr><th scope=row>1522</th><td>Ceconomy</td><td>25.5</td><td>-0.250</td><td>12.5</td></tr>\n",
              "</tbody>\n",
              "</table>\n"
            ]
          },
          "metadata": {
            "tags": []
          }
        }
      ]
    },
    {
      "cell_type": "markdown",
      "metadata": {
        "colab_type": "text",
        "id": "wercZnudXaK-"
      },
      "source": [
        "Find the number of companies in each country with profits above 5 billion US dollars"
      ]
    },
    {
      "cell_type": "code",
      "metadata": {
        "id": "5KAik9JcXmEZ",
        "colab_type": "code",
        "colab": {
          "base_uri": "https://localhost:8080/",
          "height": 204
        },
        "outputId": "bae7552c-b418-4791-9564-aec8c819b50c"
      },
      "source": [
        "forbes3 <- forbes[forbes$profits > 5,c(\"name\",\"country\",\"profits\")]\n",
        "table(forbes3[,\"country\"])"
      ],
      "execution_count": 77,
      "outputs": [
        {
          "output_type": "display_data",
          "data": {
            "text/plain": [
              "\n",
              "     Australia         Brazil         Canada          China        Denmark \n",
              "             3              5              3             23              1 \n",
              "        France        Germany      Hong Kong          India          Italy \n",
              "             3              6              5              1              1 \n",
              "         Japan     Luxembourg    Netherlands         Norway         Russia \n",
              "            10              1              3              1              5 \n",
              "  Saudi Arabia   South Africa    South Korea          Spain    Switzerland \n",
              "             1              1              2              2              3 \n",
              "        Taiwan United Kingdom  United States \n",
              "             1              5             59 "
            ]
          },
          "metadata": {
            "tags": []
          }
        }
      ]
    },
    {
      "cell_type": "markdown",
      "metadata": {
        "colab_type": "text",
        "id": "JPKhOyPtXWMa"
      },
      "source": [
        "Find first 50 companies in the Forbes dataset with the highest profit\n"
      ]
    },
    {
      "cell_type": "code",
      "metadata": {
        "id": "5NhsCOrpXfbz",
        "colab_type": "code",
        "colab": {
          "base_uri": "https://localhost:8080/",
          "height": 119
        },
        "outputId": "d0149514-af80-4040-844b-b8f4eea1a863"
      },
      "source": [
        "companies <- forbes$name   \n",
        "order_profit <- order(forbes$profits, decreasing=T)   # order() returns the indices of the vector in sorted order\n",
        "companies[order_profit[1:50]]\n",
        "head(sort(forbes$profits,decreasing=T),n=50)"
      ],
      "execution_count": 60,
      "outputs": [
        {
          "output_type": "display_data",
          "data": {
            "text/plain": [
              " [1] \"Apple\"                      \"ICBC\"                      \n",
              " [3] \"Samsung Electronics\"        \"China Construction Bank\"   \n",
              " [5] \"Microsoft\"                  \"JPMorgan Chase\"            \n",
              " [7] \"Agricultural Bank of China\" \"Alphabet\"                  \n",
              " [9] \"Bank of America\"            \"Bank of China\"             \n",
              "[11] \"Royal Dutch Shell\"          \"Wells Fargo\"               \n",
              "[13] \"Facebook\"                   \"Intel\"                     \n",
              "[15] \"ExxonMobil\"                 \"AT&T\"                      \n",
              "[17] \"Gazprom\"                    \"Citigroup\"                 \n",
              "[19] \"China Mobile\"               \"Toyota Motor\"              \n",
              "[21] \"Ping An Insurance Group\"    \"Fannie Mae\"                \n",
              "[23] \"Verizon Communications\"     \"Chevron\"                   \n",
              "[25] \"Johnson & Johnson\"          \"SK Hynix\"                  \n",
              "[27] \"Volkswagen Group\"           \"Softbank\"                  \n",
              "[29] \"Rio Tinto\"                  \"HSBC Holdings\"             \n",
              "[31] \"Naspers\"                    \"Sberbank\"                  \n",
              "[33] \"Micron Technology\"          \"Cisco Systems\"             \n",
              "[35] \"UnitedHealth Group\"         \"Novartis\"                  \n",
              "[37] \"PepsiCo\"                    \"China Merchants Bank\"      \n",
              "[39] \"Tencent Holdings\"           \"Comcast\"                   \n",
              "[41] \"Taiwan Semiconductor\"       \"Total\"                     \n",
              "[43] \"Bank of Communications\"     \"Pfizer\"                    \n",
              "[45] \"Unilever\"                   \"Home Depot\"                \n",
              "[47] \"Walt Disney\"                \"Procter & Gamble\"          \n",
              "[49] \"Oracle\"                     \"Roche Holding\"             "
            ],
            "text/latex": "\\begin{enumerate*}\n\\item 'Apple'\n\\item 'ICBC'\n\\item 'Samsung Electronics'\n\\item 'China Construction Bank'\n\\item 'Microsoft'\n\\item 'JPMorgan Chase'\n\\item 'Agricultural Bank of China'\n\\item 'Alphabet'\n\\item 'Bank of America'\n\\item 'Bank of China'\n\\item 'Royal Dutch Shell'\n\\item 'Wells Fargo'\n\\item 'Facebook'\n\\item 'Intel'\n\\item 'ExxonMobil'\n\\item 'AT\\&T'\n\\item 'Gazprom'\n\\item 'Citigroup'\n\\item 'China Mobile'\n\\item 'Toyota Motor'\n\\item 'Ping An Insurance Group'\n\\item 'Fannie Mae'\n\\item 'Verizon Communications'\n\\item 'Chevron'\n\\item 'Johnson \\& Johnson'\n\\item 'SK Hynix'\n\\item 'Volkswagen Group'\n\\item 'Softbank'\n\\item 'Rio Tinto'\n\\item 'HSBC Holdings'\n\\item 'Naspers'\n\\item 'Sberbank'\n\\item 'Micron Technology'\n\\item 'Cisco Systems'\n\\item 'UnitedHealth Group'\n\\item 'Novartis'\n\\item 'PepsiCo'\n\\item 'China Merchants Bank'\n\\item 'Tencent Holdings'\n\\item 'Comcast'\n\\item 'Taiwan Semiconductor'\n\\item 'Total'\n\\item 'Bank of Communications'\n\\item 'Pfizer'\n\\item 'Unilever'\n\\item 'Home Depot'\n\\item 'Walt Disney'\n\\item 'Procter \\& Gamble'\n\\item 'Oracle'\n\\item 'Roche Holding'\n\\end{enumerate*}\n",
            "text/markdown": "1. 'Apple'\n2. 'ICBC'\n3. 'Samsung Electronics'\n4. 'China Construction Bank'\n5. 'Microsoft'\n6. 'JPMorgan Chase'\n7. 'Agricultural Bank of China'\n8. 'Alphabet'\n9. 'Bank of America'\n10. 'Bank of China'\n11. 'Royal Dutch Shell'\n12. 'Wells Fargo'\n13. 'Facebook'\n14. 'Intel'\n15. 'ExxonMobil'\n16. 'AT&amp;T'\n17. 'Gazprom'\n18. 'Citigroup'\n19. 'China Mobile'\n20. 'Toyota Motor'\n21. 'Ping An Insurance Group'\n22. 'Fannie Mae'\n23. 'Verizon Communications'\n24. 'Chevron'\n25. 'Johnson &amp; Johnson'\n26. 'SK Hynix'\n27. 'Volkswagen Group'\n28. 'Softbank'\n29. 'Rio Tinto'\n30. 'HSBC Holdings'\n31. 'Naspers'\n32. 'Sberbank'\n33. 'Micron Technology'\n34. 'Cisco Systems'\n35. 'UnitedHealth Group'\n36. 'Novartis'\n37. 'PepsiCo'\n38. 'China Merchants Bank'\n39. 'Tencent Holdings'\n40. 'Comcast'\n41. 'Taiwan Semiconductor'\n42. 'Total'\n43. 'Bank of Communications'\n44. 'Pfizer'\n45. 'Unilever'\n46. 'Home Depot'\n47. 'Walt Disney'\n48. 'Procter &amp; Gamble'\n49. 'Oracle'\n50. 'Roche Holding'\n\n\n",
            "text/html": [
              "<style>\n",
              ".list-inline {list-style: none; margin:0; padding: 0}\n",
              ".list-inline>li {display: inline-block}\n",
              ".list-inline>li:not(:last-child)::after {content: \"\\00b7\"; padding: 0 .5ex}\n",
              "</style>\n",
              "<ol class=list-inline><li>'Apple'</li><li>'ICBC'</li><li>'Samsung Electronics'</li><li>'China Construction Bank'</li><li>'Microsoft'</li><li>'JPMorgan Chase'</li><li>'Agricultural Bank of China'</li><li>'Alphabet'</li><li>'Bank of America'</li><li>'Bank of China'</li><li>'Royal Dutch Shell'</li><li>'Wells Fargo'</li><li>'Facebook'</li><li>'Intel'</li><li>'ExxonMobil'</li><li>'AT&amp;T'</li><li>'Gazprom'</li><li>'Citigroup'</li><li>'China Mobile'</li><li>'Toyota Motor'</li><li>'Ping An Insurance Group'</li><li>'Fannie Mae'</li><li>'Verizon Communications'</li><li>'Chevron'</li><li>'Johnson &amp; Johnson'</li><li>'SK Hynix'</li><li>'Volkswagen Group'</li><li>'Softbank'</li><li>'Rio Tinto'</li><li>'HSBC Holdings'</li><li>'Naspers'</li><li>'Sberbank'</li><li>'Micron Technology'</li><li>'Cisco Systems'</li><li>'UnitedHealth Group'</li><li>'Novartis'</li><li>'PepsiCo'</li><li>'China Merchants Bank'</li><li>'Tencent Holdings'</li><li>'Comcast'</li><li>'Taiwan Semiconductor'</li><li>'Total'</li><li>'Bank of Communications'</li><li>'Pfizer'</li><li>'Unilever'</li><li>'Home Depot'</li><li>'Walt Disney'</li><li>'Procter &amp; Gamble'</li><li>'Oracle'</li><li>'Roche Holding'</li></ol>\n"
            ]
          },
          "metadata": {
            "tags": []
          }
        },
        {
          "output_type": "display_data",
          "data": {
            "text/plain": [
              " [1] 59.4 45.2 39.9 38.8 33.5 32.7 30.9 30.7 28.5 27.5 23.3 23.1 22.1 21.1 20.8\n",
              "[16] 19.4 18.9 17.9 17.9 17.2 16.3 16.0 15.5 14.8 14.7 14.1 14.0 13.9 13.8 13.7\n",
              "[31] 13.5 13.3 13.1 12.9 12.6 12.6 12.6 12.3 11.9 11.7 11.6 11.4 11.2 11.2 11.1\n",
              "[46] 11.1 11.0 10.8 10.8 10.7"
            ],
            "text/latex": "\\begin{enumerate*}\n\\item 59.4\n\\item 45.2\n\\item 39.9\n\\item 38.8\n\\item 33.5\n\\item 32.7\n\\item 30.9\n\\item 30.7\n\\item 28.5\n\\item 27.5\n\\item 23.3\n\\item 23.1\n\\item 22.1\n\\item 21.1\n\\item 20.8\n\\item 19.4\n\\item 18.9\n\\item 17.9\n\\item 17.9\n\\item 17.2\n\\item 16.3\n\\item 16\n\\item 15.5\n\\item 14.8\n\\item 14.7\n\\item 14.1\n\\item 14\n\\item 13.9\n\\item 13.8\n\\item 13.7\n\\item 13.5\n\\item 13.3\n\\item 13.1\n\\item 12.9\n\\item 12.6\n\\item 12.6\n\\item 12.6\n\\item 12.3\n\\item 11.9\n\\item 11.7\n\\item 11.6\n\\item 11.4\n\\item 11.2\n\\item 11.2\n\\item 11.1\n\\item 11.1\n\\item 11\n\\item 10.8\n\\item 10.8\n\\item 10.7\n\\end{enumerate*}\n",
            "text/markdown": "1. 59.4\n2. 45.2\n3. 39.9\n4. 38.8\n5. 33.5\n6. 32.7\n7. 30.9\n8. 30.7\n9. 28.5\n10. 27.5\n11. 23.3\n12. 23.1\n13. 22.1\n14. 21.1\n15. 20.8\n16. 19.4\n17. 18.9\n18. 17.9\n19. 17.9\n20. 17.2\n21. 16.3\n22. 16\n23. 15.5\n24. 14.8\n25. 14.7\n26. 14.1\n27. 14\n28. 13.9\n29. 13.8\n30. 13.7\n31. 13.5\n32. 13.3\n33. 13.1\n34. 12.9\n35. 12.6\n36. 12.6\n37. 12.6\n38. 12.3\n39. 11.9\n40. 11.7\n41. 11.6\n42. 11.4\n43. 11.2\n44. 11.2\n45. 11.1\n46. 11.1\n47. 11\n48. 10.8\n49. 10.8\n50. 10.7\n\n\n",
            "text/html": [
              "<style>\n",
              ".list-inline {list-style: none; margin:0; padding: 0}\n",
              ".list-inline>li {display: inline-block}\n",
              ".list-inline>li:not(:last-child)::after {content: \"\\00b7\"; padding: 0 .5ex}\n",
              "</style>\n",
              "<ol class=list-inline><li>59.4</li><li>45.2</li><li>39.9</li><li>38.8</li><li>33.5</li><li>32.7</li><li>30.9</li><li>30.7</li><li>28.5</li><li>27.5</li><li>23.3</li><li>23.1</li><li>22.1</li><li>21.1</li><li>20.8</li><li>19.4</li><li>18.9</li><li>17.9</li><li>17.9</li><li>17.2</li><li>16.3</li><li>16</li><li>15.5</li><li>14.8</li><li>14.7</li><li>14.1</li><li>14</li><li>13.9</li><li>13.8</li><li>13.7</li><li>13.5</li><li>13.3</li><li>13.1</li><li>12.9</li><li>12.6</li><li>12.6</li><li>12.6</li><li>12.3</li><li>11.9</li><li>11.7</li><li>11.6</li><li>11.4</li><li>11.2</li><li>11.2</li><li>11.1</li><li>11.1</li><li>11</li><li>10.8</li><li>10.8</li><li>10.7</li></ol>\n"
            ]
          },
          "metadata": {
            "tags": []
          }
        }
      ]
    },
    {
      "cell_type": "markdown",
      "metadata": {
        "id": "B4b0rfY-xgJ4",
        "colab_type": "text"
      },
      "source": [
        "####4.2.3 Subsetting by column\n",
        "Create another dataframe with only numeric variables (i.e. only keep columns of sales, profits, assets and marketvalue)"
      ]
    },
    {
      "cell_type": "code",
      "metadata": {
        "id": "tw_SDfhqxvjD",
        "colab_type": "code",
        "colab": {
          "base_uri": "https://localhost:8080/",
          "height": 272
        },
        "outputId": "ec191f08-bb1e-4290-ff16-c74e791fd196"
      },
      "source": [
        "#use data.frame function\n",
        "forbes3 <- data.frame(sales=forbes$sales,profits=forbes$profits,\n",
        "           assets=forbes$assets, mvalue=forbes$marketvalue)\n",
        "str(forbes3)\n",
        "\n",
        "# Fill the blank below\n",
        "#use subset() function\n",
        "forbes4 <- subset(forbes, select = c(\"sales\", \"profits\", \"assets\", \"marketvalue\"))\n",
        "str(forbes4)\n",
        "\n",
        "#or simply use indexing\n",
        "# Fill the blank below\n",
        "forbes5 <- forbes[, 4:7]\n",
        "str(forbes5)"
      ],
      "execution_count": 61,
      "outputs": [
        {
          "output_type": "stream",
          "text": [
            "'data.frame':\t2000 obs. of  4 variables:\n",
            " $ sales  : num  176 133 150 138 112 ...\n",
            " $ profits: num  45.2 32.7 38.8 30.9 28.5 59.4 16.3 27.5 23.3 23.1 ...\n",
            " $ assets : num  4034 2737 3382 3293 2377 ...\n",
            " $ mvalue : num  305 368 225 197 287 ...\n",
            "'data.frame':\t2000 obs. of  4 variables:\n",
            " $ sales      : num  176 133 150 138 112 ...\n",
            " $ profits    : num  45.2 32.7 38.8 30.9 28.5 59.4 16.3 27.5 23.3 23.1 ...\n",
            " $ assets     : num  4034 2737 3382 3293 2377 ...\n",
            " $ marketvalue: num  305 368 225 197 287 ...\n",
            "'data.frame':\t2000 obs. of  4 variables:\n",
            " $ sales      : num  176 133 150 138 112 ...\n",
            " $ profits    : num  45.2 32.7 38.8 30.9 28.5 59.4 16.3 27.5 23.3 23.1 ...\n",
            " $ assets     : num  4034 2737 3382 3293 2377 ...\n",
            " $ marketvalue: num  305 368 225 197 287 ...\n"
          ],
          "name": "stdout"
        }
      ]
    },
    {
      "cell_type": "markdown",
      "metadata": {
        "id": "5bW4-u2B68o9",
        "colab_type": "text"
      },
      "source": [
        "## Solution"
      ]
    },
    {
      "cell_type": "code",
      "metadata": {
        "id": "I_wyATqh6_nY",
        "colab_type": "code",
        "colab": {
          "base_uri": "https://localhost:8080/",
          "height": 272
        },
        "outputId": "cf3a5e21-df8b-48c9-a21b-67520b4b2c32"
      },
      "source": [
        "#use data.frame function\n",
        "forbes3 <- data.frame(sales=forbes$sales,profits=forbes$profits,\n",
        "           assets=forbes$assets, mvalue=forbes$marketvalue)\n",
        "str(forbes3)\n",
        "\n",
        "#use subset() function\n",
        "forbes4 <- subset(forbes,select=c(sales,profits,assets,marketvalue))\n",
        "str(forbes4)\n",
        "\n",
        "#or simply use indexing\n",
        "forbes5 <- forbes[,c(4:7)]\n",
        "str(forbes5)"
      ],
      "execution_count": 43,
      "outputs": [
        {
          "output_type": "stream",
          "text": [
            "'data.frame':\t2000 obs. of  4 variables:\n",
            " $ sales  : num  176 133 150 138 112 ...\n",
            " $ profits: num  45.2 32.7 38.8 30.9 28.5 59.4 16.3 27.5 23.3 23.1 ...\n",
            " $ assets : num  4034 2737 3382 3293 2377 ...\n",
            " $ mvalue : num  305 368 225 197 287 ...\n",
            "'data.frame':\t2000 obs. of  4 variables:\n",
            " $ sales      : num  176 133 150 138 112 ...\n",
            " $ profits    : num  45.2 32.7 38.8 30.9 28.5 59.4 16.3 27.5 23.3 23.1 ...\n",
            " $ assets     : num  4034 2737 3382 3293 2377 ...\n",
            " $ marketvalue: num  305 368 225 197 287 ...\n",
            "'data.frame':\t2000 obs. of  4 variables:\n",
            " $ sales      : num  176 133 150 138 112 ...\n",
            " $ profits    : num  45.2 32.7 38.8 30.9 28.5 59.4 16.3 27.5 23.3 23.1 ...\n",
            " $ assets     : num  4034 2737 3382 3293 2377 ...\n",
            " $ marketvalue: num  305 368 225 197 287 ...\n"
          ],
          "name": "stdout"
        }
      ]
    },
    {
      "cell_type": "markdown",
      "metadata": {
        "id": "r1R3wV1IyEQC",
        "colab_type": "text"
      },
      "source": [
        "### 4.3 Preprocessing – Factors\n",
        "* factors are variables in R which take on a limited number of different values; such variables are often referred to as categorical variables\n",
        "\n",
        "\n",
        "Convert characters to (unordered) factors:"
      ]
    },
    {
      "cell_type": "code",
      "metadata": {
        "id": "nioNugIYyMoh",
        "colab_type": "code",
        "colab": {
          "base_uri": "https://localhost:8080/",
          "height": 153
        },
        "outputId": "3b187287-cc03-449e-e311-d9bce998bcb0"
      },
      "source": [
        "forbes$country<-factor(forbes$country)\n",
        "str(forbes)"
      ],
      "execution_count": 14,
      "outputs": [
        {
          "output_type": "stream",
          "text": [
            "'data.frame':\t2000 obs. of  7 variables:\n",
            " $ rank       : int  1 2 3 4 5 6 7 8 9 10 ...\n",
            " $ name       : chr  \"ICBC\" \"JPMorgan Chase\" \"China Construction Bank\" \"Agricultural Bank of China\" ...\n",
            " $ country    : Factor w/ 60 levels \"Argentina\",\"Australia\",..: 10 59 10 10 59 59 10 10 37 59 ...\n",
            " $ sales      : num  176 133 150 138 112 ...\n",
            " $ profits    : num  45.2 32.7 38.8 30.9 28.5 59.4 16.3 27.5 23.3 23.1 ...\n",
            " $ assets     : num  4034 2737 3382 3293 2377 ...\n",
            " $ marketvalue: num  305 368 225 197 287 ...\n"
          ],
          "name": "stdout"
        }
      ]
    },
    {
      "cell_type": "markdown",
      "metadata": {
        "id": "V8RCDhbMyhI8",
        "colab_type": "text"
      },
      "source": [
        "* Small classes could be merged into a larger class. Why?\n",
        "> * For better model performance. E.g. Classification and Regression Trees tend to split using the variables with many categories.\n",
        "> * Actual needs\n",
        "Some categories have just a few subjects"
      ]
    },
    {
      "cell_type": "code",
      "metadata": {
        "id": "v5dHXoPMyruY",
        "colab_type": "code",
        "colab": {
          "base_uri": "https://localhost:8080/",
          "height": 714
        },
        "outputId": "d3e5a09f-db91-478c-bb16-9529b7d23189"
      },
      "source": [
        "table(forbes$country)"
      ],
      "execution_count": 15,
      "outputs": [
        {
          "output_type": "display_data",
          "data": {
            "text/plain": [
              "\n",
              "           Argentina            Australia              Austria \n",
              "                   2                   37                    9 \n",
              "             Bahrain              Belgium              Bermuda \n",
              "                   1                   10                    4 \n",
              "              Brazil               Canada                Chile \n",
              "                  20                   56                    8 \n",
              "               China             Colombia       Czech Republic \n",
              "                 251                    6                    1 \n",
              "             Denmark                Egypt              Finland \n",
              "                  13                    1                    9 \n",
              "              France              Germany               Greece \n",
              "                  57                   52                    4 \n",
              "           Hong Kong              Hungary                India \n",
              "                  58                    2                   57 \n",
              "           Indonesia              Ireland               Israel \n",
              "                   6                   18                    9 \n",
              "               Italy                Japan               Jordan \n",
              "                  27                  223                    1 \n",
              "          Kazakhstan                Kenya               Kuwait \n",
              "                   1                    1                    4 \n",
              "             Lebanon           Luxembourg             Malaysia \n",
              "                   2                    7                    9 \n",
              "              Mexico               Monaco              Morocco \n",
              "                  13                    1                    3 \n",
              "         Netherlands              Nigeria               Norway \n",
              "                  25                    2                    8 \n",
              "                Oman                 Peru          Philippines \n",
              "                   1                    2                    6 \n",
              "              Poland             Portugal                Qatar \n",
              "                   7                    4                    6 \n",
              "              Russia         Saudi Arabia            Singapore \n",
              "                  22                   15                   13 \n",
              "        South Africa          South Korea                Spain \n",
              "                  12                   62                   22 \n",
              "              Sweden          Switzerland               Taiwan \n",
              "                  26                   41                   47 \n",
              "            Thailand               Turkey United Arab Emirates \n",
              "                  15                    9                    9 \n",
              "      United Kingdom        United States              Vietnam \n",
              "                  83                  576                    4 "
            ]
          },
          "metadata": {
            "tags": []
          }
        }
      ]
    },
    {
      "cell_type": "markdown",
      "metadata": {
        "id": "MbNTKIxHzJDi",
        "colab_type": "text"
      },
      "source": [
        "* Merge small classes into a larger classes\n",
        "\n",
        "Merge all South American countries to \"Latin America\""
      ]
    },
    {
      "cell_type": "code",
      "metadata": {
        "id": "5W8TxPeBzjHB",
        "colab_type": "code",
        "colab": {
          "base_uri": "https://localhost:8080/",
          "height": 1000
        },
        "outputId": "ec8d4a67-27e0-4cd8-cca3-1e396b60ad7e"
      },
      "source": [
        "latinAmerica = \"Latin America\"\n",
        "checkAndAddLevel <- function(aLevel, aFactor) {\n",
        "  if (! aLevel %in% levels(aFactor)) {\n",
        "    cat(\"Adding\", aLevel, \"\\n\")\n",
        "    c(levels(aFactor), aLevel)\n",
        "  } else {\n",
        "    cat(\"Already have\", aLevel, \"\\n\")\n",
        "    levels(aFactor)\n",
        "  }\n",
        "}\n",
        "levels(forbes$country) <- checkAndAddLevel(latinAmerica, forbes$country)\n",
        "table(forbes$country)\n",
        "toLatinAmerica <- c(\"Argentina\", \"Bermuda\", \"Brazil\", \"Chile\", \"Colombia\", \"Mexico\", \"Peru\")\n",
        "checkAndPopulateLevel <- function(aLevel, aFactor, target) {\n",
        "  inTarget <- aFactor %in% target\n",
        "  if (sum(inTarget) != 0) {\n",
        "    cat(\"Populating\", aLevel, \"\\n\")\n",
        "    aFactor[inTarget] <- aLevel\n",
        "    aFactor <- droplevels(aFactor)\n",
        "  } else {\n",
        "    cat(\"Already populated\", aLevel, \"\\n\")\n",
        "  }\n",
        "  aFactor\n",
        "}\n",
        "forbes$country <- checkAndPopulateLevel(latinAmerica, forbes$country, toLatinAmerica)\n",
        "table(forbes$country)"
      ],
      "execution_count": 16,
      "outputs": [
        {
          "output_type": "stream",
          "text": [
            "Adding Latin America \n"
          ],
          "name": "stdout"
        },
        {
          "output_type": "display_data",
          "data": {
            "text/plain": [
              "\n",
              "           Argentina            Australia              Austria \n",
              "                   2                   37                    9 \n",
              "             Bahrain              Belgium              Bermuda \n",
              "                   1                   10                    4 \n",
              "              Brazil               Canada                Chile \n",
              "                  20                   56                    8 \n",
              "               China             Colombia       Czech Republic \n",
              "                 251                    6                    1 \n",
              "             Denmark                Egypt              Finland \n",
              "                  13                    1                    9 \n",
              "              France              Germany               Greece \n",
              "                  57                   52                    4 \n",
              "           Hong Kong              Hungary                India \n",
              "                  58                    2                   57 \n",
              "           Indonesia              Ireland               Israel \n",
              "                   6                   18                    9 \n",
              "               Italy                Japan               Jordan \n",
              "                  27                  223                    1 \n",
              "          Kazakhstan                Kenya               Kuwait \n",
              "                   1                    1                    4 \n",
              "             Lebanon           Luxembourg             Malaysia \n",
              "                   2                    7                    9 \n",
              "              Mexico               Monaco              Morocco \n",
              "                  13                    1                    3 \n",
              "         Netherlands              Nigeria               Norway \n",
              "                  25                    2                    8 \n",
              "                Oman                 Peru          Philippines \n",
              "                   1                    2                    6 \n",
              "              Poland             Portugal                Qatar \n",
              "                   7                    4                    6 \n",
              "              Russia         Saudi Arabia            Singapore \n",
              "                  22                   15                   13 \n",
              "        South Africa          South Korea                Spain \n",
              "                  12                   62                   22 \n",
              "              Sweden          Switzerland               Taiwan \n",
              "                  26                   41                   47 \n",
              "            Thailand               Turkey United Arab Emirates \n",
              "                  15                    9                    9 \n",
              "      United Kingdom        United States              Vietnam \n",
              "                  83                  576                    4 \n",
              "       Latin America \n",
              "                   0 "
            ]
          },
          "metadata": {
            "tags": []
          }
        },
        {
          "output_type": "stream",
          "text": [
            "Populating Latin America \n"
          ],
          "name": "stdout"
        },
        {
          "output_type": "display_data",
          "data": {
            "text/plain": [
              "\n",
              "           Australia              Austria              Bahrain \n",
              "                  37                    9                    1 \n",
              "             Belgium               Canada                China \n",
              "                  10                   56                  251 \n",
              "      Czech Republic              Denmark                Egypt \n",
              "                   1                   13                    1 \n",
              "             Finland               France              Germany \n",
              "                   9                   57                   52 \n",
              "              Greece            Hong Kong              Hungary \n",
              "                   4                   58                    2 \n",
              "               India            Indonesia              Ireland \n",
              "                  57                    6                   18 \n",
              "              Israel                Italy                Japan \n",
              "                   9                   27                  223 \n",
              "              Jordan           Kazakhstan                Kenya \n",
              "                   1                    1                    1 \n",
              "              Kuwait              Lebanon           Luxembourg \n",
              "                   4                    2                    7 \n",
              "            Malaysia               Monaco              Morocco \n",
              "                   9                    1                    3 \n",
              "         Netherlands              Nigeria               Norway \n",
              "                  25                    2                    8 \n",
              "                Oman          Philippines               Poland \n",
              "                   1                    6                    7 \n",
              "            Portugal                Qatar               Russia \n",
              "                   4                    6                   22 \n",
              "        Saudi Arabia            Singapore         South Africa \n",
              "                  15                   13                   12 \n",
              "         South Korea                Spain               Sweden \n",
              "                  62                   22                   26 \n",
              "         Switzerland               Taiwan             Thailand \n",
              "                  41                   47                   15 \n",
              "              Turkey United Arab Emirates       United Kingdom \n",
              "                   9                    9                   83 \n",
              "       United States              Vietnam        Latin America \n",
              "                 576                    4                   55 "
            ]
          },
          "metadata": {
            "tags": []
          }
        }
      ]
    },
    {
      "cell_type": "markdown",
      "metadata": {
        "id": "yDJPSXm6zq7z",
        "colab_type": "text"
      },
      "source": [
        "Merge small classes into a larger classes"
      ]
    },
    {
      "cell_type": "code",
      "metadata": {
        "id": "n-TKo6aQz1mg",
        "colab_type": "code",
        "colab": {
          "base_uri": "https://localhost:8080/",
          "height": 1000
        },
        "outputId": "989269cf-f743-4968-f39a-4aa96962d859"
      },
      "source": [
        "forbes$country[(forbes$country==\"Austria\")|(forbes$country==\"Belgium\")|(forbes$country==\"Czech Republic\")|(forbes$country==\"Denmark\")|(forbes$country==\"Finland\")|(forbes$country==\"France\")|(forbes$country==\"Germany\")|(forbes$country==\"Greece\")|(forbes$country==\"Hungary\")|(forbes$country==\"Ireland\")|(forbes$country==\"Italy\")|(forbes$country==\"Luxembourg\")|(forbes$country==\"Netherlands\")|(forbes$country==\"Norway\")|(forbes$country==\"Poland\")|(forbes$country==\"Portugal\")|(forbes$country==\"Russia\")|(forbes$country==\"Spain\")|(forbes$country==\"Sweden\")|(forbes$country==\"Switzerland\")|(forbes$country==\"Turkey\")|(forbes$country==\"France/ United Kingdom\")|(forbes$country==\"United Kingdom/ Netherlands\")|(forbes$country==\"Netherlands/ United Kingdom\")]<-\"United Kingdom\"\n",
        "ESEA <- \"East/Southeast Asia\"\n",
        "levels(forbes$country) <- checkAndAddLevel(ESEA, forbes$country)\n",
        "toEsea <- c(\"China\", \"Hong Kong\", \"Indonesia\", \"Japan\", \"Kong/China\", \"Korea\", \"Malaysia\", \"Philippines\", \"Singapore\", \"South Korea\", \"Taiwan\", \"Thailand\", \"Vietnam\")\n",
        "forbes$country <- checkAndPopulateLevel(ESEA, forbes$country, toEsea)\n",
        "table(forbes$country)\n",
        "\n",
        "UKSA <- \"United Kingdom/ South Africa\"\n",
        "levels(forbes$country) <- checkAndAddLevel(UKSA, forbes$country)\n",
        "toUksa <- c(\"Africa\", \"Australia\", \"India\", \"Australia/ United Kingdom\", \"Islands\", \"Israel\", \"Jordan\", \"Liberia\", \"Mexico\", \"New Zealand\", \"Pakistan\", \"South Africa\", \"United Kingdom/ Australia\")\n",
        "forbes$country <- checkAndPopulateLevel(UKSA, forbes$country, toUksa)\n",
        "table(forbes$country)\n",
        "\n",
        "ME <- \"Middle East\"\n",
        "levels(forbes$country) <- checkAndAddLevel(ME, forbes$country)\n",
        "toMe <- c(\"Bahrain\", \"Egypt\", \"Kazakhstan\", \"Kuwait\", \"Lebanon\", \"Oman\", \"Qatar\", \"Saudi Arabia\", \"United Arab Emirates\")\n",
        "forbes$country <- checkAndPopulateLevel(ME, forbes$country, toMe)\n",
        "table(forbes$country)"
      ],
      "execution_count": 21,
      "outputs": [
        {
          "output_type": "stream",
          "text": [
            "Already have East/Southeast Asia \n",
            "Already populated East/Southeast Asia \n"
          ],
          "name": "stdout"
        },
        {
          "output_type": "display_data",
          "data": {
            "text/plain": [
              "\n",
              "                     Bahrain                       Canada \n",
              "                           1                           56 \n",
              "                       Egypt                   Kazakhstan \n",
              "                           1                            1 \n",
              "                       Kenya                       Kuwait \n",
              "                           1                            4 \n",
              "                     Lebanon                       Monaco \n",
              "                           2                            1 \n",
              "                     Morocco                      Nigeria \n",
              "                           3                            2 \n",
              "                        Oman                        Qatar \n",
              "                           1                            6 \n",
              "                Saudi Arabia         United Arab Emirates \n",
              "                          15                            9 \n",
              "              United Kingdom                United States \n",
              "                         456                          576 \n",
              "               Latin America          East/Southeast Asia \n",
              "                          55                          694 \n",
              "United Kingdom/ South Africa \n",
              "                         116 "
            ]
          },
          "metadata": {
            "tags": []
          }
        },
        {
          "output_type": "stream",
          "text": [
            "Already have United Kingdom/ South Africa \n",
            "Already populated United Kingdom/ South Africa \n"
          ],
          "name": "stdout"
        },
        {
          "output_type": "display_data",
          "data": {
            "text/plain": [
              "\n",
              "                     Bahrain                       Canada \n",
              "                           1                           56 \n",
              "                       Egypt                   Kazakhstan \n",
              "                           1                            1 \n",
              "                       Kenya                       Kuwait \n",
              "                           1                            4 \n",
              "                     Lebanon                       Monaco \n",
              "                           2                            1 \n",
              "                     Morocco                      Nigeria \n",
              "                           3                            2 \n",
              "                        Oman                        Qatar \n",
              "                           1                            6 \n",
              "                Saudi Arabia         United Arab Emirates \n",
              "                          15                            9 \n",
              "              United Kingdom                United States \n",
              "                         456                          576 \n",
              "               Latin America          East/Southeast Asia \n",
              "                          55                          694 \n",
              "United Kingdom/ South Africa \n",
              "                         116 "
            ]
          },
          "metadata": {
            "tags": []
          }
        },
        {
          "output_type": "stream",
          "text": [
            "Adding Middle East \n",
            "Populating Middle East \n"
          ],
          "name": "stdout"
        },
        {
          "output_type": "display_data",
          "data": {
            "text/plain": [
              "\n",
              "                      Canada                        Kenya \n",
              "                          56                            1 \n",
              "                      Monaco                      Morocco \n",
              "                           1                            3 \n",
              "                     Nigeria               United Kingdom \n",
              "                           2                          456 \n",
              "               United States                Latin America \n",
              "                         576                           55 \n",
              "         East/Southeast Asia United Kingdom/ South Africa \n",
              "                         694                          116 \n",
              "                 Middle East \n",
              "                          40 "
            ]
          },
          "metadata": {
            "tags": []
          }
        }
      ]
    },
    {
      "cell_type": "markdown",
      "metadata": {
        "id": "H6ZanpW70XSj",
        "colab_type": "text"
      },
      "source": [
        "* Drop those levels with zero counts\n",
        "\n",
        "Use `droplevels()` function:\n"
      ]
    },
    {
      "cell_type": "code",
      "metadata": {
        "id": "bXODV7KY0ni4",
        "colab_type": "code",
        "colab": {}
      },
      "source": [
        "#forbes$country<-droplevels(forbes$country)"
      ],
      "execution_count": 0,
      "outputs": []
    },
    {
      "cell_type": "markdown",
      "metadata": {
        "id": "_kyU02Vm0yvh",
        "colab_type": "text"
      },
      "source": [
        "Now we can check the new frequency tables:"
      ]
    },
    {
      "cell_type": "code",
      "metadata": {
        "id": "mjjqV7Ui02oH",
        "colab_type": "code",
        "colab": {
          "base_uri": "https://localhost:8080/",
          "height": 272
        },
        "outputId": "54994dde-aac8-49fc-eb1e-c252be40a886"
      },
      "source": [
        "table(forbes$country)\n",
        "sum(is.na(forbes$country))\n",
        "which(is.na(forbes$country))\n",
        "levels(forbes$country)"
      ],
      "execution_count": 27,
      "outputs": [
        {
          "output_type": "display_data",
          "data": {
            "text/plain": [
              "\n",
              "                      Canada                        Kenya \n",
              "                          56                            0 \n",
              "                      Monaco                      Morocco \n",
              "                           0                            0 \n",
              "                     Nigeria               United Kingdom \n",
              "                           0                          456 \n",
              "               United States                Latin America \n",
              "                         576                           55 \n",
              "         East/Southeast Asia United Kingdom/ South Africa \n",
              "                         694                          116 \n",
              "                 Middle East                        Other \n",
              "                          40                            7 "
            ]
          },
          "metadata": {
            "tags": []
          }
        },
        {
          "output_type": "display_data",
          "data": {
            "text/plain": [
              "[1] 0"
            ],
            "text/latex": "0",
            "text/markdown": "0",
            "text/html": [
              "0"
            ]
          },
          "metadata": {
            "tags": []
          }
        },
        {
          "output_type": "display_data",
          "data": {
            "text/plain": [
              "integer(0)"
            ],
            "text/latex": "",
            "text/markdown": "",
            "text/html": [
              ""
            ]
          },
          "metadata": {
            "tags": []
          }
        },
        {
          "output_type": "display_data",
          "data": {
            "text/plain": [
              " [1] \"Canada\"                       \"Kenya\"                       \n",
              " [3] \"Monaco\"                       \"Morocco\"                     \n",
              " [5] \"Nigeria\"                      \"United Kingdom\"              \n",
              " [7] \"United States\"                \"Latin America\"               \n",
              " [9] \"East/Southeast Asia\"          \"United Kingdom/ South Africa\"\n",
              "[11] \"Middle East\"                  \"Other\"                       "
            ],
            "text/latex": "\\begin{enumerate*}\n\\item 'Canada'\n\\item 'Kenya'\n\\item 'Monaco'\n\\item 'Morocco'\n\\item 'Nigeria'\n\\item 'United Kingdom'\n\\item 'United States'\n\\item 'Latin America'\n\\item 'East/Southeast Asia'\n\\item 'United Kingdom/ South Africa'\n\\item 'Middle East'\n\\item 'Other'\n\\end{enumerate*}\n",
            "text/markdown": "1. 'Canada'\n2. 'Kenya'\n3. 'Monaco'\n4. 'Morocco'\n5. 'Nigeria'\n6. 'United Kingdom'\n7. 'United States'\n8. 'Latin America'\n9. 'East/Southeast Asia'\n10. 'United Kingdom/ South Africa'\n11. 'Middle East'\n12. 'Other'\n\n\n",
            "text/html": [
              "<style>\n",
              ".list-inline {list-style: none; margin:0; padding: 0}\n",
              ".list-inline>li {display: inline-block}\n",
              ".list-inline>li:not(:last-child)::after {content: \"\\00b7\"; padding: 0 .5ex}\n",
              "</style>\n",
              "<ol class=list-inline><li>'Canada'</li><li>'Kenya'</li><li>'Monaco'</li><li>'Morocco'</li><li>'Nigeria'</li><li>'United Kingdom'</li><li>'United States'</li><li>'Latin America'</li><li>'East/Southeast Asia'</li><li>'United Kingdom/ South Africa'</li><li>'Middle East'</li><li>'Other'</li></ol>\n"
            ]
          },
          "metadata": {
            "tags": []
          }
        }
      ]
    },
    {
      "cell_type": "markdown",
      "metadata": {
        "id": "jXJhgxpBJAIS",
        "colab_type": "text"
      },
      "source": [
        "* Merge other smaller countries to Other"
      ]
    },
    {
      "cell_type": "code",
      "metadata": {
        "id": "XWjdTyXfJlJX",
        "colab_type": "code",
        "colab": {
          "base_uri": "https://localhost:8080/",
          "height": 85
        },
        "outputId": "9d51d23c-2596-4d52-b1ba-4428faf73694"
      },
      "source": [
        "regionNames <- c(\"Canada\", \"United Kingdom\", \"United States\", \"Latin America\", \"East/Southeast Asia\", \"United Kingdom/ South Africa\", \"Middle East\", \"Other\")\n",
        "isOther <- !forbes$country %in% regionNames\n",
        "sum(isOther)\n",
        "forbes$country[isOther]\n",
        "levels(forbes$country) <- checkAndAddLevel(\"Other\", forbes$country)\n",
        "forbes$country[isOther] <- \"Other\"\n",
        "forbes$country <- droplevels(forbes$country)\n",
        "levels(forbes$country)"
      ],
      "execution_count": 28,
      "outputs": [
        {
          "output_type": "display_data",
          "data": {
            "text/plain": [
              "[1] 0"
            ],
            "text/latex": "0",
            "text/markdown": "0",
            "text/html": [
              "0"
            ]
          },
          "metadata": {
            "tags": []
          }
        },
        {
          "output_type": "display_data",
          "data": {
            "text/plain": [
              "factor(0)\n",
              "12 Levels: Canada Kenya Monaco Morocco Nigeria United Kingdom ... Other"
            ],
            "text/latex": "\n\\emph{Levels}: \\begin{enumerate*}\n\\item 'Canada'\n\\item 'Kenya'\n\\item 'Monaco'\n\\item 'Morocco'\n\\item 'Nigeria'\n\\item 'United Kingdom'\n\\item 'United States'\n\\item 'Latin America'\n\\item 'East/Southeast Asia'\n\\item 'United Kingdom/ South Africa'\n\\item 'Middle East'\n\\item 'Other'\n\\end{enumerate*}\n",
            "text/markdown": "\n**Levels**: 1. 'Canada'\n2. 'Kenya'\n3. 'Monaco'\n4. 'Morocco'\n5. 'Nigeria'\n6. 'United Kingdom'\n7. 'United States'\n8. 'Latin America'\n9. 'East/Southeast Asia'\n10. 'United Kingdom/ South Africa'\n11. 'Middle East'\n12. 'Other'\n\n\n",
            "text/html": [
              "\n",
              "<details>\n",
              "\t<summary style=display:list-item;cursor:pointer>\n",
              "\t\t<strong>Levels</strong>:\n",
              "\t</summary>\n",
              "\t<style>\n",
              "\t.list-inline {list-style: none; margin:0; padding: 0}\n",
              "\t.list-inline>li {display: inline-block}\n",
              "\t.list-inline>li:not(:last-child)::after {content: \"\\00b7\"; padding: 0 .5ex}\n",
              "\t</style>\n",
              "\t<ol class=list-inline><li>'Canada'</li><li>'Kenya'</li><li>'Monaco'</li><li>'Morocco'</li><li>'Nigeria'</li><li>'United Kingdom'</li><li>'United States'</li><li>'Latin America'</li><li>'East/Southeast Asia'</li><li>'United Kingdom/ South Africa'</li><li>'Middle East'</li><li>'Other'</li></ol>\n",
              "</details>"
            ]
          },
          "metadata": {
            "tags": []
          }
        },
        {
          "output_type": "stream",
          "text": [
            "Already have Other \n"
          ],
          "name": "stdout"
        },
        {
          "output_type": "display_data",
          "data": {
            "text/plain": [
              "[1] \"Canada\"                       \"United Kingdom\"              \n",
              "[3] \"United States\"                \"Latin America\"               \n",
              "[5] \"East/Southeast Asia\"          \"United Kingdom/ South Africa\"\n",
              "[7] \"Middle East\"                  \"Other\"                       "
            ],
            "text/latex": "\\begin{enumerate*}\n\\item 'Canada'\n\\item 'United Kingdom'\n\\item 'United States'\n\\item 'Latin America'\n\\item 'East/Southeast Asia'\n\\item 'United Kingdom/ South Africa'\n\\item 'Middle East'\n\\item 'Other'\n\\end{enumerate*}\n",
            "text/markdown": "1. 'Canada'\n2. 'United Kingdom'\n3. 'United States'\n4. 'Latin America'\n5. 'East/Southeast Asia'\n6. 'United Kingdom/ South Africa'\n7. 'Middle East'\n8. 'Other'\n\n\n",
            "text/html": [
              "<style>\n",
              ".list-inline {list-style: none; margin:0; padding: 0}\n",
              ".list-inline>li {display: inline-block}\n",
              ".list-inline>li:not(:last-child)::after {content: \"\\00b7\"; padding: 0 .5ex}\n",
              "</style>\n",
              "<ol class=list-inline><li>'Canada'</li><li>'United Kingdom'</li><li>'United States'</li><li>'Latin America'</li><li>'East/Southeast Asia'</li><li>'United Kingdom/ South Africa'</li><li>'Middle East'</li><li>'Other'</li></ol>\n"
            ]
          },
          "metadata": {
            "tags": []
          }
        }
      ]
    },
    {
      "cell_type": "markdown",
      "metadata": {
        "id": "hPwB5uT409eQ",
        "colab_type": "text"
      },
      "source": [
        "* Rename each class"
      ]
    },
    {
      "cell_type": "code",
      "metadata": {
        "id": "CHdjaHLq1AYT",
        "colab_type": "code",
        "colab": {
          "base_uri": "https://localhost:8080/",
          "height": 34
        },
        "outputId": "b653d61d-7e45-4396-be15-9a898899b553"
      },
      "source": [
        "#levels(forbes$country)<-c(\"Canada\",\"East/Southeast Asia\",\"Europe\",\"Other\",\"United States\",\"Latin America\")\n",
        "levels(forbes$country)"
      ],
      "execution_count": 29,
      "outputs": [
        {
          "output_type": "display_data",
          "data": {
            "text/plain": [
              "[1] \"Canada\"                       \"United Kingdom\"              \n",
              "[3] \"United States\"                \"Latin America\"               \n",
              "[5] \"East/Southeast Asia\"          \"United Kingdom/ South Africa\"\n",
              "[7] \"Middle East\"                  \"Other\"                       "
            ],
            "text/latex": "\\begin{enumerate*}\n\\item 'Canada'\n\\item 'United Kingdom'\n\\item 'United States'\n\\item 'Latin America'\n\\item 'East/Southeast Asia'\n\\item 'United Kingdom/ South Africa'\n\\item 'Middle East'\n\\item 'Other'\n\\end{enumerate*}\n",
            "text/markdown": "1. 'Canada'\n2. 'United Kingdom'\n3. 'United States'\n4. 'Latin America'\n5. 'East/Southeast Asia'\n6. 'United Kingdom/ South Africa'\n7. 'Middle East'\n8. 'Other'\n\n\n",
            "text/html": [
              "<style>\n",
              ".list-inline {list-style: none; margin:0; padding: 0}\n",
              ".list-inline>li {display: inline-block}\n",
              ".list-inline>li:not(:last-child)::after {content: \"\\00b7\"; padding: 0 .5ex}\n",
              "</style>\n",
              "<ol class=list-inline><li>'Canada'</li><li>'United Kingdom'</li><li>'United States'</li><li>'Latin America'</li><li>'East/Southeast Asia'</li><li>'United Kingdom/ South Africa'</li><li>'Middle East'</li><li>'Other'</li></ol>\n"
            ]
          },
          "metadata": {
            "tags": []
          }
        }
      ]
    },
    {
      "cell_type": "code",
      "metadata": {
        "id": "RlsAn1_1RQbm",
        "colab_type": "code",
        "colab": {}
      },
      "source": [
        ""
      ],
      "execution_count": 0,
      "outputs": []
    },
    {
      "cell_type": "markdown",
      "metadata": {
        "id": "7XZclPFj1ZB7",
        "colab_type": "text"
      },
      "source": [
        "###4.4 Export the cleaned dataset (Important!)\n",
        "* Save forbes to Forbes2000_clean.csv"
      ]
    },
    {
      "cell_type": "code",
      "metadata": {
        "id": "1hyWWnp51kWL",
        "colab_type": "code",
        "colab": {
          "base_uri": "https://localhost:8080/",
          "height": 187
        },
        "outputId": "d028ea41-3b1f-4aa1-efa4-00e3569ec44b"
      },
      "source": [
        "write.csv(forbes,\"Forbes2000_2019_clean.csv\",row.names=FALSE)\n",
        "list.files()\n",
        "str(forbes)\n",
        "sum(is.na(forbes$country))"
      ],
      "execution_count": 30,
      "outputs": [
        {
          "output_type": "display_data",
          "data": {
            "text/plain": [
              "[1] \"Forbes2000_2019_clean.csv\" \"Forbes2000_2019.csv\"      \n",
              "[3] \"Forbes2000_2019.csv.zip\"  "
            ],
            "text/latex": "\\begin{enumerate*}\n\\item 'Forbes2000\\_2019\\_clean.csv'\n\\item 'Forbes2000\\_2019.csv'\n\\item 'Forbes2000\\_2019.csv.zip'\n\\end{enumerate*}\n",
            "text/markdown": "1. 'Forbes2000_2019_clean.csv'\n2. 'Forbes2000_2019.csv'\n3. 'Forbes2000_2019.csv.zip'\n\n\n",
            "text/html": [
              "<style>\n",
              ".list-inline {list-style: none; margin:0; padding: 0}\n",
              ".list-inline>li {display: inline-block}\n",
              ".list-inline>li:not(:last-child)::after {content: \"\\00b7\"; padding: 0 .5ex}\n",
              "</style>\n",
              "<ol class=list-inline><li>'Forbes2000_2019_clean.csv'</li><li>'Forbes2000_2019.csv'</li><li>'Forbes2000_2019.csv.zip'</li></ol>\n"
            ]
          },
          "metadata": {
            "tags": []
          }
        },
        {
          "output_type": "stream",
          "text": [
            "'data.frame':\t2000 obs. of  7 variables:\n",
            " $ rank       : int  1 2 3 4 5 6 7 8 9 10 ...\n",
            " $ name       : chr  \"ICBC\" \"JPMorgan Chase\" \"China Construction Bank\" \"Agricultural Bank of China\" ...\n",
            " $ country    : Factor w/ 8 levels \"Canada\",\"United Kingdom\",..: 5 3 5 5 3 3 5 5 2 3 ...\n",
            " $ sales      : num  176 133 150 138 112 ...\n",
            " $ profits    : num  45.2 32.7 38.8 30.9 28.5 59.4 16.3 27.5 23.3 23.1 ...\n",
            " $ assets     : num  4034 2737 3382 3293 2377 ...\n",
            " $ marketvalue: num  305 368 225 197 287 ...\n"
          ],
          "name": "stdout"
        },
        {
          "output_type": "display_data",
          "data": {
            "text/plain": [
              "[1] 0"
            ],
            "text/latex": "0",
            "text/markdown": "0",
            "text/html": [
              "0"
            ]
          },
          "metadata": {
            "tags": []
          }
        }
      ]
    },
    {
      "cell_type": "markdown",
      "metadata": {
        "id": "zreO0WEd2gpD",
        "colab_type": "text"
      },
      "source": [
        "## 5. Data analysis\n"
      ]
    },
    {
      "cell_type": "markdown",
      "metadata": {
        "id": "Osw6lYbu4UUL",
        "colab_type": "text"
      },
      "source": [
        "###5.2 Import the cleaned dataset (Optional)\n",
        "* Subsetting by column\n",
        "Create a dataframe with the clean data"
      ]
    },
    {
      "cell_type": "code",
      "metadata": {
        "id": "9ghM_DIK4ffD",
        "colab_type": "code",
        "colab": {
          "base_uri": "https://localhost:8080/",
          "height": 153
        },
        "outputId": "6bab5e2f-feae-4312-a75a-1e2f7578ecdb"
      },
      "source": [
        "forbes_clean <- read.csv(\"Forbes2000_2019_clean.csv\",header=T,stringsAsFactors = T,na.strings =\"?\",sep=\",\")\n",
        "str(forbes_clean)"
      ],
      "execution_count": 31,
      "outputs": [
        {
          "output_type": "stream",
          "text": [
            "'data.frame':\t2000 obs. of  7 variables:\n",
            " $ rank       : int  1 2 3 4 5 6 7 8 9 10 ...\n",
            " $ name       : Factor w/ 2000 levels \"360 Security Technology\",..: 914 1014 388 41 206 123 1410 211 1512 1918 ...\n",
            " $ country    : Factor w/ 8 levels \"Canada\",\"East/Southeast Asia\",..: 2 8 2 2 8 8 2 2 6 8 ...\n",
            " $ sales      : num  176 133 150 138 112 ...\n",
            " $ profits    : num  45.2 32.7 38.8 30.9 28.5 59.4 16.3 27.5 23.3 23.1 ...\n",
            " $ assets     : num  4034 2737 3382 3293 2377 ...\n",
            " $ marketvalue: num  305 368 225 197 287 ...\n"
          ],
          "name": "stdout"
        }
      ]
    },
    {
      "cell_type": "markdown",
      "metadata": {
        "id": "Bcf3wU_IA_hZ",
        "colab_type": "text"
      },
      "source": [
        "###5.3 Extract Variables \n",
        "* Create another data frame with only numeric variables + country\n",
        "\n",
        "Hint: Refer to 4.2.3 Subsetting by column"
      ]
    },
    {
      "cell_type": "code",
      "metadata": {
        "id": "jFDVjnz4CVBT",
        "colab_type": "code",
        "colab": {
          "base_uri": "https://localhost:8080/",
          "height": 119
        },
        "outputId": "6e969c30-09df-445a-e2f5-82f366feccec"
      },
      "source": [
        "# Fill the blank below:\n",
        "forbes_clean <- forbes_clean[, 3:7]\n",
        "str(forbes_clean)"
      ],
      "execution_count": 32,
      "outputs": [
        {
          "output_type": "stream",
          "text": [
            "'data.frame':\t2000 obs. of  5 variables:\n",
            " $ country    : Factor w/ 8 levels \"Canada\",\"East/Southeast Asia\",..: 2 8 2 2 8 8 2 2 6 8 ...\n",
            " $ sales      : num  176 133 150 138 112 ...\n",
            " $ profits    : num  45.2 32.7 38.8 30.9 28.5 59.4 16.3 27.5 23.3 23.1 ...\n",
            " $ assets     : num  4034 2737 3382 3293 2377 ...\n",
            " $ marketvalue: num  305 368 225 197 287 ...\n"
          ],
          "name": "stdout"
        }
      ]
    },
    {
      "cell_type": "markdown",
      "metadata": {
        "id": "yS8zt-Bq46lR",
        "colab_type": "text"
      },
      "source": [
        "###5.4 Training Set and Test Set\n",
        "* Dataset could be randomly split into two parts: training set and test set. \n"
      ]
    },
    {
      "cell_type": "code",
      "metadata": {
        "id": "yFDob7OX5DB4",
        "colab_type": "code",
        "colab": {}
      },
      "source": [
        "set.seed(1) #set random seed reproducible\n",
        "indx <- sample(1:2000,size=2000,replace=F)\n",
        "forbes.train <- forbes_clean[indx[1:1600],]\n",
        "forbes.test <- forbes_clean[indx[1601:2000],]"
      ],
      "execution_count": 0,
      "outputs": []
    },
    {
      "cell_type": "markdown",
      "metadata": {
        "id": "ZSws0mVIGF-K",
        "colab_type": "text"
      },
      "source": [
        "##Exercise \n",
        "1. Use the `lm()` function to perform a multiple linear regression with profits as the response and all other numeric variables as the predictors. Use the `summary()` function to print the results. \n"
      ]
    },
    {
      "cell_type": "code",
      "metadata": {
        "id": "PUWzXPyhGVFk",
        "colab_type": "code",
        "colab": {
          "base_uri": "https://localhost:8080/",
          "height": 102
        },
        "outputId": "f4889ab6-37d6-4e2f-b4be-61e5a3066068"
      },
      "source": [
        "forbes_clean2 <- forbes_clean[,c(2:5)]  # create a new dataframe with only numeric variables included\n",
        "set.seed(3) \n",
        "indx <- sample(1:2000,size=2000,replace=F)\n",
        "forbes.train <- forbes_clean2[indx[1:1600],]\n",
        "forbes.test <- forbes_clean2[indx[1601:2000],]\n",
        "str(forbes.train)"
      ],
      "execution_count": 34,
      "outputs": [
        {
          "output_type": "stream",
          "text": [
            "'data.frame':\t1600 obs. of  4 variables:\n",
            " $ sales      : num  13.3 3.1 13.5 7.7 26.3 1.3 8.2 8.5 19.7 7 ...\n",
            " $ profits    : num  0.811 0.576 1.3 0.641 -10.2 5.7 1 1.1 1.1 1.7 ...\n",
            " $ assets     : num  21.9 6.6 17.8 24.4 103.6 ...\n",
            " $ marketvalue: num  12.6 10.5 20.1 10.7 40.2 24.5 7.2 6.2 15.9 71.5 ...\n"
          ],
          "name": "stdout"
        }
      ]
    },
    {
      "cell_type": "code",
      "metadata": {
        "id": "ByWA1lihE0OS",
        "colab_type": "code",
        "colab": {
          "base_uri": "https://localhost:8080/",
          "height": 357
        },
        "outputId": "a62e9be4-08a9-4bcd-f530-5f2f9c8dbd6e"
      },
      "source": [
        "lm <- lm(   profits ~ . , data=forbes.train     )\n",
        "summary(lm)"
      ],
      "execution_count": 35,
      "outputs": [
        {
          "output_type": "display_data",
          "data": {
            "text/plain": [
              "\n",
              "Call:\n",
              "lm(formula = profits ~ ., data = forbes.train)\n",
              "\n",
              "Residuals:\n",
              "     Min       1Q   Median       3Q      Max \n",
              "-28.7050  -0.2945   0.0270   0.3843  24.6195 \n",
              "\n",
              "Coefficients:\n",
              "             Estimate Std. Error t value Pr(>|t|)    \n",
              "(Intercept) -0.115184   0.058980  -1.953    0.051 .  \n",
              "sales        0.012875   0.001757   7.328  3.7e-13 ***\n",
              "assets       0.004877   0.000189  25.810  < 2e-16 ***\n",
              "marketvalue  0.040605   0.001023  39.697  < 2e-16 ***\n",
              "---\n",
              "Signif. codes:  0 ‘***’ 0.001 ‘**’ 0.01 ‘*’ 0.05 ‘.’ 0.1 ‘ ’ 1\n",
              "\n",
              "Residual standard error: 2.012 on 1596 degrees of freedom\n",
              "Multiple R-squared:  0.7452,\tAdjusted R-squared:  0.7447 \n",
              "F-statistic:  1556 on 3 and 1596 DF,  p-value: < 2.2e-16\n"
            ]
          },
          "metadata": {
            "tags": []
          }
        }
      ]
    },
    {
      "cell_type": "markdown",
      "metadata": {
        "id": "Hm4KasWEGWi4",
        "colab_type": "text"
      },
      "source": [
        "2. Comment on the output. For instance:  Is there a relationship between the predictors and the response? \n"
      ]
    },
    {
      "cell_type": "markdown",
      "metadata": {
        "id": "hw28r9axfbzT",
        "colab_type": "text"
      },
      "source": [
        "Yes."
      ]
    },
    {
      "cell_type": "markdown",
      "metadata": {
        "id": "lmB6_YXLGaNJ",
        "colab_type": "text"
      },
      "source": [
        "3. Which predictors appear to have a statistically significant relationship to the response? \n"
      ]
    },
    {
      "cell_type": "markdown",
      "metadata": {
        "id": "0GweFrAgffoI",
        "colab_type": "text"
      },
      "source": [
        "All 3 - sales, assets, and marketvalue"
      ]
    },
    {
      "cell_type": "markdown",
      "metadata": {
        "id": "icDSRv30GdJi",
        "colab_type": "text"
      },
      "source": [
        "4. What does the coefficient for the sales variable suggest?\n"
      ]
    },
    {
      "cell_type": "markdown",
      "metadata": {
        "id": "bJKdzYmIfnmb",
        "colab_type": "text"
      },
      "source": [
        "A unit sales increase results in a 1.2% increase in profits."
      ]
    },
    {
      "cell_type": "markdown",
      "metadata": {
        "id": "AmWkvi88Nlwn",
        "colab_type": "text"
      },
      "source": [
        "### Bonus questions:"
      ]
    },
    {
      "cell_type": "markdown",
      "metadata": {
        "id": "jkDB5eTjGf8E",
        "colab_type": "text"
      },
      "source": [
        "5. Use the ^ symbols to fit linear regression models with interaction effects. \u000bDo any interactions appear to be statistically significant? \n"
      ]
    },
    {
      "cell_type": "code",
      "metadata": {
        "id": "z-T8BBllGj-j",
        "colab_type": "code",
        "colab": {
          "base_uri": "https://localhost:8080/",
          "height": 425
        },
        "outputId": "ec29daef-d26c-466e-ef4e-d311e639ebd8"
      },
      "source": [
        "lm2 <- lm(  profits ~ (sales+assets+marketvalue)^3    , data = forbes.train)\n",
        "summary(lm2)"
      ],
      "execution_count": 36,
      "outputs": [
        {
          "output_type": "display_data",
          "data": {
            "text/plain": [
              "\n",
              "Call:\n",
              "lm(formula = profits ~ (sales + assets + marketvalue)^3, data = forbes.train)\n",
              "\n",
              "Residuals:\n",
              "     Min       1Q   Median       3Q      Max \n",
              "-28.4783  -0.3481  -0.0690   0.3692  24.5298 \n",
              "\n",
              "Coefficients:\n",
              "                           Estimate Std. Error t value Pr(>|t|)    \n",
              "(Intercept)               2.063e-01  7.370e-02   2.798 0.005197 ** \n",
              "sales                     8.042e-03  2.280e-03   3.528 0.000431 ***\n",
              "assets                    5.661e-04  5.228e-04   1.083 0.279052    \n",
              "marketvalue               3.689e-02  1.731e-03  21.311  < 2e-16 ***\n",
              "sales:assets              3.560e-05  6.115e-06   5.821 7.06e-09 ***\n",
              "sales:marketvalue         1.671e-05  1.329e-05   1.257 0.208799    \n",
              "assets:marketvalue        1.824e-05  5.014e-06   3.638 0.000284 ***\n",
              "sales:assets:marketvalue -9.563e-08  3.672e-08  -2.604 0.009287 ** \n",
              "---\n",
              "Signif. codes:  0 ‘***’ 0.001 ‘**’ 0.01 ‘*’ 0.05 ‘.’ 0.1 ‘ ’ 1\n",
              "\n",
              "Residual standard error: 1.938 on 1592 degrees of freedom\n",
              "Multiple R-squared:  0.7643,\tAdjusted R-squared:  0.7632 \n",
              "F-statistic: 737.3 on 7 and 1592 DF,  p-value: < 2.2e-16\n"
            ]
          },
          "metadata": {
            "tags": []
          }
        }
      ]
    },
    {
      "cell_type": "markdown",
      "metadata": {
        "id": "a6oifEd2HvRe",
        "colab_type": "text"
      },
      "source": [
        "6. Compare two models you just fitted with MAD and RMSE. Which model has better predictive results in terms of MAD and RMSE?"
      ]
    },
    {
      "cell_type": "code",
      "metadata": {
        "id": "9u2ee0WGH-nw",
        "colab_type": "code",
        "colab": {
          "base_uri": "https://localhost:8080/",
          "height": 85
        },
        "outputId": "f4de0b5f-10aa-4f3f-d7cb-0832354e9596"
      },
      "source": [
        "# MLR model without interactions \n",
        "lm.yhat <- predict(lm, newdata = forbes.test)\n",
        "lm.y <-  forbes.test$profits\n",
        "lm.rmse <- sqrt(mean(data.matrix((lm.y - lm.yhat)^2)))\n",
        "lm.rmse\n",
        "lm.abs = abs(lm.y - lm.yhat)\n",
        "lm.mad = (sum(lm.abs))/400\n",
        "lm.mad\n",
        "\n",
        "# MLR model with all interactions\n",
        "lm2.yhat <- predict(lm2, newdata = forbes.test)\n",
        "lm2.y <- forbes.test$profits\n",
        "lm2.rmse <- sqrt(mean(data.matrix((lm2.y - lm2.yhat)^2)))\n",
        "lm2.rmse\n",
        "lm2.abs = abs(lm2.y - lm2.yhat) \n",
        "lm2.mad = (sum(lm2.abs))/400\n",
        "lm2.mad"
      ],
      "execution_count": 40,
      "outputs": [
        {
          "output_type": "display_data",
          "data": {
            "text/plain": [
              "[1] 2.187403"
            ],
            "text/latex": "2.18740268212161",
            "text/markdown": "2.18740268212161",
            "text/html": [
              "2.18740268212161"
            ]
          },
          "metadata": {
            "tags": []
          }
        },
        {
          "output_type": "display_data",
          "data": {
            "text/plain": [
              "[1] 0.8436742"
            ],
            "text/latex": "0.843674197228998",
            "text/markdown": "0.843674197228998",
            "text/html": [
              "0.843674197228998"
            ]
          },
          "metadata": {
            "tags": []
          }
        },
        {
          "output_type": "display_data",
          "data": {
            "text/plain": [
              "[1] 2.119336"
            ],
            "text/latex": "2.11933559322657",
            "text/markdown": "2.11933559322657",
            "text/html": [
              "2.11933559322657"
            ]
          },
          "metadata": {
            "tags": []
          }
        },
        {
          "output_type": "display_data",
          "data": {
            "text/plain": [
              "[1] 0.843309"
            ],
            "text/latex": "0.843309012998413",
            "text/markdown": "0.843309012998413",
            "text/html": [
              "0.843309012998413"
            ]
          },
          "metadata": {
            "tags": []
          }
        }
      ]
    },
    {
      "cell_type": "markdown",
      "metadata": {
        "colab_type": "text",
        "id": "dSlz-hHPabLC"
      },
      "source": [
        "##Solution \n",
        "1. Use the `lm()` function to perform a multiple linear regression with profits as the response and all other numeric variables as the predictors. Use the `summary()` function to print the results. \n"
      ]
    },
    {
      "cell_type": "code",
      "metadata": {
        "id": "c4xDOVzWapb_",
        "colab_type": "code",
        "colab": {
          "base_uri": "https://localhost:8080/",
          "height": 357
        },
        "outputId": "8b55060f-b817-48da-c13e-ee88a91796eb"
      },
      "source": [
        "lm <- lm(profits ~ ., data = forbes.train)\n",
        "summary(lm)"
      ],
      "execution_count": 38,
      "outputs": [
        {
          "output_type": "display_data",
          "data": {
            "text/plain": [
              "\n",
              "Call:\n",
              "lm(formula = profits ~ ., data = forbes.train)\n",
              "\n",
              "Residuals:\n",
              "     Min       1Q   Median       3Q      Max \n",
              "-28.7050  -0.2945   0.0270   0.3843  24.6195 \n",
              "\n",
              "Coefficients:\n",
              "             Estimate Std. Error t value Pr(>|t|)    \n",
              "(Intercept) -0.115184   0.058980  -1.953    0.051 .  \n",
              "sales        0.012875   0.001757   7.328  3.7e-13 ***\n",
              "assets       0.004877   0.000189  25.810  < 2e-16 ***\n",
              "marketvalue  0.040605   0.001023  39.697  < 2e-16 ***\n",
              "---\n",
              "Signif. codes:  0 ‘***’ 0.001 ‘**’ 0.01 ‘*’ 0.05 ‘.’ 0.1 ‘ ’ 1\n",
              "\n",
              "Residual standard error: 2.012 on 1596 degrees of freedom\n",
              "Multiple R-squared:  0.7452,\tAdjusted R-squared:  0.7447 \n",
              "F-statistic:  1556 on 3 and 1596 DF,  p-value: < 2.2e-16\n"
            ]
          },
          "metadata": {
            "tags": []
          }
        }
      ]
    },
    {
      "cell_type": "markdown",
      "metadata": {
        "colab_type": "text",
        "id": "vagC3fDwafbd"
      },
      "source": [
        "5. Use the ^ symbols to fit linear regression models with interaction effects. \u000bDo any interactions appear to be statistically significant? \n"
      ]
    },
    {
      "cell_type": "code",
      "metadata": {
        "id": "vDOcdzeGalnx",
        "colab_type": "code",
        "colab": {
          "base_uri": "https://localhost:8080/",
          "height": 425
        },
        "outputId": "9449b0d6-12bb-4173-f709-6014ed56d217"
      },
      "source": [
        "lm2 <- lm(profits ~ (sales + assets + marketvalue)^3, data = forbes.train)\n",
        "summary(lm2)"
      ],
      "execution_count": 39,
      "outputs": [
        {
          "output_type": "display_data",
          "data": {
            "text/plain": [
              "\n",
              "Call:\n",
              "lm(formula = profits ~ (sales + assets + marketvalue)^3, data = forbes.train)\n",
              "\n",
              "Residuals:\n",
              "     Min       1Q   Median       3Q      Max \n",
              "-28.4783  -0.3481  -0.0690   0.3692  24.5298 \n",
              "\n",
              "Coefficients:\n",
              "                           Estimate Std. Error t value Pr(>|t|)    \n",
              "(Intercept)               2.063e-01  7.370e-02   2.798 0.005197 ** \n",
              "sales                     8.042e-03  2.280e-03   3.528 0.000431 ***\n",
              "assets                    5.661e-04  5.228e-04   1.083 0.279052    \n",
              "marketvalue               3.689e-02  1.731e-03  21.311  < 2e-16 ***\n",
              "sales:assets              3.560e-05  6.115e-06   5.821 7.06e-09 ***\n",
              "sales:marketvalue         1.671e-05  1.329e-05   1.257 0.208799    \n",
              "assets:marketvalue        1.824e-05  5.014e-06   3.638 0.000284 ***\n",
              "sales:assets:marketvalue -9.563e-08  3.672e-08  -2.604 0.009287 ** \n",
              "---\n",
              "Signif. codes:  0 ‘***’ 0.001 ‘**’ 0.01 ‘*’ 0.05 ‘.’ 0.1 ‘ ’ 1\n",
              "\n",
              "Residual standard error: 1.938 on 1592 degrees of freedom\n",
              "Multiple R-squared:  0.7643,\tAdjusted R-squared:  0.7632 \n",
              "F-statistic: 737.3 on 7 and 1592 DF,  p-value: < 2.2e-16\n"
            ]
          },
          "metadata": {
            "tags": []
          }
        }
      ]
    },
    {
      "cell_type": "markdown",
      "metadata": {
        "colab_type": "text",
        "id": "AGqtQnlpahAD"
      },
      "source": [
        "6. Compare two models you just fitted with MAD and RMSE. Which model has better predictive results in terms of MAD and RMSE?"
      ]
    },
    {
      "cell_type": "code",
      "metadata": {
        "id": "11_anmUiajcg",
        "colab_type": "code",
        "outputId": "93c32c80-86b5-413b-9a5f-cba3aeaf3b96",
        "colab": {
          "base_uri": "https://localhost:8080/",
          "height": 85
        }
      },
      "source": [
        "# MLR model without interactions \n",
        "lm.yhat <- predict(lm, newdata = forbes.test) \n",
        "lm.y <- forbes.test[\"profits\"] \n",
        "lm.rmse <- sqrt(mean(data.matrix((lm.y - lm.yhat)^2), na.rm = T))\n",
        "lm.rmse\n",
        "lm.abs = abs(lm.y - lm.yhat) \n",
        "lm.mad = (sum(lm.abs))/400\n",
        "lm.mad\n",
        "\n",
        "# MLR model with all interactions\n",
        "lm2.yhat <- predict(lm2, newdata = forbes.test) \n",
        "lm2.y <- forbes.test[\"profits\"] \n",
        "lm2.rmse <- sqrt(mean(data.matrix((lm2.y - lm2.yhat)^2)))\n",
        "lm2.rmse\n",
        "lm2.abs = abs(lm2.y - lm2.yhat) \n",
        "lm2.mad = (sum(lm2.abs))/400 \n",
        "lm2.mad"
      ],
      "execution_count": 41,
      "outputs": [
        {
          "output_type": "display_data",
          "data": {
            "text/plain": [
              "[1] 2.187403"
            ],
            "text/latex": "2.18740268212161",
            "text/markdown": "2.18740268212161",
            "text/html": [
              "2.18740268212161"
            ]
          },
          "metadata": {
            "tags": []
          }
        },
        {
          "output_type": "display_data",
          "data": {
            "text/plain": [
              "[1] 0.8436742"
            ],
            "text/latex": "0.843674197228998",
            "text/markdown": "0.843674197228998",
            "text/html": [
              "0.843674197228998"
            ]
          },
          "metadata": {
            "tags": []
          }
        },
        {
          "output_type": "display_data",
          "data": {
            "text/plain": [
              "[1] 2.119336"
            ],
            "text/latex": "2.11933559322657",
            "text/markdown": "2.11933559322657",
            "text/html": [
              "2.11933559322657"
            ]
          },
          "metadata": {
            "tags": []
          }
        },
        {
          "output_type": "display_data",
          "data": {
            "text/plain": [
              "[1] 0.843309"
            ],
            "text/latex": "0.843309012998413",
            "text/markdown": "0.843309012998413",
            "text/html": [
              "0.843309012998413"
            ]
          },
          "metadata": {
            "tags": []
          }
        }
      ]
    }
  ]
}