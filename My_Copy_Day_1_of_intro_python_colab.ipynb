{
  "nbformat": 4,
  "nbformat_minor": 0,
  "metadata": {
    "colab": {
      "name": "My Copy Day 1 of intro-python-colab.ipynb",
      "provenance": [],
      "collapsed_sections": [
        "sYQs3O-6dHFb",
        "8sIJ4A57dHFk",
        "_73RPOcBdHFn",
        "h9s2tfPcdHFo",
        "zt4YHVYPdHGR"
      ],
      "include_colab_link": true
    },
    "language_info": {
      "codemirror_mode": {
        "name": "ipython",
        "version": 3
      },
      "file_extension": ".py",
      "mimetype": "text/x-python",
      "name": "python",
      "nbconvert_exporter": "python",
      "pygments_lexer": "ipython3",
      "version": "3.5.2"
    },
    "kernelspec": {
      "name": "python3",
      "display_name": "Python 3"
    }
  },
  "cells": [
    {
      "cell_type": "markdown",
      "metadata": {
        "id": "view-in-github",
        "colab_type": "text"
      },
      "source": [
        "<a href=\"https://colab.research.google.com/github/cb4github/LsuSciCompBootCamp2020/blob/master/My_Copy_Day_1_of_intro_python_colab.ipynb\" target=\"_parent\"><img src=\"https://colab.research.google.com/assets/colab-badge.svg\" alt=\"Open In Colab\"/></a>"
      ]
    },
    {
      "cell_type": "markdown",
      "metadata": {
        "id": "u1YDPNtbdHDj",
        "colab_type": "text"
      },
      "source": [
        "\n",
        " #  Python Programming\n",
        "##  Summer Workshop 2020\n",
        "\n",
        "## LSU HPC, LBRN & LONI\n",
        "\n",
        "##  Kathy Traxler\n",
        "##   ktraxler@cct.lsu.edu\n",
        "\n",
        "<a id='top'></a>"
      ]
    },
    {
      "cell_type": "markdown",
      "metadata": {
        "id": "VB--CYOSdHDm",
        "colab_type": "text"
      },
      "source": [
        "<a id='overview'></a>\n",
        "# Topics Covered\n",
        "<font color=blue>\n",
        " * [What is Python](#intro)\n",
        " * [Python programming basics](#data-type)\n",
        " * [Control structures and functions](#control)\n",
        " * [Python modules](#module)\n",
        " * [Numpy](#numpy)\n",
        " * [Plotting](#plot)</font>\n",
        "<br>"
      ]
    },
    {
      "cell_type": "markdown",
      "metadata": {
        "id": "ipgvJSsRdHDn",
        "colab_type": "text"
      },
      "source": [
        "<a id='intro'></a>\n",
        "## What is Python?\n",
        "\n",
        " * A general-purpose programming language (1980) by Guido van Rossum\n",
        "     * https://gvanrossum.github.io\n",
        " * Intuitive and minimal coding\n",
        " * Objected-Oriented\n",
        " * Interpreted not compiled\n",
        " * Interactive\n",
        " * Dynamically typed, no type declarations, data type is tracked at runtime\n",
        " * Automatic memory management\n",
        " * Spacing defines blocks of code such as control structures and blocks\n",
        "  <br>"
      ]
    },
    {
      "cell_type": "markdown",
      "metadata": {
        "id": "H-fKj1GCvJQW",
        "colab_type": "text"
      },
      "source": [
        "# Why  Python?\n",
        "\n",
        "## Advantages\n",
        "* Ease of programming\n",
        " * Minimal time to develop and maintain codes\n",
        " * Modular and object-oriented\n",
        " * Large standard and user-contributed librariea\n",
        " * Large user community\n",
        " \n",
        "## Disadvantages\n",
        " * Interpreted and therefore slower than compiled languages\n",
        " * Not great for 3D graphic applications requiring intensive computations\n",
        "  <br>"
      ]
    },
    {
      "cell_type": "markdown",
      "metadata": {
        "id": "Dm_ItPN0dHDo",
        "colab_type": "text"
      },
      "source": [
        "## What is IPython?\n",
        "\n",
        " IPython: an interactive command shell for Python (2001) by Fernando Perez\n",
        "* Enhanced Read-Eval-Print Loop (REPL) environment\n",
        "* Command tab-completion, color-highlighted error messages..\n",
        "* Basic Linux shell integration (cp, ls, rm…)\n",
        "* Great for plotting!\n",
        "* More information click _[ipython.org](http://ipython.org)_\n"
      ]
    },
    {
      "cell_type": "markdown",
      "metadata": {
        "id": "lWz4EJiZdHDo",
        "colab_type": "text"
      },
      "source": [
        "## Jupyter Notebook \n",
        "\n",
        "* Web interface to Python, introduced in 2015 \n",
        "* Rich text, improved graphical capabilities\n",
        "* Integrate many existing web libraries for data visualization\n",
        "* Allow to create and share documents that contain live code, equations, visualizations and explanatory text. \n",
        "* Interface with over 40 languages, such as R, Julia and Scala\n",
        "* This colab.research.google.com notebook is a Jupyter notebook\n",
        "[back to top](#top)\n",
        "\n",
        "\n"
      ]
    },
    {
      "cell_type": "markdown",
      "metadata": {
        "id": "krWd44XodHDp",
        "colab_type": "text"
      },
      "source": [
        "## Variables \n",
        "\n",
        "* Variable type is dynamically determined from the value it is assigned, no data type is declared\n",
        "* Assign meaningful variable names\n",
        "* Some keywords are reserved such as ‘print’, ‘assert’,  ‘while’, ‘lambda’, for, if. \n",
        "* A variable is assigned a value using the ‘=’ operator, example:   x = 3 which is read as \"the variable x is assigned the value of 3\"\n",
        "* Reference of [keywords](https://docs.python.org/2.5/ref/keywords.html)\n"
      ]
    },
    {
      "cell_type": "markdown",
      "metadata": {
        "id": "R7DyZUcJdHDp",
        "colab_type": "text"
      },
      "source": [
        "## Operators \n",
        "\n",
        "* Arithmetic operators +, -, *, /, // (integer division for  floating point numbers), ’**’ power\n",
        "* Boolean operators and, or and not\n",
        "* Comparison operators >, <, >= (greater or equal), <=\n",
        "* (less or equal), == equality\n",
        "\n"
      ]
    },
    {
      "cell_type": "markdown",
      "metadata": {
        "id": "DqzfTKX_dHDq",
        "colab_type": "text"
      },
      "source": [
        "**bold text**<a id='data-type'></a>\n",
        "## Built-in Data Types   \n",
        "<font color=blue>\n",
        "* [Number](#numbers)\n",
        "* [String](#string)\n",
        "* [List](#list)\n",
        "* [Tuple](#tuple)\n",
        "* [Dictionary](#dic)\n",
        "* [File](#file)    \n",
        " </font>\n",
        " [top](#top)"
      ]
    },
    {
      "cell_type": "markdown",
      "metadata": {
        "id": "KWM_ojx6dHDq",
        "colab_type": "text"
      },
      "source": [
        "<a id='numbers'></a>\n",
        "## Numbers"
      ]
    },
    {
      "cell_type": "code",
      "metadata": {
        "id": "_yOMyLthdHDr",
        "colab_type": "code",
        "outputId": "8d7b9cff-5e1e-4448-d206-7bd130887b24",
        "colab": {
          "base_uri": "https://localhost:8080/",
          "height": 34
        }
      },
      "source": [
        "x = 3\n",
        "type(x)"
      ],
      "execution_count": 0,
      "outputs": [
        {
          "output_type": "execute_result",
          "data": {
            "text/plain": [
              "int"
            ]
          },
          "metadata": {
            "tags": []
          },
          "execution_count": 1
        }
      ]
    },
    {
      "cell_type": "code",
      "metadata": {
        "id": "R_hrkRhMdHDv",
        "colab_type": "code",
        "outputId": "c3f02fb6-27ce-4739-bf2d-4acf8f6ec7c2",
        "colab": {
          "base_uri": "https://localhost:8080/",
          "height": 34
        }
      },
      "source": [
        "y = 3.0\n",
        "type (y)"
      ],
      "execution_count": 0,
      "outputs": [
        {
          "output_type": "execute_result",
          "data": {
            "text/plain": [
              "float"
            ]
          },
          "metadata": {
            "tags": []
          },
          "execution_count": 2
        }
      ]
    },
    {
      "cell_type": "code",
      "metadata": {
        "id": "gbdT2LuGdHDx",
        "colab_type": "code",
        "outputId": "e6132353-033d-48b0-ba56-d93be579fa44",
        "colab": {
          "base_uri": "https://localhost:8080/",
          "height": 34
        }
      },
      "source": [
        "z='hello'\n",
        "type(z)"
      ],
      "execution_count": 0,
      "outputs": [
        {
          "output_type": "execute_result",
          "data": {
            "text/plain": [
              "str"
            ]
          },
          "metadata": {
            "tags": []
          },
          "execution_count": 3
        }
      ]
    },
    {
      "cell_type": "code",
      "metadata": {
        "id": "EnO7Vu1QdHD0",
        "colab_type": "code",
        "outputId": "7cbe5406-792f-4406-b6f4-19c8769d3dfb",
        "colab": {
          "base_uri": "https://localhost:8080/",
          "height": 34
        }
      },
      "source": [
        "int(3.3)"
      ],
      "execution_count": 0,
      "outputs": [
        {
          "output_type": "execute_result",
          "data": {
            "text/plain": [
              "3"
            ]
          },
          "metadata": {
            "tags": []
          },
          "execution_count": 4
        }
      ]
    },
    {
      "cell_type": "code",
      "metadata": {
        "id": "fvDUy7nIdHD3",
        "colab_type": "code",
        "outputId": "c2589269-d9d4-40ca-f712-faa80bd398de",
        "colab": {
          "base_uri": "https://localhost:8080/",
          "height": 34
        }
      },
      "source": [
        "complex(3)"
      ],
      "execution_count": 0,
      "outputs": [
        {
          "output_type": "execute_result",
          "data": {
            "text/plain": [
              "(3+0j)"
            ]
          },
          "metadata": {
            "tags": []
          },
          "execution_count": 5
        }
      ]
    },
    {
      "cell_type": "code",
      "metadata": {
        "id": "ys2eoOtddHD6",
        "colab_type": "code",
        "colab": {}
      },
      "source": [
        "import math"
      ],
      "execution_count": 0,
      "outputs": []
    },
    {
      "cell_type": "code",
      "metadata": {
        "id": "EzSyMKwidHD8",
        "colab_type": "code",
        "outputId": "52326edc-a6f0-4ebd-bc87-35e1d9dc1755",
        "colab": {
          "base_uri": "https://localhost:8080/",
          "height": 34
        }
      },
      "source": [
        "abs(-3.3)"
      ],
      "execution_count": 0,
      "outputs": [
        {
          "output_type": "execute_result",
          "data": {
            "text/plain": [
              "3.3"
            ]
          },
          "metadata": {
            "tags": []
          },
          "execution_count": 8
        }
      ]
    },
    {
      "cell_type": "code",
      "metadata": {
        "id": "sqSaUXiwdHD-",
        "colab_type": "code",
        "outputId": "87c4a40b-33b0-4729-9926-87bd5483d9c5",
        "colab": {
          "base_uri": "https://localhost:8080/",
          "height": 34
        }
      },
      "source": [
        "math.sin(60)"
      ],
      "execution_count": 0,
      "outputs": [
        {
          "output_type": "execute_result",
          "data": {
            "text/plain": [
              "-0.3048106211022167"
            ]
          },
          "metadata": {
            "tags": []
          },
          "execution_count": 9
        }
      ]
    },
    {
      "cell_type": "code",
      "metadata": {
        "id": "ZAzv0ophdHEA",
        "colab_type": "code",
        "outputId": "ef609582-fc6e-4dcc-b45a-d7aff07f8f23",
        "colab": {
          "base_uri": "https://localhost:8080/",
          "height": 34
        }
      },
      "source": [
        "math.sqrt(25)"
      ],
      "execution_count": 0,
      "outputs": [
        {
          "output_type": "execute_result",
          "data": {
            "text/plain": [
              "5.0"
            ]
          },
          "metadata": {
            "tags": []
          },
          "execution_count": 10
        }
      ]
    },
    {
      "cell_type": "markdown",
      "metadata": {
        "id": "J2umh3-BT_80",
        "colab_type": "text"
      },
      "source": [
        "\n",
        " [top](#top) \n",
        " "
      ]
    },
    {
      "cell_type": "markdown",
      "metadata": {
        "id": "_XDWU4R-dHED",
        "colab_type": "text"
      },
      "source": [
        "<a id='string'></a>\n",
        "## Strings"
      ]
    },
    {
      "cell_type": "code",
      "metadata": {
        "id": "lRqQ2KwHdHEE",
        "colab_type": "code",
        "colab": {}
      },
      "source": [
        "my_str = 'Hello World'"
      ],
      "execution_count": 0,
      "outputs": []
    },
    {
      "cell_type": "code",
      "metadata": {
        "id": "4R7QI39sdHEG",
        "colab_type": "code",
        "outputId": "e033a864-e4b0-4ea4-8f75-dfbae13831c0",
        "colab": {
          "base_uri": "https://localhost:8080/",
          "height": 51
        }
      },
      "source": [
        "print(my_str); len(my_str)"
      ],
      "execution_count": 0,
      "outputs": [
        {
          "output_type": "stream",
          "text": [
            "Hello World\n"
          ],
          "name": "stdout"
        },
        {
          "output_type": "execute_result",
          "data": {
            "text/plain": [
              "11"
            ]
          },
          "metadata": {
            "tags": []
          },
          "execution_count": 12
        }
      ]
    },
    {
      "cell_type": "code",
      "metadata": {
        "id": "W7x8SIXBdHEK",
        "colab_type": "code",
        "outputId": "5e7d132f-9ffc-443c-b910-6a89bc16262f",
        "colab": {
          "base_uri": "https://localhost:8080/",
          "height": 34
        }
      },
      "source": [
        "len(my_str); print(len(my_str))"
      ],
      "execution_count": 0,
      "outputs": [
        {
          "output_type": "stream",
          "text": [
            "11\n"
          ],
          "name": "stdout"
        }
      ]
    },
    {
      "cell_type": "code",
      "metadata": {
        "id": "4zQd6w2odHEN",
        "colab_type": "code",
        "outputId": "4bb5a6c7-9383-4fba-dbd8-4a461021ede3",
        "colab": {
          "base_uri": "https://localhost:8080/",
          "height": 68
        }
      },
      "source": [
        "#indexing starting at 0\n",
        "print(my_str[0]); print(my_str[1]); print(my_str[10])"
      ],
      "execution_count": 0,
      "outputs": [
        {
          "output_type": "stream",
          "text": [
            "H\n",
            "e\n",
            "d\n"
          ],
          "name": "stdout"
        }
      ]
    },
    {
      "cell_type": "code",
      "metadata": {
        "id": "sM7y1xrzdHEQ",
        "colab_type": "code",
        "outputId": "28078c45-fa14-4178-9367-006271c03e6e",
        "colab": {
          "base_uri": "https://localhost:8080/",
          "height": 68
        }
      },
      "source": [
        "#string slicing\n",
        "print(my_str[1:4]); print(my_str[:]); print(my_str[1:])"
      ],
      "execution_count": 0,
      "outputs": [
        {
          "output_type": "stream",
          "text": [
            "ell\n",
            "Hello World\n",
            "ello World\n"
          ],
          "name": "stdout"
        }
      ]
    },
    {
      "cell_type": "code",
      "metadata": {
        "id": "jZ3WiHyQdHET",
        "colab_type": "code",
        "outputId": "3cdef71f-c1ba-4da8-fa3a-c815aac1cbee",
        "colab": {
          "base_uri": "https://localhost:8080/",
          "height": 68
        }
      },
      "source": [
        "#string split\n",
        "s1, s2 = my_str.split(); print(s1); print(s2)\n",
        "print(s1, s2)"
      ],
      "execution_count": 0,
      "outputs": [
        {
          "output_type": "stream",
          "text": [
            "Hello\n",
            "World\n",
            "Hello World\n"
          ],
          "name": "stdout"
        }
      ]
    },
    {
      "cell_type": "code",
      "metadata": {
        "id": "TW0WIQredHEX",
        "colab_type": "code",
        "outputId": "4a33c42c-88be-47b3-c5ee-bce2c9aff5ff",
        "colab": {
          "base_uri": "https://localhost:8080/",
          "height": 68
        }
      },
      "source": [
        "#multiple line spanning\n",
        "multilines= \"\"\"This is a multi-line\n",
        "block of sample\n",
        " text\"\"\"\n",
        "print(multilines)\n"
      ],
      "execution_count": 0,
      "outputs": [
        {
          "output_type": "stream",
          "text": [
            "This is a multi-line\n",
            "block of sample\n",
            " text\n"
          ],
          "name": "stdout"
        }
      ]
    },
    {
      "cell_type": "code",
      "metadata": {
        "id": "-2c8QnMTdHEb",
        "colab_type": "code",
        "outputId": "6ef526d3-daed-4afa-ce1d-0664f9602810",
        "colab": {
          "base_uri": "https://localhost:8080/",
          "height": 34
        }
      },
      "source": [
        "#string formatting\n",
        "text = \"%d pigs in the barn, I’ll %s and %s\" %(300,'huff','puff')\n",
        "print(text)"
      ],
      "execution_count": 0,
      "outputs": [
        {
          "output_type": "stream",
          "text": [
            "300 pigs in the barn, I’ll huff and puff\n"
          ],
          "name": "stdout"
        }
      ]
    },
    {
      "cell_type": "code",
      "metadata": {
        "id": "IhrNjeUHdHEd",
        "colab_type": "code",
        "outputId": "d6730e40-9df2-427c-9360-eb33cce63bb3",
        "colab": {
          "base_uri": "https://localhost:8080/",
          "height": 34
        }
      },
      "source": [
        "total= \"my share = %.5f, tip = %d\" %(24.5, 5.5)\n",
        "print(total)"
      ],
      "execution_count": 0,
      "outputs": [
        {
          "output_type": "stream",
          "text": [
            "my share = 24.50000, tip = 5\n"
          ],
          "name": "stdout"
        }
      ]
    },
    {
      "cell_type": "code",
      "metadata": {
        "id": "-ys2Eo35dHEf",
        "colab_type": "code",
        "outputId": "d3fa4f98-ba1f-4738-b090-b7b38c148bac",
        "colab": {
          "base_uri": "https://localhost:8080/",
          "height": 85
        }
      },
      "source": [
        "#more string ops\n",
        "my_str=\"Hello World\"\n",
        "print(my_str.upper())\n",
        "print(my_str.isalpha())\n",
        "print(my_str[0].isalpha())\n",
        "a='12'\n",
        "print(a.isdigit())"
      ],
      "execution_count": 0,
      "outputs": [
        {
          "output_type": "stream",
          "text": [
            "HELLO WORLD\n",
            "False\n",
            "True\n",
            "True\n"
          ],
          "name": "stdout"
        }
      ]
    },
    {
      "cell_type": "markdown",
      "metadata": {
        "id": "6IIsIj52UFM_",
        "colab_type": "text"
      },
      "source": [
        "\n",
        " [top](#top) "
      ]
    },
    {
      "cell_type": "markdown",
      "metadata": {
        "id": "sYQs3O-6dHFb",
        "colab_type": "text"
      },
      "source": [
        "<a id='control'></a>\n",
        "## Control Structures \n",
        "<font color=blue>\n",
        "* if-else\n",
        "* for loops, while loops\n",
        "* break: jump out of the current loop\n",
        "* continue: jump to the top of next cycle within the loop\n",
        "* pass: do nothing \n",
        "</font> \n",
        "[top](#top)"
      ]
    },
    {
      "cell_type": "code",
      "metadata": {
        "id": "827UT2CkdHFb",
        "colab_type": "code",
        "outputId": "91a51059-0b15-4caf-a4e0-4ca4c6cbf812",
        "colab": {
          "base_uri": "https://localhost:8080/",
          "height": 51
        }
      },
      "source": [
        "x = 500 \n",
        "if ( x >= 5 ):\n",
        "  print(x,\">= 5\")\n",
        "  print(\"Hi, greater than 5\")\n",
        "else:\n",
        "    print(x, \"< 5\")\n",
        "    "
      ],
      "execution_count": 0,
      "outputs": [
        {
          "output_type": "stream",
          "text": [
            "500 >= 5\n",
            "Hi, greater than 5\n"
          ],
          "name": "stdout"
        }
      ]
    },
    {
      "cell_type": "code",
      "metadata": {
        "id": "abujcdodh_uP",
        "colab_type": "code",
        "outputId": "159631e7-bac0-4826-ea0e-c735bbee9074",
        "colab": {
          "base_uri": "https://localhost:8080/",
          "height": 68
        }
      },
      "source": [
        "\n",
        "for num in range(3):\n",
        "    print(num)"
      ],
      "execution_count": 0,
      "outputs": [
        {
          "output_type": "stream",
          "text": [
            "0\n",
            "1\n",
            "2\n"
          ],
          "name": "stdout"
        }
      ]
    },
    {
      "cell_type": "code",
      "metadata": {
        "id": "Lwml52WJiElb",
        "colab_type": "code",
        "outputId": "2b52b826-7cb5-4d3a-9098-d971e11dfb5c",
        "colab": {
          "base_uri": "https://localhost:8080/",
          "height": 51
        }
      },
      "source": [
        "index=0\n",
        "while (index < 3):\n",
        "    print(index)\n",
        "    index = index + 2"
      ],
      "execution_count": 0,
      "outputs": [
        {
          "output_type": "stream",
          "text": [
            "0\n",
            "2\n"
          ],
          "name": "stdout"
        }
      ]
    },
    {
      "cell_type": "markdown",
      "metadata": {
        "id": "gXpYbFSoiRoT",
        "colab_type": "text"
      },
      "source": [
        "Tip:\n",
        "Indentation: signifies code blocks"
      ]
    },
    {
      "cell_type": "code",
      "metadata": {
        "id": "RdEFIcNviMd2",
        "colab_type": "code",
        "outputId": "c95b07b7-93a1-44f8-8dc6-3e742f3f55d3",
        "colab": {
          "base_uri": "https://localhost:8080/",
          "height": 85
        }
      },
      "source": [
        "#prime numbers\n",
        "n = 2\n",
        "while n < 10:\n",
        "    prime = True\n",
        "    for x in range(2,n):\n",
        "        if n % x == 0:\n",
        "            prime = False\n",
        "            break\n",
        "    if prime:\n",
        "        print(n, 'is a prime #')\n",
        "        pass\n",
        "    else:\n",
        "        n= n + 1\n",
        "        continue\n",
        "    n = n + 1"
      ],
      "execution_count": 0,
      "outputs": [
        {
          "output_type": "stream",
          "text": [
            "2 is a prime #\n",
            "3 is a prime #\n",
            "5 is a prime #\n",
            "7 is a prime #\n"
          ],
          "name": "stdout"
        }
      ]
    },
    {
      "cell_type": "code",
      "metadata": {
        "id": "d_vg_-B_bkoP",
        "colab_type": "code",
        "outputId": "bdcf7774-e72b-42cf-a7ad-09ff475b1b7f",
        "colab": {
          "base_uri": "https://localhost:8080/",
          "height": 119
        }
      },
      "source": [
        "#Loops:  looping through a string\n",
        "# 'for' and 'in' are new keywords\n",
        "for x in \"banana\":\n",
        "  print(x)"
      ],
      "execution_count": 0,
      "outputs": [
        {
          "output_type": "stream",
          "text": [
            "b\n",
            "a\n",
            "n\n",
            "a\n",
            "n\n",
            "a\n"
          ],
          "name": "stdout"
        }
      ]
    },
    {
      "cell_type": "code",
      "metadata": {
        "id": "MTMkGQhRcRl9",
        "colab_type": "code",
        "outputId": "eb89714a-b9b9-4969-d048-26b97349523a",
        "colab": {
          "base_uri": "https://localhost:8080/",
          "height": 119
        }
      },
      "source": [
        "for x in range(6):\n",
        "  print(x)"
      ],
      "execution_count": 0,
      "outputs": [
        {
          "output_type": "stream",
          "text": [
            "0\n",
            "1\n",
            "2\n",
            "3\n",
            "4\n",
            "5\n"
          ],
          "name": "stdout"
        }
      ]
    },
    {
      "cell_type": "code",
      "metadata": {
        "id": "kYozUKhZchnq",
        "colab_type": "code",
        "outputId": "c5a03074-6450-47f8-d686-30f1db668bfd",
        "colab": {
          "base_uri": "https://localhost:8080/",
          "height": 187
        }
      },
      "source": [
        "#range and increment by 3\n",
        "for x in range(2, 30, 3):\n",
        "  print(x) "
      ],
      "execution_count": 0,
      "outputs": [
        {
          "output_type": "stream",
          "text": [
            "2\n",
            "5\n",
            "8\n",
            "11\n",
            "14\n",
            "17\n",
            "20\n",
            "23\n",
            "26\n",
            "29\n"
          ],
          "name": "stdout"
        }
      ]
    },
    {
      "cell_type": "markdown",
      "metadata": {
        "id": "_GSJRSDDdHEj",
        "colab_type": "text"
      },
      "source": [
        "<a id='list'></a>\n",
        "## Lists\n",
        "* Collection of data [ ]\n",
        "* Often used to store homogeneous values\n",
        "    * e.g., Numbers, names with the same data type\n",
        "* Members are accessed as strings\n",
        "* Mutable: modify in place without creating a new object\n"
      ]
    },
    {
      "cell_type": "code",
      "metadata": {
        "id": "kjuBDd2CdHEj",
        "colab_type": "code",
        "outputId": "2100d4b6-348a-4602-a928-38b8a2515fac",
        "colab": {
          "base_uri": "https://localhost:8080/",
          "height": 51
        }
      },
      "source": [
        "my_list = [1,2,9,4]\n",
        "print(my_list)\n",
        "#how to find out the data type?\n",
        "type(my_list)"
      ],
      "execution_count": 0,
      "outputs": [
        {
          "output_type": "stream",
          "text": [
            "[1, 2, 9, 4]\n"
          ],
          "name": "stdout"
        },
        {
          "output_type": "execute_result",
          "data": {
            "text/plain": [
              "list"
            ]
          },
          "metadata": {
            "tags": []
          },
          "execution_count": 30
        }
      ]
    },
    {
      "cell_type": "code",
      "metadata": {
        "id": "5RGeAbwqdHEm",
        "colab_type": "code",
        "outputId": "02171064-678a-454f-94d9-80dc749225bd",
        "colab": {
          "base_uri": "https://localhost:8080/",
          "height": 34
        }
      },
      "source": [
        "my_list2 = list(range(-4,10, 4))\n",
        "print(my_list2)"
      ],
      "execution_count": 0,
      "outputs": [
        {
          "output_type": "stream",
          "text": [
            "[-4, 0, 4, 8]\n"
          ],
          "name": "stdout"
        }
      ]
    },
    {
      "cell_type": "code",
      "metadata": {
        "id": "o_Kpc9EjdHEp",
        "colab_type": "code",
        "outputId": "eaee1530-f1c9-4c12-b32f-844b3a874e00",
        "colab": {
          "base_uri": "https://localhost:8080/",
          "height": 51
        }
      },
      "source": [
        "# access list members by index \n",
        "# start at 0, end at n-1\n",
        "print(\"1st element =\", my_list[0])\n",
        "print(\"last element =\", my_list[3])"
      ],
      "execution_count": 0,
      "outputs": [
        {
          "output_type": "stream",
          "text": [
            "1st element = 1\n",
            "last element = 4\n"
          ],
          "name": "stdout"
        }
      ]
    },
    {
      "cell_type": "code",
      "metadata": {
        "id": "iEmUEwyYdHEr",
        "colab_type": "code",
        "outputId": "32fe7e44-1597-4ed5-cd7d-3070db60def4",
        "colab": {
          "base_uri": "https://localhost:8080/",
          "height": 68
        }
      },
      "source": [
        "#Concatenate lists\n",
        "print(my_list + my_list)\n",
        "print(my_list *2)\n",
        "print(my_list *3)"
      ],
      "execution_count": 0,
      "outputs": [
        {
          "output_type": "stream",
          "text": [
            "[1, 2, 9, 4, 1, 2, 9, 4]\n",
            "[1, 2, 9, 4, 1, 2, 9, 4]\n",
            "[1, 2, 9, 4, 1, 2, 9, 4, 1, 2, 9, 4]\n"
          ],
          "name": "stdout"
        }
      ]
    },
    {
      "cell_type": "code",
      "metadata": {
        "id": "on_o62WTdHEt",
        "colab_type": "code",
        "outputId": "8f00804f-365f-4f8f-f8cd-d232f60cad85",
        "colab": {
          "base_uri": "https://localhost:8080/",
          "height": 68
        }
      },
      "source": [
        "# iterate list elements\n",
        "animals = ['dog','cat','horse']\n",
        "for name in animals:\n",
        "    print(name)"
      ],
      "execution_count": 0,
      "outputs": [
        {
          "output_type": "stream",
          "text": [
            "dog\n",
            "cat\n",
            "horse\n"
          ],
          "name": "stdout"
        }
      ]
    },
    {
      "cell_type": "code",
      "metadata": {
        "id": "oVQvQrY8eUUp",
        "colab_type": "code",
        "outputId": "e17891ee-ceba-4076-cc55-23bf3a1cb6d6",
        "colab": {
          "base_uri": "https://localhost:8080/",
          "height": 51
        }
      },
      "source": [
        "# enumarate\n",
        "cars = ['Ford','Chevy','Toyota']\n",
        "print(cars)\n",
        "cars2 = enumerate(cars)\n",
        "print(list(cars2))"
      ],
      "execution_count": 0,
      "outputs": [
        {
          "output_type": "stream",
          "text": [
            "['Ford', 'Chevy', 'Toyota']\n",
            "[(0, 'Ford'), (1, 'Chevy'), (2, 'Toyota')]\n"
          ],
          "name": "stdout"
        }
      ]
    },
    {
      "cell_type": "code",
      "metadata": {
        "id": "iCKHMWDNdHEv",
        "colab_type": "code",
        "outputId": "e770da5a-9bc5-4114-c38a-977814c7a857",
        "colab": {
          "base_uri": "https://localhost:8080/",
          "height": 68
        }
      },
      "source": [
        "\n",
        "for index, name in enumerate(cars):\n",
        "    print(index+1, name)"
      ],
      "execution_count": 0,
      "outputs": [
        {
          "output_type": "stream",
          "text": [
            "1 Ford\n",
            "2 Chevy\n",
            "3 Toyota\n"
          ],
          "name": "stdout"
        }
      ]
    },
    {
      "cell_type": "code",
      "metadata": {
        "id": "FJIrrjo4dHEx",
        "colab_type": "code",
        "outputId": "79c767c3-36f2-4cd7-d6d1-1d8812d92658",
        "colab": {
          "base_uri": "https://localhost:8080/",
          "height": 68
        }
      },
      "source": [
        "# modify list\n",
        "del my_list[0]; print(my_list)\n",
        "my_list.append(99); print(my_list)\n",
        "my_list.insert(1, 100); print(my_list)"
      ],
      "execution_count": 0,
      "outputs": [
        {
          "output_type": "stream",
          "text": [
            "[2, 9, 4]\n",
            "[2, 9, 4, 99]\n",
            "[2, 100, 9, 4, 99]\n"
          ],
          "name": "stdout"
        }
      ]
    },
    {
      "cell_type": "code",
      "metadata": {
        "id": "Sbs8IVSfdHEy",
        "colab_type": "code",
        "outputId": "1a0f559b-2a4e-4387-b795-83fd9486a2db",
        "colab": {
          "base_uri": "https://localhost:8080/",
          "height": 51
        }
      },
      "source": [
        "#some list fun\n",
        "\n",
        "my_list.sort(); print(my_list)\n",
        "my_list.reverse(); print(my_list)"
      ],
      "execution_count": 0,
      "outputs": [
        {
          "output_type": "stream",
          "text": [
            "[2, 4, 9, 99, 100]\n",
            "[100, 99, 9, 4, 2]\n"
          ],
          "name": "stdout"
        }
      ]
    },
    {
      "cell_type": "code",
      "metadata": {
        "id": "NQUYj0__dHE1",
        "colab_type": "code",
        "outputId": "25246ab4-7d0a-4291-f22e-bd9b814679e2",
        "colab": {
          "base_uri": "https://localhost:8080/",
          "height": 68
        }
      },
      "source": [
        "#more sorting\n",
        "my_list = ['cats', 'SHEEP','DOGS','horses']\n",
        "print(sorted(my_list, key=len))\n",
        "print(sorted(my_list))\n",
        "print(sorted(my_list, reverse=True))"
      ],
      "execution_count": 0,
      "outputs": [
        {
          "output_type": "stream",
          "text": [
            "['cats', 'DOGS', 'SHEEP', 'horses']\n",
            "['DOGS', 'SHEEP', 'cats', 'horses']\n",
            "['horses', 'cats', 'SHEEP', 'DOGS']\n"
          ],
          "name": "stdout"
        }
      ]
    },
    {
      "cell_type": "code",
      "metadata": {
        "id": "U8d5KvgTdHE5",
        "colab_type": "code",
        "outputId": "33cea9ef-5e5b-492a-adb2-8e623479aadf",
        "colab": {
          "base_uri": "https://localhost:8080/",
          "height": 34
        }
      },
      "source": [
        "sorted(my_list, key=len)"
      ],
      "execution_count": 0,
      "outputs": [
        {
          "output_type": "execute_result",
          "data": {
            "text/plain": [
              "['cats', 'DOGS', 'SHEEP', 'horses']"
            ]
          },
          "metadata": {
            "tags": []
          },
          "execution_count": 40
        }
      ]
    },
    {
      "cell_type": "code",
      "metadata": {
        "id": "RzRA23WMdHE7",
        "colab_type": "code",
        "outputId": "34fa5d39-5363-449e-df3c-30b7366d73cd",
        "colab": {
          "base_uri": "https://localhost:8080/",
          "height": 34
        }
      },
      "source": [
        "# sort by lowercase\n",
        "sorted(my_list, key=str.lower)"
      ],
      "execution_count": 0,
      "outputs": [
        {
          "output_type": "execute_result",
          "data": {
            "text/plain": [
              "['cats', 'DOGS', 'horses', 'SHEEP']"
            ]
          },
          "metadata": {
            "tags": []
          },
          "execution_count": 41
        }
      ]
    },
    {
      "cell_type": "code",
      "metadata": {
        "id": "300FFfyxdHE9",
        "colab_type": "code",
        "outputId": "546de085-534e-4bf3-a23c-61952ba4024d",
        "colab": {
          "base_uri": "https://localhost:8080/",
          "height": 51
        }
      },
      "source": [
        "#list comprehension [expr for var in list]\n",
        "my_list=[2,5,9,1]\n",
        "square = [x**2 for x in my_list]; print(\"square =\", square)\n",
        "large = [n for n in my_list if n >= 5]; print('large =',large)"
      ],
      "execution_count": 0,
      "outputs": [
        {
          "output_type": "stream",
          "text": [
            "square = [4, 25, 81, 1]\n",
            "large = [5, 9]\n"
          ],
          "name": "stdout"
        }
      ]
    },
    {
      "cell_type": "markdown",
      "metadata": {
        "id": "bLOJ_PcVUKPj",
        "colab_type": "text"
      },
      "source": [
        "\n",
        " [top](#top) \n"
      ]
    },
    {
      "cell_type": "markdown",
      "metadata": {
        "id": "SHQYeFQadHE_",
        "colab_type": "text"
      },
      "source": [
        "<a id='tuple'></a>\n",
        "## Tuples\n",
        "\n",
        "  * Why Tuple?\n",
        "  * Processed faster than lists\n",
        "  * Sequence of a Tuple is protected\n",
        "  * Sequence unpacking\n",
        "\n",
        "Suprising Trait:\n",
        "\n",
        "Python tuples are immutable, but their values may change. This may happen when a tuple holds a reference to any mutable object, such as a list. ... It's clear that dum and dee refer to objects that are equal, but not to the same object.\n",
        "\n",
        "( [ On immutable but changing tuples](http://radar.oreilly.com/2014/10/python-tuples-immutable-but-potentially-changing.html))\n",
        "\n",
        "[Tutorial just on Python Tuples](https://www.tutorialspoint.com/python/python_tuples.htm)"
      ]
    },
    {
      "cell_type": "code",
      "metadata": {
        "id": "331x350XgbOG",
        "colab_type": "code",
        "outputId": "db70f7f5-5b56-4884-a6bb-36e8679b31db",
        "colab": {
          "base_uri": "https://localhost:8080/",
          "height": 34
        }
      },
      "source": [
        "#empty tuples\n",
        "my_tup = ()\n",
        "print(my_tup)"
      ],
      "execution_count": 0,
      "outputs": [
        {
          "output_type": "stream",
          "text": [
            "()\n"
          ],
          "name": "stdout"
        }
      ]
    },
    {
      "cell_type": "code",
      "metadata": {
        "id": "PWELXBmJg0LR",
        "colab_type": "code",
        "outputId": "ceeed379-7482-4208-cbf7-7f7d9ca14438",
        "colab": {
          "base_uri": "https://localhost:8080/",
          "height": 34
        }
      },
      "source": [
        "# you have to include a comma, even though there is only one value you have to include a comma, even though there is only one value\n",
        "tup1 = (50,);\n",
        "print(tup1)"
      ],
      "execution_count": 0,
      "outputs": [
        {
          "output_type": "stream",
          "text": [
            "(50,)\n"
          ],
          "name": "stdout"
        }
      ]
    },
    {
      "cell_type": "code",
      "metadata": {
        "id": "nlgKsOibdHE_",
        "colab_type": "code",
        "outputId": "c70bdb77-7a50-4358-fc6a-49b3b0606c7d",
        "colab": {
          "base_uri": "https://localhost:8080/",
          "height": 51
        }
      },
      "source": [
        "my_tup = (2, 8, 3, 1)\n",
        "print(my_tup)\n",
        "a,b,c,d = my_tup\n",
        "print(a, b, c, d)\n"
      ],
      "execution_count": 0,
      "outputs": [
        {
          "output_type": "stream",
          "text": [
            "(2, 8, 3, 1)\n",
            "2 8 3 1\n"
          ],
          "name": "stdout"
        }
      ]
    },
    {
      "cell_type": "code",
      "metadata": {
        "id": "d85nI5mKdHFD",
        "colab_type": "code",
        "outputId": "6601f30e-bf08-4051-ae3a-f23f3759436d",
        "colab": {
          "base_uri": "https://localhost:8080/",
          "height": 34
        }
      },
      "source": [
        "print(my_tup[0])"
      ],
      "execution_count": 0,
      "outputs": [
        {
          "output_type": "stream",
          "text": [
            "2\n"
          ],
          "name": "stdout"
        }
      ]
    },
    {
      "cell_type": "code",
      "metadata": {
        "id": "xhYi3QKSh7-Z",
        "colab_type": "code",
        "outputId": "027e88a6-f6c4-41b9-eef5-04b82d0a8126",
        "colab": {
          "base_uri": "https://localhost:8080/",
          "height": 231
        }
      },
      "source": [
        "#Spoiler:  look for error before running?\n",
        "tup = ('physics', 'chemistry', 1997, 2000);\n",
        "print(tup);\n",
        "del tup;\n",
        "#On purpose\n",
        "print(\"After deleting tup : \");\n",
        "print(tup);\n"
      ],
      "execution_count": 0,
      "outputs": [
        {
          "output_type": "stream",
          "text": [
            "('physics', 'chemistry', 1997, 2000)\n",
            "After deleting tup : \n"
          ],
          "name": "stdout"
        },
        {
          "output_type": "error",
          "ename": "NameError",
          "evalue": "ignored",
          "traceback": [
            "\u001b[0;31m---------------------------------------------------------------------------\u001b[0m",
            "\u001b[0;31mNameError\u001b[0m                                 Traceback (most recent call last)",
            "\u001b[0;32m<ipython-input-47-b587d83494b9>\u001b[0m in \u001b[0;36m<module>\u001b[0;34m()\u001b[0m\n\u001b[1;32m      5\u001b[0m \u001b[0;31m#On purpose\u001b[0m\u001b[0;34m\u001b[0m\u001b[0;34m\u001b[0m\u001b[0;34m\u001b[0m\u001b[0m\n\u001b[1;32m      6\u001b[0m \u001b[0mprint\u001b[0m\u001b[0;34m(\u001b[0m\u001b[0;34m\"After deleting tup : \"\u001b[0m\u001b[0;34m)\u001b[0m\u001b[0;34m;\u001b[0m\u001b[0;34m\u001b[0m\u001b[0;34m\u001b[0m\u001b[0m\n\u001b[0;32m----> 7\u001b[0;31m \u001b[0mprint\u001b[0m\u001b[0;34m(\u001b[0m\u001b[0mtup\u001b[0m\u001b[0;34m)\u001b[0m\u001b[0;34m;\u001b[0m\u001b[0;34m\u001b[0m\u001b[0;34m\u001b[0m\u001b[0m\n\u001b[0m",
            "\u001b[0;31mNameError\u001b[0m: name 'tup' is not defined"
          ]
        }
      ]
    },
    {
      "cell_type": "markdown",
      "metadata": {
        "id": "NyCpkyAXh21a",
        "colab_type": "text"
      },
      "source": [
        "Immutable?  Not?"
      ]
    },
    {
      "cell_type": "code",
      "metadata": {
        "id": "Iw50ZE55xwG_",
        "colab_type": "code",
        "outputId": "552f2a99-10af-4edf-ffc6-8f01c21f567b",
        "colab": {
          "base_uri": "https://localhost:8080/",
          "height": 68
        }
      },
      "source": [
        "dum = ('1861-10-23', ['poetry', 'pretend-fight'])\n",
        "dee = ('1861-10-23', ['poetry', 'pretend-fight'])\n",
        "\n",
        "print(dum == dee)\n",
        "\n",
        "print(dum is dee)\n",
        "\n",
        "id(dum), id(dee)"
      ],
      "execution_count": 0,
      "outputs": [
        {
          "output_type": "stream",
          "text": [
            "True\n",
            "False\n"
          ],
          "name": "stdout"
        },
        {
          "output_type": "execute_result",
          "data": {
            "text/plain": [
              "(140467240523016, 140467240475528)"
            ]
          },
          "metadata": {
            "tags": []
          },
          "execution_count": 48
        }
      ]
    },
    {
      "cell_type": "code",
      "metadata": {
        "id": "l0RXAHIhyNBX",
        "colab_type": "code",
        "outputId": "6f6e1bf5-e8c1-4e09-fb6a-eb08a29bbcf4",
        "colab": {
          "base_uri": "https://localhost:8080/",
          "height": 85
        }
      },
      "source": [
        "t_doom = dum\n",
        "print(dum, t_doom)\n",
        "\n",
        "print(t_doom == dum)\n",
        "print(t_doom is dum)\n",
        "id(dum), id(t_doom)"
      ],
      "execution_count": 0,
      "outputs": [
        {
          "output_type": "stream",
          "text": [
            "('1861-10-23', ['poetry', 'pretend-fight']) ('1861-10-23', ['poetry', 'pretend-fight'])\n",
            "True\n",
            "True\n"
          ],
          "name": "stdout"
        },
        {
          "output_type": "execute_result",
          "data": {
            "text/plain": [
              "(140467240523016, 140467240523016)"
            ]
          },
          "metadata": {
            "tags": []
          },
          "execution_count": 49
        }
      ]
    },
    {
      "cell_type": "code",
      "metadata": {
        "id": "TCIJtKzWzEQd",
        "colab_type": "code",
        "outputId": "940d5d6e-9fc2-4101-b884-f962352765f4",
        "colab": {
          "base_uri": "https://localhost:8080/",
          "height": 68
        }
      },
      "source": [
        "skills = t_doom[1]\n",
        "print(skills)\n",
        "\n",
        "skills.append('rap')\n",
        "print(t_doom)\n",
        "\n",
        "print(dum)\n",
        "\n"
      ],
      "execution_count": 0,
      "outputs": [
        {
          "output_type": "stream",
          "text": [
            "['poetry', 'pretend-fight']\n",
            "('1861-10-23', ['poetry', 'pretend-fight', 'rap'])\n",
            "('1861-10-23', ['poetry', 'pretend-fight', 'rap'])\n"
          ],
          "name": "stdout"
        }
      ]
    },
    {
      "cell_type": "code",
      "metadata": {
        "id": "23NrzRmr0LFf",
        "colab_type": "code",
        "outputId": "9d5da692-563b-49f1-e811-27fffc1922fc",
        "colab": {
          "base_uri": "https://localhost:8080/",
          "height": 34
        }
      },
      "source": [
        "print(dum == dee)\n"
      ],
      "execution_count": 0,
      "outputs": [
        {
          "output_type": "stream",
          "text": [
            "False\n"
          ],
          "name": "stdout"
        }
      ]
    },
    {
      "cell_type": "markdown",
      "metadata": {
        "id": "la3gZrW6UNts",
        "colab_type": "text"
      },
      "source": [
        "\n",
        " [top](#top) "
      ]
    },
    {
      "cell_type": "markdown",
      "metadata": {
        "id": "7NHEdgtwdHFG",
        "colab_type": "text"
      },
      "source": [
        "<a id='dic'></a>\n",
        "## Dictionaries\n",
        "* List of key-value pairs { }\n",
        "* Unordered collections of objects, not indexed\n",
        "* Store objects in a random order to provide faster lookup\n",
        "* Data type are heterogeneous, unlike list\n",
        "* Element are accessed by a keyword, not index\n",
        "* Elements are mutable \n",
        "* dict = {\"key1”: value1,  “key2”: value2} \n",
        "\n",
        "[Tutorialspoint.com  on  Dictionaries](https://www.tutorialspoint.com/python/python_dictionary.htm)"
      ]
    },
    {
      "cell_type": "code",
      "metadata": {
        "id": "9gcG6o9NdHFG",
        "colab_type": "code",
        "outputId": "7f2e7255-c873-47f8-f57c-338a5fe886ad",
        "colab": {
          "base_uri": "https://localhost:8080/",
          "height": 34
        }
      },
      "source": [
        "my_dict = {'cats': 4, 'dogs':2, 'sheep':3}\n",
        "print(my_dict)"
      ],
      "execution_count": 0,
      "outputs": [
        {
          "output_type": "stream",
          "text": [
            "{'cats': 4, 'dogs': 2, 'sheep': 3}\n"
          ],
          "name": "stdout"
        }
      ]
    },
    {
      "cell_type": "code",
      "metadata": {
        "id": "ObA5EWGWdHFL",
        "colab_type": "code",
        "outputId": "b24e9e11-395c-461f-c8ad-bc36e258e830",
        "colab": {
          "base_uri": "https://localhost:8080/",
          "height": 34
        }
      },
      "source": [
        "print(my_dict[\"cats\"])"
      ],
      "execution_count": 0,
      "outputs": [
        {
          "output_type": "stream",
          "text": [
            "4\n"
          ],
          "name": "stdout"
        }
      ]
    },
    {
      "cell_type": "code",
      "metadata": {
        "id": "VNSCBGHSdHFN",
        "colab_type": "code",
        "outputId": "bb9f081a-86d8-49be-8eb4-ab6ae9eac458",
        "colab": {
          "base_uri": "https://localhost:8080/",
          "height": 34
        }
      },
      "source": [
        "my_dict['horse'] = 3; print(sorted(my_dict))"
      ],
      "execution_count": 0,
      "outputs": [
        {
          "output_type": "stream",
          "text": [
            "['cats', 'dogs', 'horse', 'sheep']\n"
          ],
          "name": "stdout"
        }
      ]
    },
    {
      "cell_type": "code",
      "metadata": {
        "id": "sIfUBr5DdHFR",
        "colab_type": "code",
        "outputId": "39697957-3812-402f-a5dc-3adbe923461a",
        "colab": {
          "base_uri": "https://localhost:8080/",
          "height": 68
        }
      },
      "source": [
        "print(my_dict.keys()); print(my_dict.values())\n",
        "print(sorted(my_dict.values()))\n"
      ],
      "execution_count": 0,
      "outputs": [
        {
          "output_type": "stream",
          "text": [
            "dict_keys(['cats', 'dogs', 'sheep', 'horse'])\n",
            "dict_values([4, 2, 3, 3])\n",
            "[2, 3, 3, 4]\n"
          ],
          "name": "stdout"
        }
      ]
    },
    {
      "cell_type": "code",
      "metadata": {
        "id": "zsD9iVhudHFT",
        "colab_type": "code",
        "outputId": "4cc9d4df-eb95-4014-9a32-7f392228872e",
        "colab": {
          "base_uri": "https://localhost:8080/",
          "height": 85
        }
      },
      "source": [
        "for key, value in my_dict.items():\n",
        "    print(key, value)"
      ],
      "execution_count": 0,
      "outputs": [
        {
          "output_type": "stream",
          "text": [
            "cats 4\n",
            "dogs 2\n",
            "sheep 3\n",
            "horse 3\n"
          ],
          "name": "stdout"
        }
      ]
    },
    {
      "cell_type": "markdown",
      "metadata": {
        "id": "cQLT2e0XUQ1J",
        "colab_type": "text"
      },
      "source": [
        "\n",
        " [top](#top) "
      ]
    },
    {
      "cell_type": "markdown",
      "metadata": {
        "id": "Rqz5LcVEdHFX",
        "colab_type": "text"
      },
      "source": [
        "<a id='file'></a>\n",
        "## Files\n",
        "* file open, close, read, write\n",
        "* file_handle = open(“file_name”, ‘mode’)\n",
        "    * Modes: \n",
        "    * a: append\n",
        "    * r: read only (error if not existing)\n",
        "    * w: write only\n",
        "    * r+: read/write (error if not existing)\n",
        "    * w+: read/write\n",
        "    * b: binary\n",
        "* Python has a built-in garbage collector\n",
        "* Object memory space is auto reclaimed once a file is no longer in use \n",
        "    "
      ]
    },
    {
      "cell_type": "code",
      "metadata": {
        "id": "Vyss2yB8ptAk",
        "colab_type": "code",
        "outputId": "e193a48b-d6f9-48bc-f579-44bf40e04437",
        "colab": {
          "base_uri": "https://localhost:8080/",
          "height": 224
        }
      },
      "source": [
        "! if [ ! -f \"data.txt\" ]; then wget 'https://raw.githubusercontent.com/lsuhpchelp/lbrnloniworkshop2018/master/day2_python/data.txt'; else echo 'file exists'; fi;"
      ],
      "execution_count": 0,
      "outputs": [
        {
          "output_type": "stream",
          "text": [
            "--2020-06-01 16:26:08--  https://raw.githubusercontent.com/lsuhpchelp/lbrnloniworkshop2018/master/day2_python/data.txt\n",
            "Resolving raw.githubusercontent.com (raw.githubusercontent.com)... 151.101.0.133, 151.101.64.133, 151.101.128.133, ...\n",
            "Connecting to raw.githubusercontent.com (raw.githubusercontent.com)|151.101.0.133|:443... connected.\n",
            "HTTP request sent, awaiting response... 200 OK\n",
            "Length: 630 [text/plain]\n",
            "Saving to: ‘data.txt’\n",
            "\n",
            "\rdata.txt              0%[                    ]       0  --.-KB/s               \rdata.txt            100%[===================>]     630  --.-KB/s    in 0s      \n",
            "\n",
            "2020-06-01 16:26:08 (31.5 MB/s) - ‘data.txt’ saved [630/630]\n",
            "\n"
          ],
          "name": "stdout"
        }
      ]
    },
    {
      "cell_type": "code",
      "metadata": {
        "id": "gV_4i_lqdHFX",
        "colab_type": "code",
        "outputId": "8263e78f-7f49-437c-9cce-33f2e57d5d69",
        "colab": {
          "base_uri": "https://localhost:8080/",
          "height": 493
        }
      },
      "source": [
        "input = open('data.txt', 'r')\n",
        "content = input.read()\n",
        "input.close()\n",
        "print(content)"
      ],
      "execution_count": 0,
      "outputs": [
        {
          "output_type": "stream",
          "text": [
            "#  x01.txt\n",
            "#    Academic Press, 1991, page 304,\n",
            "#    ISBN 0-12-656460-4.\n",
            "#    There are 62 rows of data.  The 3 data columns include:\n",
            "#      I,  the index,\n",
            "#      A1, the brain weight;\n",
            "#      B,  the body weight.\n",
            "#    We seek a model of the form:\n",
            "#\n",
            "#      B = A1 * X1.\n",
            "#\n",
            "3 columns\n",
            "62 rows\n",
            "Index\n",
            "Brain Weight\n",
            "Body Weight\n",
            "# here is the training set\n",
            " 1     3.385    44.500 abjhk\n",
            " 2     0.480    33.38  bc_00asdk\n",
            " 3     1.350     8.100 fb\n",
            " 4   465.000   423.000 cer\n",
            " 5    36.330   119.500 rg\n",
            "# here is the cross validation set\n",
            " 6    27.660   115.000 rk\n",
            " 7    14.830    98.200 fff\n",
            " 8     1.040     5.500 zxs\n",
            " 9     4.190    58.000 kij\n",
            "\n"
          ],
          "name": "stdout"
        }
      ]
    },
    {
      "cell_type": "code",
      "metadata": {
        "id": "XhJGF4bRdHFZ",
        "colab_type": "code",
        "outputId": "be556b8b-7248-4897-d8d4-30a7235edd84",
        "colab": {
          "base_uri": "https://localhost:8080/",
          "height": 85
        }
      },
      "source": [
        "#write to a file\n",
        "output = open('write.txt','w')\n",
        "output.write(\"Writing to a file\")\n",
        "output.close()\n",
        "!ls -l\n"
      ],
      "execution_count": 0,
      "outputs": [
        {
          "output_type": "stream",
          "text": [
            "total 12\n",
            "-rw-r--r-- 1 root root  630 Jun  1 16:26 data.txt\n",
            "drwxr-xr-x 1 root root 4096 May 27 16:27 sample_data\n",
            "-rw-r--r-- 1 root root   17 Jun  1 16:32 write.txt\n"
          ],
          "name": "stdout"
        }
      ]
    },
    {
      "cell_type": "code",
      "metadata": {
        "id": "JvEz0kqRu3n5",
        "colab_type": "code",
        "outputId": "a7c29d1c-df40-4302-91c0-87dffba56214",
        "colab": {
          "base_uri": "https://localhost:8080/",
          "height": 34
        }
      },
      "source": [
        "!cat write.txt"
      ],
      "execution_count": 0,
      "outputs": [
        {
          "output_type": "stream",
          "text": [
            "Writing to a file"
          ],
          "name": "stdout"
        }
      ]
    },
    {
      "cell_type": "markdown",
      "metadata": {
        "id": "cFU44ybwUTuv",
        "colab_type": "text"
      },
      "source": [
        "\n",
        " [top](#top) "
      ]
    },
    {
      "cell_type": "markdown",
      "metadata": {
        "id": "8sIJ4A57dHFk",
        "colab_type": "text"
      },
      "source": [
        "<a id='module'> </a>\n",
        "## Functions\n",
        "def func_name(par1, par2,...): \n",
        "> body of code\n",
        "\n",
        "\n",
        " \n",
        "\n",
        "\n",
        "\n",
        " [top](#top)    \n",
        "    "
      ]
    },
    {
      "cell_type": "code",
      "metadata": {
        "id": "B5Hf5RZLdHFk",
        "colab_type": "code",
        "outputId": "2eb73025-b718-4a27-945c-00c54179ce91",
        "colab": {
          "base_uri": "https://localhost:8080/",
          "height": 34
        }
      },
      "source": [
        "#addition\n",
        "def my_add(x, y):\n",
        "    return x+y\n",
        "\n",
        "sum=my_add(3, 8); print(sum)"
      ],
      "execution_count": 0,
      "outputs": [
        {
          "output_type": "stream",
          "text": [
            "11\n"
          ],
          "name": "stdout"
        }
      ]
    },
    {
      "cell_type": "code",
      "metadata": {
        "id": "5lyjqDO4dHFm",
        "colab_type": "code",
        "outputId": "3d91153f-f811-4043-c3ed-ff214bea537e",
        "colab": {
          "base_uri": "https://localhost:8080/",
          "height": 34
        }
      },
      "source": [
        "#return multiple values\n",
        "def power(input):\n",
        "    return input**2, input**3\n",
        "\n",
        "square, cube = power(3)\n",
        "print(\"square =\",square, \"cube =\",cube)"
      ],
      "execution_count": 0,
      "outputs": [
        {
          "output_type": "stream",
          "text": [
            "square = 9 cube = 27\n"
          ],
          "name": "stdout"
        }
      ]
    },
    {
      "cell_type": "markdown",
      "metadata": {
        "id": "_73RPOcBdHFn",
        "colab_type": "text"
      },
      "source": [
        "<a id='module'> </a>\n",
        "## Python Module\n",
        "* A python script with python functions and statements\n",
        "* Import a module before having access to all the functions within\n",
        "* Most Python distributions come with plenty of build-in modules \n",
        "***\n"
      ]
    },
    {
      "cell_type": "markdown",
      "metadata": {
        "id": "h9s2tfPcdHFo",
        "colab_type": "text"
      },
      "source": [
        "\n",
        "## Python Modules\n",
        "* math, sys, os..\n",
        "* NumPy, high performance in vector & matrix using vector computation \n",
        "* SciPy: based on Numpy, including many scientific algorithms.\n",
        "* padas\n",
        "* matplotlib, pyplot, pylab\n",
        "\n",
        "Reference to [Python3.x standard libraries](https://docs.python.org/3/library/) \n"
      ]
    },
    {
      "cell_type": "code",
      "metadata": {
        "id": "H9NB_NcNdHFo",
        "colab_type": "code",
        "outputId": "282ff4e2-3ec9-47e6-ace2-b50c30b44e26",
        "colab": {
          "base_uri": "https://localhost:8080/",
          "height": 34
        }
      },
      "source": [
        "#import a module\n",
        "import math\n",
        "math.sin(math.pi)"
      ],
      "execution_count": 0,
      "outputs": [
        {
          "output_type": "execute_result",
          "data": {
            "text/plain": [
              "1.2246467991473532e-16"
            ]
          },
          "metadata": {
            "tags": []
          },
          "execution_count": 63
        }
      ]
    },
    {
      "cell_type": "code",
      "metadata": {
        "id": "LZkg2iD_dHFq",
        "colab_type": "code",
        "outputId": "2ab4105f-f7ce-4488-8011-67ed84c48b06",
        "colab": {
          "base_uri": "https://localhost:8080/",
          "height": 935
        }
      },
      "source": [
        "#get information of a module\n",
        "dir(math)"
      ],
      "execution_count": 0,
      "outputs": [
        {
          "output_type": "execute_result",
          "data": {
            "text/plain": [
              "['__doc__',\n",
              " '__loader__',\n",
              " '__name__',\n",
              " '__package__',\n",
              " '__spec__',\n",
              " 'acos',\n",
              " 'acosh',\n",
              " 'asin',\n",
              " 'asinh',\n",
              " 'atan',\n",
              " 'atan2',\n",
              " 'atanh',\n",
              " 'ceil',\n",
              " 'copysign',\n",
              " 'cos',\n",
              " 'cosh',\n",
              " 'degrees',\n",
              " 'e',\n",
              " 'erf',\n",
              " 'erfc',\n",
              " 'exp',\n",
              " 'expm1',\n",
              " 'fabs',\n",
              " 'factorial',\n",
              " 'floor',\n",
              " 'fmod',\n",
              " 'frexp',\n",
              " 'fsum',\n",
              " 'gamma',\n",
              " 'gcd',\n",
              " 'hypot',\n",
              " 'inf',\n",
              " 'isclose',\n",
              " 'isfinite',\n",
              " 'isinf',\n",
              " 'isnan',\n",
              " 'ldexp',\n",
              " 'lgamma',\n",
              " 'log',\n",
              " 'log10',\n",
              " 'log1p',\n",
              " 'log2',\n",
              " 'modf',\n",
              " 'nan',\n",
              " 'pi',\n",
              " 'pow',\n",
              " 'radians',\n",
              " 'sin',\n",
              " 'sinh',\n",
              " 'sqrt',\n",
              " 'tan',\n",
              " 'tanh',\n",
              " 'tau',\n",
              " 'trunc']"
            ]
          },
          "metadata": {
            "tags": []
          },
          "execution_count": 64
        }
      ]
    },
    {
      "cell_type": "code",
      "metadata": {
        "id": "m2CnZMlldHFs",
        "colab_type": "code",
        "outputId": "771d6dbb-472d-45da-c635-3c190b77e201",
        "colab": {
          "base_uri": "https://localhost:8080/",
          "height": 1000
        }
      },
      "source": [
        "#get information\n",
        "help(math)"
      ],
      "execution_count": 0,
      "outputs": [
        {
          "output_type": "stream",
          "text": [
            "Help on built-in module math:\n",
            "\n",
            "NAME\n",
            "    math\n",
            "\n",
            "DESCRIPTION\n",
            "    This module is always available.  It provides access to the\n",
            "    mathematical functions defined by the C standard.\n",
            "\n",
            "FUNCTIONS\n",
            "    acos(...)\n",
            "        acos(x)\n",
            "        \n",
            "        Return the arc cosine (measured in radians) of x.\n",
            "    \n",
            "    acosh(...)\n",
            "        acosh(x)\n",
            "        \n",
            "        Return the inverse hyperbolic cosine of x.\n",
            "    \n",
            "    asin(...)\n",
            "        asin(x)\n",
            "        \n",
            "        Return the arc sine (measured in radians) of x.\n",
            "    \n",
            "    asinh(...)\n",
            "        asinh(x)\n",
            "        \n",
            "        Return the inverse hyperbolic sine of x.\n",
            "    \n",
            "    atan(...)\n",
            "        atan(x)\n",
            "        \n",
            "        Return the arc tangent (measured in radians) of x.\n",
            "    \n",
            "    atan2(...)\n",
            "        atan2(y, x)\n",
            "        \n",
            "        Return the arc tangent (measured in radians) of y/x.\n",
            "        Unlike atan(y/x), the signs of both x and y are considered.\n",
            "    \n",
            "    atanh(...)\n",
            "        atanh(x)\n",
            "        \n",
            "        Return the inverse hyperbolic tangent of x.\n",
            "    \n",
            "    ceil(...)\n",
            "        ceil(x)\n",
            "        \n",
            "        Return the ceiling of x as an Integral.\n",
            "        This is the smallest integer >= x.\n",
            "    \n",
            "    copysign(...)\n",
            "        copysign(x, y)\n",
            "        \n",
            "        Return a float with the magnitude (absolute value) of x but the sign \n",
            "        of y. On platforms that support signed zeros, copysign(1.0, -0.0) \n",
            "        returns -1.0.\n",
            "    \n",
            "    cos(...)\n",
            "        cos(x)\n",
            "        \n",
            "        Return the cosine of x (measured in radians).\n",
            "    \n",
            "    cosh(...)\n",
            "        cosh(x)\n",
            "        \n",
            "        Return the hyperbolic cosine of x.\n",
            "    \n",
            "    degrees(...)\n",
            "        degrees(x)\n",
            "        \n",
            "        Convert angle x from radians to degrees.\n",
            "    \n",
            "    erf(...)\n",
            "        erf(x)\n",
            "        \n",
            "        Error function at x.\n",
            "    \n",
            "    erfc(...)\n",
            "        erfc(x)\n",
            "        \n",
            "        Complementary error function at x.\n",
            "    \n",
            "    exp(...)\n",
            "        exp(x)\n",
            "        \n",
            "        Return e raised to the power of x.\n",
            "    \n",
            "    expm1(...)\n",
            "        expm1(x)\n",
            "        \n",
            "        Return exp(x)-1.\n",
            "        This function avoids the loss of precision involved in the direct evaluation of exp(x)-1 for small x.\n",
            "    \n",
            "    fabs(...)\n",
            "        fabs(x)\n",
            "        \n",
            "        Return the absolute value of the float x.\n",
            "    \n",
            "    factorial(...)\n",
            "        factorial(x) -> Integral\n",
            "        \n",
            "        Find x!. Raise a ValueError if x is negative or non-integral.\n",
            "    \n",
            "    floor(...)\n",
            "        floor(x)\n",
            "        \n",
            "        Return the floor of x as an Integral.\n",
            "        This is the largest integer <= x.\n",
            "    \n",
            "    fmod(...)\n",
            "        fmod(x, y)\n",
            "        \n",
            "        Return fmod(x, y), according to platform C.  x % y may differ.\n",
            "    \n",
            "    frexp(...)\n",
            "        frexp(x)\n",
            "        \n",
            "        Return the mantissa and exponent of x, as pair (m, e).\n",
            "        m is a float and e is an int, such that x = m * 2.**e.\n",
            "        If x is 0, m and e are both 0.  Else 0.5 <= abs(m) < 1.0.\n",
            "    \n",
            "    fsum(...)\n",
            "        fsum(iterable)\n",
            "        \n",
            "        Return an accurate floating point sum of values in the iterable.\n",
            "        Assumes IEEE-754 floating point arithmetic.\n",
            "    \n",
            "    gamma(...)\n",
            "        gamma(x)\n",
            "        \n",
            "        Gamma function at x.\n",
            "    \n",
            "    gcd(...)\n",
            "        gcd(x, y) -> int\n",
            "        greatest common divisor of x and y\n",
            "    \n",
            "    hypot(...)\n",
            "        hypot(x, y)\n",
            "        \n",
            "        Return the Euclidean distance, sqrt(x*x + y*y).\n",
            "    \n",
            "    isclose(...)\n",
            "        isclose(a, b, *, rel_tol=1e-09, abs_tol=0.0) -> bool\n",
            "        \n",
            "        Determine whether two floating point numbers are close in value.\n",
            "        \n",
            "           rel_tol\n",
            "               maximum difference for being considered \"close\", relative to the\n",
            "               magnitude of the input values\n",
            "            abs_tol\n",
            "               maximum difference for being considered \"close\", regardless of the\n",
            "               magnitude of the input values\n",
            "        \n",
            "        Return True if a is close in value to b, and False otherwise.\n",
            "        \n",
            "        For the values to be considered close, the difference between them\n",
            "        must be smaller than at least one of the tolerances.\n",
            "        \n",
            "        -inf, inf and NaN behave similarly to the IEEE 754 Standard.  That\n",
            "        is, NaN is not close to anything, even itself.  inf and -inf are\n",
            "        only close to themselves.\n",
            "    \n",
            "    isfinite(...)\n",
            "        isfinite(x) -> bool\n",
            "        \n",
            "        Return True if x is neither an infinity nor a NaN, and False otherwise.\n",
            "    \n",
            "    isinf(...)\n",
            "        isinf(x) -> bool\n",
            "        \n",
            "        Return True if x is a positive or negative infinity, and False otherwise.\n",
            "    \n",
            "    isnan(...)\n",
            "        isnan(x) -> bool\n",
            "        \n",
            "        Return True if x is a NaN (not a number), and False otherwise.\n",
            "    \n",
            "    ldexp(...)\n",
            "        ldexp(x, i)\n",
            "        \n",
            "        Return x * (2**i).\n",
            "    \n",
            "    lgamma(...)\n",
            "        lgamma(x)\n",
            "        \n",
            "        Natural logarithm of absolute value of Gamma function at x.\n",
            "    \n",
            "    log(...)\n",
            "        log(x[, base])\n",
            "        \n",
            "        Return the logarithm of x to the given base.\n",
            "        If the base not specified, returns the natural logarithm (base e) of x.\n",
            "    \n",
            "    log10(...)\n",
            "        log10(x)\n",
            "        \n",
            "        Return the base 10 logarithm of x.\n",
            "    \n",
            "    log1p(...)\n",
            "        log1p(x)\n",
            "        \n",
            "        Return the natural logarithm of 1+x (base e).\n",
            "        The result is computed in a way which is accurate for x near zero.\n",
            "    \n",
            "    log2(...)\n",
            "        log2(x)\n",
            "        \n",
            "        Return the base 2 logarithm of x.\n",
            "    \n",
            "    modf(...)\n",
            "        modf(x)\n",
            "        \n",
            "        Return the fractional and integer parts of x.  Both results carry the sign\n",
            "        of x and are floats.\n",
            "    \n",
            "    pow(...)\n",
            "        pow(x, y)\n",
            "        \n",
            "        Return x**y (x to the power of y).\n",
            "    \n",
            "    radians(...)\n",
            "        radians(x)\n",
            "        \n",
            "        Convert angle x from degrees to radians.\n",
            "    \n",
            "    sin(...)\n",
            "        sin(x)\n",
            "        \n",
            "        Return the sine of x (measured in radians).\n",
            "    \n",
            "    sinh(...)\n",
            "        sinh(x)\n",
            "        \n",
            "        Return the hyperbolic sine of x.\n",
            "    \n",
            "    sqrt(...)\n",
            "        sqrt(x)\n",
            "        \n",
            "        Return the square root of x.\n",
            "    \n",
            "    tan(...)\n",
            "        tan(x)\n",
            "        \n",
            "        Return the tangent of x (measured in radians).\n",
            "    \n",
            "    tanh(...)\n",
            "        tanh(x)\n",
            "        \n",
            "        Return the hyperbolic tangent of x.\n",
            "    \n",
            "    trunc(...)\n",
            "        trunc(x:Real) -> Integral\n",
            "        \n",
            "        Truncates x to the nearest Integral toward 0. Uses the __trunc__ magic method.\n",
            "\n",
            "DATA\n",
            "    e = 2.718281828459045\n",
            "    inf = inf\n",
            "    nan = nan\n",
            "    pi = 3.141592653589793\n",
            "    tau = 6.283185307179586\n",
            "\n",
            "FILE\n",
            "    (built-in)\n",
            "\n",
            "\n"
          ],
          "name": "stdout"
        }
      ]
    },
    {
      "cell_type": "code",
      "metadata": {
        "raw_mimetype": "text/x-python",
        "id": "fL7e1I0IdHFt",
        "colab_type": "code",
        "outputId": "0590229f-17bd-43d6-ba53-0d62ea64b1bb",
        "colab": {
          "base_uri": "https://localhost:8080/",
          "height": 1000
        }
      },
      "source": [
        "# get information of a module function \n",
        "help(range)"
      ],
      "execution_count": 0,
      "outputs": [
        {
          "output_type": "stream",
          "text": [
            "Help on class range in module builtins:\n",
            "\n",
            "class range(object)\n",
            " |  range(stop) -> range object\n",
            " |  range(start, stop[, step]) -> range object\n",
            " |  \n",
            " |  Return an object that produces a sequence of integers from start (inclusive)\n",
            " |  to stop (exclusive) by step.  range(i, j) produces i, i+1, i+2, ..., j-1.\n",
            " |  start defaults to 0, and stop is omitted!  range(4) produces 0, 1, 2, 3.\n",
            " |  These are exactly the valid indices for a list of 4 elements.\n",
            " |  When step is given, it specifies the increment (or decrement).\n",
            " |  \n",
            " |  Methods defined here:\n",
            " |  \n",
            " |  __bool__(self, /)\n",
            " |      self != 0\n",
            " |  \n",
            " |  __contains__(self, key, /)\n",
            " |      Return key in self.\n",
            " |  \n",
            " |  __eq__(self, value, /)\n",
            " |      Return self==value.\n",
            " |  \n",
            " |  __ge__(self, value, /)\n",
            " |      Return self>=value.\n",
            " |  \n",
            " |  __getattribute__(self, name, /)\n",
            " |      Return getattr(self, name).\n",
            " |  \n",
            " |  __getitem__(self, key, /)\n",
            " |      Return self[key].\n",
            " |  \n",
            " |  __gt__(self, value, /)\n",
            " |      Return self>value.\n",
            " |  \n",
            " |  __hash__(self, /)\n",
            " |      Return hash(self).\n",
            " |  \n",
            " |  __iter__(self, /)\n",
            " |      Implement iter(self).\n",
            " |  \n",
            " |  __le__(self, value, /)\n",
            " |      Return self<=value.\n",
            " |  \n",
            " |  __len__(self, /)\n",
            " |      Return len(self).\n",
            " |  \n",
            " |  __lt__(self, value, /)\n",
            " |      Return self<value.\n",
            " |  \n",
            " |  __ne__(self, value, /)\n",
            " |      Return self!=value.\n",
            " |  \n",
            " |  __new__(*args, **kwargs) from builtins.type\n",
            " |      Create and return a new object.  See help(type) for accurate signature.\n",
            " |  \n",
            " |  __reduce__(...)\n",
            " |      helper for pickle\n",
            " |  \n",
            " |  __repr__(self, /)\n",
            " |      Return repr(self).\n",
            " |  \n",
            " |  __reversed__(...)\n",
            " |      Return a reverse iterator.\n",
            " |  \n",
            " |  count(...)\n",
            " |      rangeobject.count(value) -> integer -- return number of occurrences of value\n",
            " |  \n",
            " |  index(...)\n",
            " |      rangeobject.index(value, [start, [stop]]) -> integer -- return index of value.\n",
            " |      Raise ValueError if the value is not present.\n",
            " |  \n",
            " |  ----------------------------------------------------------------------\n",
            " |  Data descriptors defined here:\n",
            " |  \n",
            " |  start\n",
            " |  \n",
            " |  step\n",
            " |  \n",
            " |  stop\n",
            "\n"
          ],
          "name": "stdout"
        }
      ]
    },
    {
      "cell_type": "markdown",
      "metadata": {
        "id": "vrDWNnt-dHFv",
        "colab_type": "text"
      },
      "source": [
        " * Examples using os, commands modules\n",
        " * os: includes many functions interacting with the file system \n"
      ]
    },
    {
      "cell_type": "code",
      "metadata": {
        "id": "Hn34Cqtu3Zku",
        "colab_type": "code",
        "outputId": "3a6ddca9-2254-4c93-e206-f89ed422a2a2",
        "colab": {
          "base_uri": "https://localhost:8080/",
          "height": 51
        }
      },
      "source": [
        "import os\n",
        "!ls \n",
        "os.listdir()\n"
      ],
      "execution_count": 0,
      "outputs": [
        {
          "output_type": "stream",
          "text": [
            "data.txt  sample_data  write.txt\n"
          ],
          "name": "stdout"
        },
        {
          "output_type": "execute_result",
          "data": {
            "text/plain": [
              "['.config', 'data.txt', 'write.txt', 'sample_data']"
            ]
          },
          "metadata": {
            "tags": []
          },
          "execution_count": 67
        }
      ]
    },
    {
      "cell_type": "code",
      "metadata": {
        "id": "2745GC58yHrQ",
        "colab_type": "code",
        "outputId": "22df2bee-7c4b-4563-d6dc-061b01c6397b",
        "colab": {
          "base_uri": "https://localhost:8080/",
          "height": 34
        }
      },
      "source": [
        "! ls -a"
      ],
      "execution_count": 0,
      "outputs": [
        {
          "output_type": "stream",
          "text": [
            ".  ..  .config\tdata.txt  sample_data  write.txt\n"
          ],
          "name": "stdout"
        }
      ]
    },
    {
      "cell_type": "code",
      "metadata": {
        "id": "PVaDavH4dHFv",
        "colab_type": "code",
        "outputId": "f057a7f5-0cbc-478c-92a0-6f1468da5448",
        "colab": {
          "base_uri": "https://localhost:8080/",
          "height": 153
        }
      },
      "source": [
        "\n",
        "def display_dir(dir):\n",
        "      files = os.listdir()\n",
        "      for fname in files:\n",
        "        print(fname)\n",
        "        print(os.path.abspath(os.path.join(dir, fname))) \n",
        "\n",
        "display_dir('/tmp')"
      ],
      "execution_count": 0,
      "outputs": [
        {
          "output_type": "stream",
          "text": [
            ".config\n",
            "/tmp/.config\n",
            "data.txt\n",
            "/tmp/data.txt\n",
            "write.txt\n",
            "/tmp/write.txt\n",
            "sample_data\n",
            "/tmp/sample_data\n"
          ],
          "name": "stdout"
        }
      ]
    },
    {
      "cell_type": "code",
      "metadata": {
        "id": "T5063FcIyd0e",
        "colab_type": "code",
        "outputId": "c270bf31-9aa7-43fe-e6be-132ca8b287f0",
        "colab": {
          "base_uri": "https://localhost:8080/",
          "height": 493
        }
      },
      "source": [
        "! ls -l .."
      ],
      "execution_count": 0,
      "outputs": [
        {
          "output_type": "stream",
          "text": [
            "total 8056\n",
            "drwxr-xr-x   1 root root    4096 May 27 16:19 bin\n",
            "drwxr-xr-x   2 root root    4096 Apr 24  2018 boot\n",
            "drwxr-xr-x   1 root root    4096 Jun  1 16:32 content\n",
            "drwxr-xr-x   1 root root    4096 May 27 16:56 datalab\n",
            "drwxr-xr-x   5 root root     360 Jun  1 14:48 dev\n",
            "-rw-r--r--   1 root root 4078115 May 27 16:27 dlib-19.18.0-cp27-cp27mu-linux_x86_64.whl\n",
            "-rw-r--r--   1 root root 4068717 May 27 16:27 dlib-19.18.0-cp36-cp36m-linux_x86_64.whl\n",
            "drwxr-xr-x   1 root root    4096 Jun  1 14:48 etc\n",
            "drwxr-xr-x   2 root root    4096 Apr 24  2018 home\n",
            "drwxr-xr-x   1 root root    4096 May 27 16:21 lib\n",
            "drwxr-xr-x   2 root root    4096 May 27 16:15 lib32\n",
            "drwxr-xr-x   2 root root    4096 Oct 29  2019 lib64\n",
            "drwxr-xr-x   2 root root    4096 Oct 29  2019 media\n",
            "drwxr-xr-x   2 root root    4096 Oct 29  2019 mnt\n",
            "drwxr-xr-x   1 root root    4096 May 27 16:22 opt\n",
            "dr-xr-xr-x 112 root root       0 Jun  1 14:48 proc\n",
            "drwx------   1 root root    4096 Jun  1 16:26 root\n",
            "drwxr-xr-x   1 root root    4096 May 27 16:16 run\n",
            "drwxr-xr-x   1 root root    4096 May 27 16:19 sbin\n",
            "drwxr-xr-x   2 root root    4096 Oct 29  2019 srv\n",
            "drwxr-xr-x   4 root root    4096 May 27 16:56 swift\n",
            "dr-xr-xr-x  12 root root       0 Jun  1 14:48 sys\n",
            "drwxr-xr-x   4 root root    4096 May 27 16:51 tensorflow-1.15.2\n",
            "drwxrwxrwt   1 root root    4096 Jun  1 14:48 tmp\n",
            "drwxr-xr-x   1 root root    4096 May 27 16:56 tools\n",
            "drwxr-xr-x   1 root root    4096 May 27 16:22 usr\n",
            "drwxr-xr-x   1 root root    4096 Jun  1 14:48 var\n"
          ],
          "name": "stdout"
        }
      ]
    },
    {
      "cell_type": "code",
      "metadata": {
        "id": "-6_BVn8hyjqh",
        "colab_type": "code",
        "outputId": "bc8f03b1-5c46-49b2-809f-c0c853527537",
        "colab": {
          "base_uri": "https://localhost:8080/",
          "height": 34
        }
      },
      "source": [
        "ls -l ../home"
      ],
      "execution_count": 0,
      "outputs": [
        {
          "output_type": "stream",
          "text": [
            "total 0\n"
          ],
          "name": "stdout"
        }
      ]
    },
    {
      "cell_type": "markdown",
      "metadata": {
        "id": "zwaa9zsfUl6e",
        "colab_type": "text"
      },
      "source": [
        " [top](#top)"
      ]
    },
    {
      "cell_type": "markdown",
      "metadata": {
        "id": "zt4YHVYPdHGR",
        "colab_type": "text"
      },
      "source": [
        "#### Data processing\n"
      ]
    },
    {
      "cell_type": "code",
      "metadata": {
        "id": "vkXjWnr_dHGZ",
        "colab_type": "code",
        "outputId": "45106622-c89f-4391-94e4-9a7f1ca102e3",
        "colab": {
          "base_uri": "https://localhost:8080/",
          "height": 295
        }
      },
      "source": [
        "# Plot a bar chart\n",
        "import matplotlib.pyplot as plt\n",
        "\n",
        "\n",
        "xlabeles = ['January','February','March','April']\n",
        "xticks = [i for i in range(len(xlabeles))]\n",
        "y = [ 34, 17, 13, 69]\n",
        "e = [5.2, 10., 1.5, 12.]\n",
        "plt.errorbar(xlabeles, y, yerr=e, fmt='d', capsize=10)\n",
        "plt.bar(xlabeles, y, 0.5, color='red' )\n",
        "plt.title(\"Sale by Month\")\n",
        "plt.xlabel('Month')\n",
        "plt.ylabel('Sale')\n",
        "plt.xticks(xticks, xlabeles)\n",
        "\n",
        "plt.show()"
      ],
      "execution_count": 0,
      "outputs": [
        {
          "output_type": "display_data",
          "data": {
            "image/png": "[encoded data removed]",
            "text/plain": [
              "<Figure size 432x288 with 1 Axes>"
            ]
          },
          "metadata": {
            "tags": [],
            "needs_background": "light"
          }
        }
      ]
    },
    {
      "cell_type": "markdown",
      "metadata": {
        "id": "z2hDr0HlUoNI",
        "colab_type": "text"
      },
      "source": [
        " [top](#top)"
      ]
    },
    {
      "cell_type": "markdown",
      "metadata": {
        "id": "z-YuCy6W7r_f",
        "colab_type": "text"
      },
      "source": [
        "# Examples:   Please solve the following problems:  (Feel free to ask for help)"
      ]
    },
    {
      "cell_type": "markdown",
      "metadata": {
        "id": "qjp7hzS47u0F",
        "colab_type": "text"
      },
      "source": [
        "Write a line of code to print the sum of 999 and 1600"
      ]
    },
    {
      "cell_type": "code",
      "metadata": {
        "id": "4ULjgwxwdHGe",
        "colab_type": "code",
        "outputId": "a0106bec-0ded-4c36-819e-abe08d6e1f35",
        "colab": {
          "base_uri": "https://localhost:8080/",
          "height": 34
        }
      },
      "source": [
        "print(99 + 100)"
      ],
      "execution_count": 0,
      "outputs": [
        {
          "output_type": "stream",
          "text": [
            "199\n"
          ],
          "name": "stdout"
        }
      ]
    },
    {
      "cell_type": "markdown",
      "metadata": {
        "id": "656RSHJU8A6u",
        "colab_type": "text"
      },
      "source": [
        "Write a line of code to print out your \"Hello Name\" where Name is your name."
      ]
    },
    {
      "cell_type": "code",
      "metadata": {
        "id": "Jgz-6j7R8Lkl",
        "colab_type": "code",
        "outputId": "c26ce33a-6112-4fec-b625-33fc2d1098d0",
        "colab": {
          "base_uri": "https://localhost:8080/",
          "height": 34
        }
      },
      "source": [
        "print(\"Hello your name\")"
      ],
      "execution_count": 0,
      "outputs": [
        {
          "output_type": "stream",
          "text": [
            "Hello your name\n"
          ],
          "name": "stdout"
        }
      ]
    },
    {
      "cell_type": "markdown",
      "metadata": {
        "id": "yFuPURle7zqJ",
        "colab_type": "text"
      },
      "source": [
        "Write a code snippet to calculate the total of the shopping spree on Rodeo Dr. You bought:\n",
        "\n",
        "1 pair of shoes:  2400<br>\n",
        "1𝑝𝑎𝑖𝑟𝑜𝑓𝑠𝑙𝑎𝑐𝑘𝑠: 1500<br>\n",
        "ruby ring: 22000\n",
        "\n",
        "State and local tax is 22%.\n",
        "\n",
        "You want to print out the untaxed total, the amount of tax and the total of tax and goods."
      ]
    },
    {
      "cell_type": "code",
      "metadata": {
        "id": "pYMY_OUd73kz",
        "colab_type": "code",
        "outputId": "eb82a6ed-6ea6-4024-b9e2-018b537339fe",
        "colab": {
          "base_uri": "https://localhost:8080/",
          "height": 68
        }
      },
      "source": [
        "shoppingList = [2400, 1500, 22000]\n",
        "if \"sum\" in locals():\n",
        "  del sum\n",
        "untaxedTotal = sum(shoppingList); print(\"untaxed total:\", untaxedTotal)\n",
        "tax = 0.22 * untaxedTotal; print(\"amount of tax: %.2f\" %tax)\n",
        "taxAndTotal = untaxedTotal + tax; print(\"total of tax and goods: %.2f\" %taxAndTotal)"
      ],
      "execution_count": 0,
      "outputs": [
        {
          "output_type": "stream",
          "text": [
            "untaxed total: 25900\n",
            "amount of tax: 5698.00\n",
            "total of tax and goods: 31598.00\n"
          ],
          "name": "stdout"
        }
      ]
    },
    {
      "cell_type": "markdown",
      "metadata": {
        "id": "m4IW9ndv74e4",
        "colab_type": "text"
      },
      "source": [
        "Using the code you wrote above make the tax calculation a function block and the shopping total a function block"
      ]
    },
    {
      "cell_type": "code",
      "metadata": {
        "id": "N6o9yVbt778T",
        "colab_type": "code",
        "outputId": "4858bbbc-9654-4139-d5b8-a8bf792f5346",
        "colab": {
          "base_uri": "https://localhost:8080/",
          "height": 68
        }
      },
      "source": [
        "#calculateTax\n",
        "def calculateTax(amount):\n",
        "    return amount * 0.22\n",
        "#shopping total\n",
        "def shoppingTotal(amountList):\n",
        "  return sum(amountList)\n",
        "untaxedTotal2 = shoppingTotal(shoppingList); print(\"unataxed total: %.2f\" %untaxedTotal2)\n",
        "tax2 = calculateTax(untaxedTotal2); print(\"amount of tax: %.2f\" %tax2)\n",
        "taxAndTotal2 = shoppingTotal([untaxedTotal2, tax2]); print(\"total of tax and goods: %.2f\" %taxAndTotal2)"
      ],
      "execution_count": 0,
      "outputs": [
        {
          "output_type": "stream",
          "text": [
            "unataxed total: 25900.00\n",
            "amount of tax: 5698.00\n",
            "total of tax and goods: 31598.00\n"
          ],
          "name": "stdout"
        }
      ]
    },
    {
      "cell_type": "markdown",
      "metadata": {
        "id": "g-O1_Ffa78wV",
        "colab_type": "text"
      },
      "source": [
        "**Create a leap year finder based on the following algorithm:\n",
        "\n",
        "Leap years occur according to the following formula: a leap year is divisible by four, but not by one hundred, unless it is divisible by four hundred. For example, 1992, 1996, and 2000 are leap years, but 1993 and 1900 are not. The next leap year that falls on a century will be 2400.\n",
        "\n",
        "Use the following list to check and see if your code is correct.  The list of leap years from 1900 to 2400 inclusive is:\n",
        "\n",
        "1904, 1908, 1912, 1916, 1920, 1924, 1928, 1932, 1936, 1940, 1944, 1948, 1952, 1956, 1960, 1964, 1968, 1972, 1976, 1980, 1984, 1988, 1992, 1996, 2000, 2004, 2008, 2012, 2016, 2020"
      ]
    },
    {
      "cell_type": "code",
      "metadata": {
        "id": "h0JhVFbH8g6h",
        "colab_type": "code",
        "outputId": "46e95d7d-eca5-45d2-9e36-101c1822c06d",
        "colab": {
          "base_uri": "https://localhost:8080/",
          "height": 527
        }
      },
      "source": [
        "def findLeapYears(start, end):\n",
        "  result=[]\n",
        "  for candidate in range(start, end +1):\n",
        "    if candidate % 4 == 0 and (\n",
        "        candidate % 100 != 0 or candidate % 400 == 0):\n",
        "      result.append(candidate)\n",
        "  return(result)\n",
        "findLeapYears(1900, 2020)"
      ],
      "execution_count": 0,
      "outputs": [
        {
          "output_type": "execute_result",
          "data": {
            "text/plain": [
              "[1904,\n",
              " 1908,\n",
              " 1912,\n",
              " 1916,\n",
              " 1920,\n",
              " 1924,\n",
              " 1928,\n",
              " 1932,\n",
              " 1936,\n",
              " 1940,\n",
              " 1944,\n",
              " 1948,\n",
              " 1952,\n",
              " 1956,\n",
              " 1960,\n",
              " 1964,\n",
              " 1968,\n",
              " 1972,\n",
              " 1976,\n",
              " 1980,\n",
              " 1984,\n",
              " 1988,\n",
              " 1992,\n",
              " 1996,\n",
              " 2000,\n",
              " 2004,\n",
              " 2008,\n",
              " 2012,\n",
              " 2016,\n",
              " 2020]"
            ]
          },
          "metadata": {
            "tags": []
          },
          "execution_count": 99
        }
      ]
    },
    {
      "cell_type": "markdown",
      "metadata": {
        "id": "6W1d-2RS0pp-",
        "colab_type": "text"
      },
      "source": [
        "Using the code in the prime number example in the Control Structures section fix the code so it only prints out each prime number once."
      ]
    },
    {
      "cell_type": "code",
      "metadata": {
        "id": "laSeZK3R0oHZ",
        "colab_type": "code",
        "outputId": "b9173c24-b023-47a0-d236-eef7cf2dcaf0",
        "colab": {
          "base_uri": "https://localhost:8080/",
          "height": 85
        }
      },
      "source": [
        "#prime numbers\n",
        "import math\n",
        "n = 2\n",
        "while n < 10:\n",
        "    prime = True\n",
        "    for x in range(2,math.floor(n/2) +1):\n",
        "        if n % x == 0:\n",
        "            prime = False\n",
        "            break\n",
        "    if prime:\n",
        "        print(n, 'is a prime #')\n",
        "        pass\n",
        "    else:\n",
        "        n= n + 1\n",
        "        continue\n",
        "    n = n + 1"
      ],
      "execution_count": 0,
      "outputs": [
        {
          "output_type": "stream",
          "text": [
            "2 is a prime #\n",
            "3 is a prime #\n",
            "5 is a prime #\n",
            "7 is a prime #\n"
          ],
          "name": "stdout"
        }
      ]
    },
    {
      "cell_type": "markdown",
      "metadata": {
        "id": "ytwnosgAUuz9",
        "colab_type": "text"
      },
      "source": [
        " [top](#top)"
      ]
    }
  ]
}